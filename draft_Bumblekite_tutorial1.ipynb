{
 "cells": [
  {
   "cell_type": "markdown",
   "id": "5e7f92a6",
   "metadata": {
    "jp-MarkdownHeadingCollapsed": true
   },
   "source": [
    "# Loading the dependencies and libraries "
   ]
  },
  {
   "cell_type": "code",
   "execution_count": 3,
   "id": "c1519ada-8324-415d-a875-c90c636a3e41",
   "metadata": {},
   "outputs": [],
   "source": [
    "#### Make sure you are in the right env kernel"
   ]
  },
  {
   "cell_type": "code",
   "execution_count": 4,
   "id": "c76671ec",
   "metadata": {},
   "outputs": [],
   "source": [
    "import sklearn \n",
    "import pandas as pd\n",
    "import matplotlib.pyplot as plt \n",
    "import numpy as np \n",
    "import seaborn as sns\n",
    "from tableone import TableOne\n",
    "# consider adding \n",
    "# import warnings\n",
    "# warnings.filterwarnings(\"ignore\")"
   ]
  },
  {
   "cell_type": "markdown",
   "id": "2a8ce331",
   "metadata": {
    "jp-MarkdownHeadingCollapsed": true
   },
   "source": [
    "# Loading the Data "
   ]
  },
  {
   "cell_type": "code",
   "execution_count": 5,
   "id": "0cd04d18",
   "metadata": {},
   "outputs": [],
   "source": [
    "# Path to your CSV file \n",
    "csv_path = '/Users/mac/Desktop/team_02/src/post_datathon/data/pulseox_dataset.csv'\n",
    "\n",
    "# Read the CVS file using Pandas (df: dataframe)\n",
    "df_initial = pd.read_csv (csv_path, low_memory = False) # second arg ensures that pandas reads the CSV file in one go and tries to infer the data types of the columns more accurately"
   ]
  },
  {
   "cell_type": "markdown",
   "id": "88b12e56",
   "metadata": {},
   "source": [
    "# Pre Processing \n",
    "\n",
    "\n",
    "Note: This section is included for reference only and will not be part of the final tutorial due to time constraints for data preprocessing during the 45-minute session. Participants will receive this notebook separately to run it, obtain the dataset, load it, and then proceed with the tutorial analysis."
   ]
  },
  {
   "cell_type": "code",
   "execution_count": 6,
   "id": "9d79a732",
   "metadata": {},
   "outputs": [
    {
     "data": {
      "text/html": [
       "<div>\n",
       "<style scoped>\n",
       "    .dataframe tbody tr th:only-of-type {\n",
       "        vertical-align: middle;\n",
       "    }\n",
       "\n",
       "    .dataframe tbody tr th {\n",
       "        vertical-align: top;\n",
       "    }\n",
       "\n",
       "    .dataframe thead th {\n",
       "        text-align: right;\n",
       "    }\n",
       "</style>\n",
       "<table border=\"1\" class=\"dataframe\">\n",
       "  <thead>\n",
       "    <tr style=\"text-align: right;\">\n",
       "      <th></th>\n",
       "      <th>unique_subject_id</th>\n",
       "      <th>unique_hospital_admission_id</th>\n",
       "      <th>unique_icustay_id</th>\n",
       "      <th>subject_id</th>\n",
       "      <th>hospital_admission_id</th>\n",
       "      <th>icustay_id</th>\n",
       "      <th>source_db</th>\n",
       "      <th>hospitalid</th>\n",
       "      <th>numbedscategory</th>\n",
       "      <th>teachingstatus</th>\n",
       "      <th>...</th>\n",
       "      <th>delta_sofa_future_coagulation_24hr</th>\n",
       "      <th>sofa_future_coagulation_24hr</th>\n",
       "      <th>delta_sofa_future_liver_24hr</th>\n",
       "      <th>sofa_future_liver_24hr</th>\n",
       "      <th>delta_sofa_future_cardiovascular_24hr</th>\n",
       "      <th>sofa_future_cardiovascular_24hr</th>\n",
       "      <th>delta_sofa_future_cns_24hr</th>\n",
       "      <th>sofa_future_cns_24hr</th>\n",
       "      <th>delta_sofa_future_renal_24hr</th>\n",
       "      <th>sofa_future_renal_24hr</th>\n",
       "    </tr>\n",
       "  </thead>\n",
       "  <tbody>\n",
       "    <tr>\n",
       "      <th>0</th>\n",
       "      <td>0</td>\n",
       "      <td>0</td>\n",
       "      <td>0</td>\n",
       "      <td>002-10050</td>\n",
       "      <td>183274</td>\n",
       "      <td>211144</td>\n",
       "      <td>eicu</td>\n",
       "      <td>71</td>\n",
       "      <td>100 - 249</td>\n",
       "      <td>False</td>\n",
       "      <td>...</td>\n",
       "      <td>1525.0</td>\n",
       "      <td>1.0</td>\n",
       "      <td>1525.0</td>\n",
       "      <td>0.0</td>\n",
       "      <td>1525.0</td>\n",
       "      <td>1.0</td>\n",
       "      <td>1525.0</td>\n",
       "      <td>0.0</td>\n",
       "      <td>1525.0</td>\n",
       "      <td>0.0</td>\n",
       "    </tr>\n",
       "    <tr>\n",
       "      <th>1</th>\n",
       "      <td>1</td>\n",
       "      <td>1</td>\n",
       "      <td>1</td>\n",
       "      <td>002-1007</td>\n",
       "      <td>178462</td>\n",
       "      <td>204935</td>\n",
       "      <td>eicu</td>\n",
       "      <td>71</td>\n",
       "      <td>100 - 249</td>\n",
       "      <td>False</td>\n",
       "      <td>...</td>\n",
       "      <td>NaN</td>\n",
       "      <td>NaN</td>\n",
       "      <td>NaN</td>\n",
       "      <td>NaN</td>\n",
       "      <td>NaN</td>\n",
       "      <td>NaN</td>\n",
       "      <td>NaN</td>\n",
       "      <td>NaN</td>\n",
       "      <td>NaN</td>\n",
       "      <td>NaN</td>\n",
       "    </tr>\n",
       "    <tr>\n",
       "      <th>2</th>\n",
       "      <td>2</td>\n",
       "      <td>2</td>\n",
       "      <td>2</td>\n",
       "      <td>002-10187</td>\n",
       "      <td>150828</td>\n",
       "      <td>169525</td>\n",
       "      <td>eicu</td>\n",
       "      <td>73</td>\n",
       "      <td>&gt;= 500</td>\n",
       "      <td>True</td>\n",
       "      <td>...</td>\n",
       "      <td>1547.0</td>\n",
       "      <td>0.0</td>\n",
       "      <td>1547.0</td>\n",
       "      <td>0.0</td>\n",
       "      <td>1547.0</td>\n",
       "      <td>1.0</td>\n",
       "      <td>1547.0</td>\n",
       "      <td>0.0</td>\n",
       "      <td>1547.0</td>\n",
       "      <td>0.0</td>\n",
       "    </tr>\n",
       "    <tr>\n",
       "      <th>3</th>\n",
       "      <td>3</td>\n",
       "      <td>3</td>\n",
       "      <td>3</td>\n",
       "      <td>002-10306</td>\n",
       "      <td>198249</td>\n",
       "      <td>230427</td>\n",
       "      <td>eicu</td>\n",
       "      <td>63</td>\n",
       "      <td>100 - 249</td>\n",
       "      <td>False</td>\n",
       "      <td>...</td>\n",
       "      <td>1507.0</td>\n",
       "      <td>2.0</td>\n",
       "      <td>1507.0</td>\n",
       "      <td>0.0</td>\n",
       "      <td>1507.0</td>\n",
       "      <td>1.0</td>\n",
       "      <td>1507.0</td>\n",
       "      <td>0.0</td>\n",
       "      <td>1507.0</td>\n",
       "      <td>1.0</td>\n",
       "    </tr>\n",
       "    <tr>\n",
       "      <th>4</th>\n",
       "      <td>4</td>\n",
       "      <td>4</td>\n",
       "      <td>4</td>\n",
       "      <td>002-10324</td>\n",
       "      <td>188445</td>\n",
       "      <td>217835</td>\n",
       "      <td>eicu</td>\n",
       "      <td>73</td>\n",
       "      <td>&gt;= 500</td>\n",
       "      <td>True</td>\n",
       "      <td>...</td>\n",
       "      <td>1537.0</td>\n",
       "      <td>1.0</td>\n",
       "      <td>1537.0</td>\n",
       "      <td>0.0</td>\n",
       "      <td>1537.0</td>\n",
       "      <td>1.0</td>\n",
       "      <td>1537.0</td>\n",
       "      <td>2.0</td>\n",
       "      <td>1537.0</td>\n",
       "      <td>0.0</td>\n",
       "    </tr>\n",
       "  </tbody>\n",
       "</table>\n",
       "<p>5 rows × 142 columns</p>\n",
       "</div>"
      ],
      "text/plain": [
       "   unique_subject_id  unique_hospital_admission_id  unique_icustay_id  \\\n",
       "0                  0                             0                  0   \n",
       "1                  1                             1                  1   \n",
       "2                  2                             2                  2   \n",
       "3                  3                             3                  3   \n",
       "4                  4                             4                  4   \n",
       "\n",
       "  subject_id  hospital_admission_id  icustay_id source_db  hospitalid  \\\n",
       "0  002-10050                 183274      211144      eicu          71   \n",
       "1   002-1007                 178462      204935      eicu          71   \n",
       "2  002-10187                 150828      169525      eicu          73   \n",
       "3  002-10306                 198249      230427      eicu          63   \n",
       "4  002-10324                 188445      217835      eicu          73   \n",
       "\n",
       "  numbedscategory  teachingstatus  ... delta_sofa_future_coagulation_24hr  \\\n",
       "0       100 - 249           False  ...                             1525.0   \n",
       "1       100 - 249           False  ...                                NaN   \n",
       "2          >= 500            True  ...                             1547.0   \n",
       "3       100 - 249           False  ...                             1507.0   \n",
       "4          >= 500            True  ...                             1537.0   \n",
       "\n",
       "   sofa_future_coagulation_24hr  delta_sofa_future_liver_24hr  \\\n",
       "0                           1.0                        1525.0   \n",
       "1                           NaN                           NaN   \n",
       "2                           0.0                        1547.0   \n",
       "3                           2.0                        1507.0   \n",
       "4                           1.0                        1537.0   \n",
       "\n",
       "   sofa_future_liver_24hr  delta_sofa_future_cardiovascular_24hr  \\\n",
       "0                     0.0                                 1525.0   \n",
       "1                     NaN                                    NaN   \n",
       "2                     0.0                                 1547.0   \n",
       "3                     0.0                                 1507.0   \n",
       "4                     0.0                                 1537.0   \n",
       "\n",
       "   sofa_future_cardiovascular_24hr delta_sofa_future_cns_24hr  \\\n",
       "0                              1.0                     1525.0   \n",
       "1                              NaN                        NaN   \n",
       "2                              1.0                     1547.0   \n",
       "3                              1.0                     1507.0   \n",
       "4                              1.0                     1537.0   \n",
       "\n",
       "  sofa_future_cns_24hr delta_sofa_future_renal_24hr sofa_future_renal_24hr  \n",
       "0                  0.0                       1525.0                    0.0  \n",
       "1                  NaN                          NaN                    NaN  \n",
       "2                  0.0                       1547.0                    0.0  \n",
       "3                  0.0                       1507.0                    1.0  \n",
       "4                  2.0                       1537.0                    0.0  \n",
       "\n",
       "[5 rows x 142 columns]"
      ]
     },
     "execution_count": 6,
     "metadata": {},
     "output_type": "execute_result"
    }
   ],
   "source": [
    "# View the first few rows \n",
    "df_initial.head()"
   ]
  },
  {
   "cell_type": "code",
   "execution_count": 7,
   "id": "ef44d4aa",
   "metadata": {
    "scrolled": true
   },
   "outputs": [
    {
     "name": "stdout",
     "output_type": "stream",
     "text": [
      "Column names: ['unique_subject_id', 'unique_hospital_admission_id', 'unique_icustay_id', 'subject_id', 'hospital_admission_id', 'icustay_id', 'source_db', 'hospitalid', 'numbedscategory', 'teachingstatus', 'region', 'admission_age', 'sex_female', 'weight_admission', 'height_admission', 'BMI_admission', 'datetime_hospital_admit', 'datetime_hospital_discharge', 'datetime_icu_admit', 'datetime_icu_discharge', 'los_hospital', 'los_ICU', 'comorbidity_score_name', 'comorbidity_score_value', 'in_hospital_mortality', 'race_ethnicity', 'SaO2_timestamp', 'pH', 'pCO2', 'pO2', 'SaO2', 'SpO2', 'Carboxyhemoglobin', 'Methemoglobin', 'SpO2_timestamp', 'delta_SpO2', 'delta_vitals_heart_rate', 'vitals_heart_rate', 'delta_vitals_resp_rate', 'vitals_resp_rate', 'delta_vitals_mbp_ni', 'vitals_mbp_ni', 'delta_vitals_sbp_ni', 'vitals_sbp_ni', 'delta_vitals_dbp_ni', 'vitals_dbp_ni', 'delta_vitals_mbp_i', 'vitals_mbp_i', 'delta_vitals_sbp_i', 'vitals_sbp_i', 'delta_vitals_dbp_i', 'vitals_dbp_i', 'delta_vitals_tempc', 'vitals_tempc', 'delta_cbc_hemoglobin', 'cbc_hemoglobin', 'delta_cbc_hematocrit', 'cbc_hematocrit', 'delta_cbc_mch', 'cbc_mch', 'delta_cbc_mchc', 'cbc_mchc', 'delta_cbc_mcv', 'cbc_mcv', 'delta_cbc_platelet', 'cbc_platelet', 'delta_cbc_rbc', 'cbc_rbc', 'delta_cbc_rdw', 'cbc_rdw', 'delta_cbc_wbc', 'cbc_wbc', 'delta_coag_fibrinogen', 'coag_fibrinogen', 'delta_coag_inr', 'coag_inr', 'delta_coag_pt', 'coag_pt', 'delta_coag_ptt', 'coag_ptt', 'delta_bmp_sodium', 'bmp_sodium', 'delta_bmp_potassium', 'bmp_potassium', 'delta_bmp_chloride', 'bmp_chloride', 'delta_bmp_bicarbonate', 'bmp_bicarbonate', 'delta_bmp_bun', 'bmp_bun', 'delta_bmp_creatinine', 'bmp_creatinine', 'delta_bmp_glucose', 'bmp_glucose', 'delta_bmp_aniongap', 'bmp_aniongap', 'delta_bmp_calcium', 'bmp_calcium', 'delta_bmp_lactate', 'bmp_lactate', 'delta_hfp_alt', 'hfp_alt', 'delta_hfp_alp', 'hfp_alp', 'delta_hfp_ast', 'hfp_ast', 'delta_hfp_bilirubin_total', 'hfp_bilirubin_total', 'delta_hfp_bilirubin_direct', 'hfp_bilirubin_direct', 'delta_hfp_albumin', 'hfp_albumin', 'delta_others_ck_cpk', 'others_ck_cpk', 'delta_others_ck_mb', 'others_ck_mb', 'delta_others_ld_ldh', 'others_ld_ldh', 'delta_sofa_past_overall_24hr', 'sofa_past_overall_24hr', 'delta_sofa_past_coagulation_24hr', 'sofa_past_coagulation_24hr', 'delta_sofa_past_liver_24hr', 'sofa_past_liver_24hr', 'delta_sofa_past_cardiovascular_24hr', 'sofa_past_cardiovascular_24hr', 'delta_sofa_past_cns_24hr', 'sofa_past_cns_24hr', 'delta_sofa_past_renal_24hr', 'sofa_past_renal_24hr', 'delta_sofa_future_overall_24hr', 'sofa_future_overall_24hr', 'delta_sofa_future_coagulation_24hr', 'sofa_future_coagulation_24hr', 'delta_sofa_future_liver_24hr', 'sofa_future_liver_24hr', 'delta_sofa_future_cardiovascular_24hr', 'sofa_future_cardiovascular_24hr', 'delta_sofa_future_cns_24hr', 'sofa_future_cns_24hr', 'delta_sofa_future_renal_24hr', 'sofa_future_renal_24hr']\n"
     ]
    }
   ],
   "source": [
    "# Get the column names \n",
    "column_names = df_initial.columns.tolist()\n",
    "print (\"Column names:\", column_names)"
   ]
  },
  {
   "cell_type": "code",
   "execution_count": 8,
   "id": "ced8ab43",
   "metadata": {},
   "outputs": [
    {
     "name": "stdout",
     "output_type": "stream",
     "text": [
      "<class 'pandas.core.frame.DataFrame'>\n",
      "RangeIndex: 49093 entries, 0 to 49092\n",
      "Columns: 142 entries, unique_subject_id to sofa_future_renal_24hr\n",
      "dtypes: bool(1), float64(122), int64(7), object(12)\n",
      "memory usage: 52.9+ MB\n",
      "None\n"
     ]
    }
   ],
   "source": [
    "# Get a summary of the DataFrame \n",
    "print(df_initial.info())"
   ]
  },
  {
   "cell_type": "code",
   "execution_count": 9,
   "id": "bde53039",
   "metadata": {},
   "outputs": [],
   "source": [
    "# List of key variables to explore further\n",
    "key_variables = [\n",
    "    'source_db', 'comorbidity_score_value', \n",
    "    # ids \n",
    "    'unique_subject_id', 'unique_hospital_admission_id', 'unique_icustay_id', \n",
    "    'subject_id', 'hospital_admission_id', 'icustay_id', 'hospitalid', \n",
    "    # patient \n",
    "    'admission_age', 'sex_female', 'race_ethnicity', 'BMI_admission',  # BMI: Body Mass Index\n",
    "    # ICU stay info \n",
    "    'datetime_icu_admit', 'datetime_icu_discharge', 'los_ICU', 'los_hospital', \n",
    "    'sofa_past_overall_24hr', 'sofa_future_overall_24hr', \n",
    "    # Vital signs \n",
    "    'vitals_heart_rate', \n",
    "         ## MBP: Mean Blood Measure including invasive(i) and non invasive(ni)\n",
    "    'vitals_mbp_i', 'vitals_mbp_ni', \n",
    "    'vitals_sbp_ni', 'vitals_sbp_i', # systolic blood pressure (SBP)\n",
    "    'vitals_resp_rate', 'vitals_tempc', 'vitals_dbp_ni', \n",
    "    # LABS \n",
    "    'hfp_albumin', \n",
    "    'hfp_bilirubin_total', 'hfp_bilirubin_direct', \n",
    "    'bmp_bun', 'bmp_lactate', 'bmp_creatinine', 'bmp_glucose', \n",
    "    'bmp_potassium', 'bmp_sodium', 'cbc_hemoglobin', \n",
    "    \n",
    "    # Target \n",
    "    'in_hospital_mortality', \n",
    "    \n",
    "    # Study Features \n",
    "    'SpO2', 'SaO2', \n",
    "    'comorbidity_score_value'\n",
    "]"
   ]
  },
  {
   "cell_type": "code",
   "execution_count": 10,
   "id": "090ce2de",
   "metadata": {},
   "outputs": [],
   "source": [
    "# Filter the dataset to only focus on the key variables relevant to the tutorial\n",
    "df_key_variables = df_initial [key_variables]"
   ]
  },
  {
   "cell_type": "code",
   "execution_count": 11,
   "id": "f4d253f5",
   "metadata": {},
   "outputs": [
    {
     "name": "stdout",
     "output_type": "stream",
     "text": [
      "['source_db', 'comorbidity_score_value', 'unique_subject_id', 'unique_hospital_admission_id', 'unique_icustay_id', 'subject_id', 'hospital_admission_id', 'icustay_id', 'hospitalid', 'admission_age', 'sex_female', 'race_ethnicity', 'BMI_admission', 'datetime_icu_admit', 'datetime_icu_discharge', 'los_ICU', 'los_hospital', 'sofa_past_overall_24hr', 'sofa_future_overall_24hr', 'vitals_heart_rate', 'vitals_mbp_i', 'vitals_mbp_ni', 'vitals_sbp_ni', 'vitals_sbp_i', 'vitals_resp_rate', 'vitals_tempc', 'vitals_dbp_ni', 'hfp_albumin', 'hfp_bilirubin_total', 'hfp_bilirubin_direct', 'bmp_bun', 'bmp_lactate', 'bmp_creatinine', 'bmp_glucose', 'bmp_potassium', 'bmp_sodium', 'cbc_hemoglobin', 'in_hospital_mortality', 'SpO2', 'SaO2', 'comorbidity_score_value']\n"
     ]
    }
   ],
   "source": [
    "# Visualize the columns of the new dataframe \n",
    "print(df_key_variables.columns.tolist())"
   ]
  },
  {
   "cell_type": "code",
   "execution_count": 12,
   "id": "f8683b9b-a5ff-4b00-ac41-39165434815f",
   "metadata": {},
   "outputs": [
    {
     "data": {
      "text/plain": [
       "(49093, 41)"
      ]
     },
     "execution_count": 12,
     "metadata": {},
     "output_type": "execute_result"
    }
   ],
   "source": [
    "df_key_variables.shape"
   ]
  },
  {
   "cell_type": "code",
   "execution_count": 13,
   "id": "63696c39-2cf1-433e-a308-3c31195fde23",
   "metadata": {},
   "outputs": [],
   "source": [
    "# Filter the Dataframe to include only the most common racial/ethnic groups\n",
    "selected_groups = ['Asian','Hispanic OR Latino', 'Black', 'White']\n",
    "df_filtered = df_key_variables[df_key_variables ['race_ethnicity'].apply(lambda x: x in selected_groups)].copy()"
   ]
  },
  {
   "cell_type": "markdown",
   "id": "d8b0b3ec-9c88-4cb3-83dd-6931f4e603d0",
   "metadata": {},
   "source": [
    "#### Handling Missing values"
   ]
  },
  {
   "cell_type": "code",
   "execution_count": 14,
   "id": "feed0e8d-bc50-4959-a08d-61b07fec84f1",
   "metadata": {},
   "outputs": [],
   "source": [
    "# Filter Data for Unique Patients to ensure each patient has a unique record\n",
    "df_filtered = df_filtered.drop_duplicates(subset='unique_subject_id', keep='first')"
   ]
  },
  {
   "cell_type": "markdown",
   "id": "4fbff25b-4c14-4f48-bc54-fe5b0306ee28",
   "metadata": {},
   "source": [
    "Why? The goal is to ensure that each patient is represented by only one record in the dataset. This is important for statistical analyses where each data point should be independent. Multiple records for the same patient can introduce bias and inaccuracies in the analysis."
   ]
  },
  {
   "cell_type": "code",
   "execution_count": 15,
   "id": "b12bd2e8-761a-424b-9c0d-9a38b9e33165",
   "metadata": {},
   "outputs": [
    {
     "name": "stdout",
     "output_type": "stream",
     "text": [
      "Percentage of missing values per column:\n",
      " source_db                        0.000000\n",
      "comorbidity_score_value          0.004847\n",
      "unique_subject_id                0.000000\n",
      "unique_hospital_admission_id     0.000000\n",
      "unique_icustay_id                0.000000\n",
      "subject_id                       0.000000\n",
      "hospital_admission_id            0.000000\n",
      "icustay_id                       0.000000\n",
      "hospitalid                       0.000000\n",
      "admission_age                    0.002424\n",
      "sex_female                       0.000000\n",
      "race_ethnicity                   0.000000\n",
      "BMI_admission                    3.970043\n",
      "datetime_icu_admit               0.000000\n",
      "datetime_icu_discharge           0.000000\n",
      "los_ICU                          0.000000\n",
      "los_hospital                     0.000000\n",
      "sofa_past_overall_24hr          23.037398\n",
      "sofa_future_overall_24hr        19.372743\n",
      "vitals_heart_rate               11.008507\n",
      "vitals_mbp_i                    62.398507\n",
      "vitals_mbp_ni                   31.818512\n",
      "vitals_sbp_ni                   30.635740\n",
      "vitals_sbp_i                    63.860006\n",
      "vitals_resp_rate                13.866066\n",
      "vitals_tempc                    15.918951\n",
      "vitals_dbp_ni                   30.640588\n",
      "hfp_albumin                     36.593228\n",
      "hfp_bilirubin_total             39.453210\n",
      "hfp_bilirubin_direct            88.412225\n",
      "bmp_bun                         16.100730\n",
      "bmp_lactate                     53.423495\n",
      "bmp_creatinine                  16.178288\n",
      "bmp_glucose                      9.682736\n",
      "bmp_potassium                   12.196127\n",
      "bmp_sodium                      13.454034\n",
      "cbc_hemoglobin                  13.883032\n",
      "in_hospital_mortality            0.799825\n",
      "SpO2                             0.000000\n",
      "SaO2                             0.000000\n",
      "comorbidity_score_value          0.004847\n",
      "dtype: float64\n"
     ]
    }
   ],
   "source": [
    "# Calculate the percentage of missing values per column\n",
    "missing_data_percentage = df_filtered.isnull().mean() * 100 \n",
    "print(\"Percentage of missing values per column:\\n\", missing_data_percentage)"
   ]
  },
  {
   "cell_type": "code",
   "execution_count": 16,
   "id": "fc9c4ad0-fe94-46e3-9bc9-7abca3c4029c",
   "metadata": {},
   "outputs": [
    {
     "data": {
      "text/html": [
       "<style type=\"text/css\">\n",
       "</style>\n",
       "<table id=\"T_11fbb\">\n",
       "  <thead>\n",
       "    <tr>\n",
       "      <th class=\"index_name level0\" >race_ethnicity</th>\n",
       "      <th id=\"T_11fbb_level0_col0\" class=\"col_heading level0 col0\" >Asian</th>\n",
       "      <th id=\"T_11fbb_level0_col1\" class=\"col_heading level0 col1\" >Black</th>\n",
       "      <th id=\"T_11fbb_level0_col2\" class=\"col_heading level0 col2\" >Hispanic OR Latino</th>\n",
       "      <th id=\"T_11fbb_level0_col3\" class=\"col_heading level0 col3\" >White</th>\n",
       "    </tr>\n",
       "  </thead>\n",
       "  <tbody>\n",
       "    <tr>\n",
       "      <th id=\"T_11fbb_level0_row0\" class=\"row_heading level0 row0\" >source_db</th>\n",
       "      <td id=\"T_11fbb_row0_col0\" class=\"data row0 col0\" >0.00%</td>\n",
       "      <td id=\"T_11fbb_row0_col1\" class=\"data row0 col1\" >0.00%</td>\n",
       "      <td id=\"T_11fbb_row0_col2\" class=\"data row0 col2\" >0.00%</td>\n",
       "      <td id=\"T_11fbb_row0_col3\" class=\"data row0 col3\" >0.00%</td>\n",
       "    </tr>\n",
       "    <tr>\n",
       "      <th id=\"T_11fbb_level0_row1\" class=\"row_heading level0 row1\" >comorbidity_score_value</th>\n",
       "      <td id=\"T_11fbb_row1_col0\" class=\"data row1 col0\" >0.00%</td>\n",
       "      <td id=\"T_11fbb_row1_col1\" class=\"data row1 col1\" >0.00%</td>\n",
       "      <td id=\"T_11fbb_row1_col2\" class=\"data row1 col2\" >0.00%</td>\n",
       "      <td id=\"T_11fbb_row1_col3\" class=\"data row1 col3\" >0.01%</td>\n",
       "    </tr>\n",
       "    <tr>\n",
       "      <th id=\"T_11fbb_level0_row2\" class=\"row_heading level0 row2\" >unique_subject_id</th>\n",
       "      <td id=\"T_11fbb_row2_col0\" class=\"data row2 col0\" >0.00%</td>\n",
       "      <td id=\"T_11fbb_row2_col1\" class=\"data row2 col1\" >0.00%</td>\n",
       "      <td id=\"T_11fbb_row2_col2\" class=\"data row2 col2\" >0.00%</td>\n",
       "      <td id=\"T_11fbb_row2_col3\" class=\"data row2 col3\" >0.00%</td>\n",
       "    </tr>\n",
       "    <tr>\n",
       "      <th id=\"T_11fbb_level0_row3\" class=\"row_heading level0 row3\" >unique_hospital_admission_id</th>\n",
       "      <td id=\"T_11fbb_row3_col0\" class=\"data row3 col0\" >0.00%</td>\n",
       "      <td id=\"T_11fbb_row3_col1\" class=\"data row3 col1\" >0.00%</td>\n",
       "      <td id=\"T_11fbb_row3_col2\" class=\"data row3 col2\" >0.00%</td>\n",
       "      <td id=\"T_11fbb_row3_col3\" class=\"data row3 col3\" >0.00%</td>\n",
       "    </tr>\n",
       "    <tr>\n",
       "      <th id=\"T_11fbb_level0_row4\" class=\"row_heading level0 row4\" >unique_icustay_id</th>\n",
       "      <td id=\"T_11fbb_row4_col0\" class=\"data row4 col0\" >0.00%</td>\n",
       "      <td id=\"T_11fbb_row4_col1\" class=\"data row4 col1\" >0.00%</td>\n",
       "      <td id=\"T_11fbb_row4_col2\" class=\"data row4 col2\" >0.00%</td>\n",
       "      <td id=\"T_11fbb_row4_col3\" class=\"data row4 col3\" >0.00%</td>\n",
       "    </tr>\n",
       "    <tr>\n",
       "      <th id=\"T_11fbb_level0_row5\" class=\"row_heading level0 row5\" >subject_id</th>\n",
       "      <td id=\"T_11fbb_row5_col0\" class=\"data row5 col0\" >0.00%</td>\n",
       "      <td id=\"T_11fbb_row5_col1\" class=\"data row5 col1\" >0.00%</td>\n",
       "      <td id=\"T_11fbb_row5_col2\" class=\"data row5 col2\" >0.00%</td>\n",
       "      <td id=\"T_11fbb_row5_col3\" class=\"data row5 col3\" >0.00%</td>\n",
       "    </tr>\n",
       "    <tr>\n",
       "      <th id=\"T_11fbb_level0_row6\" class=\"row_heading level0 row6\" >hospital_admission_id</th>\n",
       "      <td id=\"T_11fbb_row6_col0\" class=\"data row6 col0\" >0.00%</td>\n",
       "      <td id=\"T_11fbb_row6_col1\" class=\"data row6 col1\" >0.00%</td>\n",
       "      <td id=\"T_11fbb_row6_col2\" class=\"data row6 col2\" >0.00%</td>\n",
       "      <td id=\"T_11fbb_row6_col3\" class=\"data row6 col3\" >0.00%</td>\n",
       "    </tr>\n",
       "    <tr>\n",
       "      <th id=\"T_11fbb_level0_row7\" class=\"row_heading level0 row7\" >icustay_id</th>\n",
       "      <td id=\"T_11fbb_row7_col0\" class=\"data row7 col0\" >0.00%</td>\n",
       "      <td id=\"T_11fbb_row7_col1\" class=\"data row7 col1\" >0.00%</td>\n",
       "      <td id=\"T_11fbb_row7_col2\" class=\"data row7 col2\" >0.00%</td>\n",
       "      <td id=\"T_11fbb_row7_col3\" class=\"data row7 col3\" >0.00%</td>\n",
       "    </tr>\n",
       "    <tr>\n",
       "      <th id=\"T_11fbb_level0_row8\" class=\"row_heading level0 row8\" >hospitalid</th>\n",
       "      <td id=\"T_11fbb_row8_col0\" class=\"data row8 col0\" >0.00%</td>\n",
       "      <td id=\"T_11fbb_row8_col1\" class=\"data row8 col1\" >0.00%</td>\n",
       "      <td id=\"T_11fbb_row8_col2\" class=\"data row8 col2\" >0.00%</td>\n",
       "      <td id=\"T_11fbb_row8_col3\" class=\"data row8 col3\" >0.00%</td>\n",
       "    </tr>\n",
       "    <tr>\n",
       "      <th id=\"T_11fbb_level0_row9\" class=\"row_heading level0 row9\" >admission_age</th>\n",
       "      <td id=\"T_11fbb_row9_col0\" class=\"data row9 col0\" >0.00%</td>\n",
       "      <td id=\"T_11fbb_row9_col1\" class=\"data row9 col1\" >0.00%</td>\n",
       "      <td id=\"T_11fbb_row9_col2\" class=\"data row9 col2\" >0.00%</td>\n",
       "      <td id=\"T_11fbb_row9_col3\" class=\"data row9 col3\" >0.00%</td>\n",
       "    </tr>\n",
       "    <tr>\n",
       "      <th id=\"T_11fbb_level0_row10\" class=\"row_heading level0 row10\" >sex_female</th>\n",
       "      <td id=\"T_11fbb_row10_col0\" class=\"data row10 col0\" >0.00%</td>\n",
       "      <td id=\"T_11fbb_row10_col1\" class=\"data row10 col1\" >0.00%</td>\n",
       "      <td id=\"T_11fbb_row10_col2\" class=\"data row10 col2\" >0.00%</td>\n",
       "      <td id=\"T_11fbb_row10_col3\" class=\"data row10 col3\" >0.00%</td>\n",
       "    </tr>\n",
       "    <tr>\n",
       "      <th id=\"T_11fbb_level0_row11\" class=\"row_heading level0 row11\" >race_ethnicity</th>\n",
       "      <td id=\"T_11fbb_row11_col0\" class=\"data row11 col0\" >0.00%</td>\n",
       "      <td id=\"T_11fbb_row11_col1\" class=\"data row11 col1\" >0.00%</td>\n",
       "      <td id=\"T_11fbb_row11_col2\" class=\"data row11 col2\" >0.00%</td>\n",
       "      <td id=\"T_11fbb_row11_col3\" class=\"data row11 col3\" >0.00%</td>\n",
       "    </tr>\n",
       "    <tr>\n",
       "      <th id=\"T_11fbb_level0_row12\" class=\"row_heading level0 row12\" >BMI_admission</th>\n",
       "      <td id=\"T_11fbb_row12_col0\" class=\"data row12 col0\" >4.79%</td>\n",
       "      <td id=\"T_11fbb_row12_col1\" class=\"data row12 col1\" >4.04%</td>\n",
       "      <td id=\"T_11fbb_row12_col2\" class=\"data row12 col2\" >7.64%</td>\n",
       "      <td id=\"T_11fbb_row12_col3\" class=\"data row12 col3\" >3.74%</td>\n",
       "    </tr>\n",
       "    <tr>\n",
       "      <th id=\"T_11fbb_level0_row13\" class=\"row_heading level0 row13\" >datetime_icu_admit</th>\n",
       "      <td id=\"T_11fbb_row13_col0\" class=\"data row13 col0\" >0.00%</td>\n",
       "      <td id=\"T_11fbb_row13_col1\" class=\"data row13 col1\" >0.00%</td>\n",
       "      <td id=\"T_11fbb_row13_col2\" class=\"data row13 col2\" >0.00%</td>\n",
       "      <td id=\"T_11fbb_row13_col3\" class=\"data row13 col3\" >0.00%</td>\n",
       "    </tr>\n",
       "    <tr>\n",
       "      <th id=\"T_11fbb_level0_row14\" class=\"row_heading level0 row14\" >datetime_icu_discharge</th>\n",
       "      <td id=\"T_11fbb_row14_col0\" class=\"data row14 col0\" >0.00%</td>\n",
       "      <td id=\"T_11fbb_row14_col1\" class=\"data row14 col1\" >0.00%</td>\n",
       "      <td id=\"T_11fbb_row14_col2\" class=\"data row14 col2\" >0.00%</td>\n",
       "      <td id=\"T_11fbb_row14_col3\" class=\"data row14 col3\" >0.00%</td>\n",
       "    </tr>\n",
       "    <tr>\n",
       "      <th id=\"T_11fbb_level0_row15\" class=\"row_heading level0 row15\" >los_ICU</th>\n",
       "      <td id=\"T_11fbb_row15_col0\" class=\"data row15 col0\" >0.00%</td>\n",
       "      <td id=\"T_11fbb_row15_col1\" class=\"data row15 col1\" >0.00%</td>\n",
       "      <td id=\"T_11fbb_row15_col2\" class=\"data row15 col2\" >0.00%</td>\n",
       "      <td id=\"T_11fbb_row15_col3\" class=\"data row15 col3\" >0.00%</td>\n",
       "    </tr>\n",
       "    <tr>\n",
       "      <th id=\"T_11fbb_level0_row16\" class=\"row_heading level0 row16\" >los_hospital</th>\n",
       "      <td id=\"T_11fbb_row16_col0\" class=\"data row16 col0\" >0.00%</td>\n",
       "      <td id=\"T_11fbb_row16_col1\" class=\"data row16 col1\" >0.00%</td>\n",
       "      <td id=\"T_11fbb_row16_col2\" class=\"data row16 col2\" >0.00%</td>\n",
       "      <td id=\"T_11fbb_row16_col3\" class=\"data row16 col3\" >0.00%</td>\n",
       "    </tr>\n",
       "    <tr>\n",
       "      <th id=\"T_11fbb_level0_row17\" class=\"row_heading level0 row17\" >sofa_past_overall_24hr</th>\n",
       "      <td id=\"T_11fbb_row17_col0\" class=\"data row17 col0\" >21.86%</td>\n",
       "      <td id=\"T_11fbb_row17_col1\" class=\"data row17 col1\" >19.80%</td>\n",
       "      <td id=\"T_11fbb_row17_col2\" class=\"data row17 col2\" >23.28%</td>\n",
       "      <td id=\"T_11fbb_row17_col3\" class=\"data row17 col3\" >23.45%</td>\n",
       "    </tr>\n",
       "    <tr>\n",
       "      <th id=\"T_11fbb_level0_row18\" class=\"row_heading level0 row18\" >sofa_future_overall_24hr</th>\n",
       "      <td id=\"T_11fbb_row18_col0\" class=\"data row18 col0\" >17.08%</td>\n",
       "      <td id=\"T_11fbb_row18_col1\" class=\"data row18 col1\" >17.28%</td>\n",
       "      <td id=\"T_11fbb_row18_col2\" class=\"data row18 col2\" >22.35%</td>\n",
       "      <td id=\"T_11fbb_row18_col3\" class=\"data row18 col3\" >19.52%</td>\n",
       "    </tr>\n",
       "    <tr>\n",
       "      <th id=\"T_11fbb_level0_row19\" class=\"row_heading level0 row19\" >vitals_heart_rate</th>\n",
       "      <td id=\"T_11fbb_row19_col0\" class=\"data row19 col0\" >29.75%</td>\n",
       "      <td id=\"T_11fbb_row19_col1\" class=\"data row19 col1\" >13.73%</td>\n",
       "      <td id=\"T_11fbb_row19_col2\" class=\"data row19 col2\" >9.20%</td>\n",
       "      <td id=\"T_11fbb_row19_col3\" class=\"data row19 col3\" >10.35%</td>\n",
       "    </tr>\n",
       "    <tr>\n",
       "      <th id=\"T_11fbb_level0_row20\" class=\"row_heading level0 row20\" >vitals_mbp_i</th>\n",
       "      <td id=\"T_11fbb_row20_col0\" class=\"data row20 col0\" >62.10%</td>\n",
       "      <td id=\"T_11fbb_row20_col1\" class=\"data row20 col1\" >66.33%</td>\n",
       "      <td id=\"T_11fbb_row20_col2\" class=\"data row20 col2\" >64.92%</td>\n",
       "      <td id=\"T_11fbb_row20_col3\" class=\"data row20 col3\" >61.77%</td>\n",
       "    </tr>\n",
       "    <tr>\n",
       "      <th id=\"T_11fbb_level0_row21\" class=\"row_heading level0 row21\" >vitals_mbp_ni</th>\n",
       "      <td id=\"T_11fbb_row21_col0\" class=\"data row21 col0\" >49.81%</td>\n",
       "      <td id=\"T_11fbb_row21_col1\" class=\"data row21 col1\" >30.03%</td>\n",
       "      <td id=\"T_11fbb_row21_col2\" class=\"data row21 col2\" >25.88%</td>\n",
       "      <td id=\"T_11fbb_row21_col3\" class=\"data row21 col3\" >31.97%</td>\n",
       "    </tr>\n",
       "    <tr>\n",
       "      <th id=\"T_11fbb_level0_row22\" class=\"row_heading level0 row22\" >vitals_sbp_ni</th>\n",
       "      <td id=\"T_11fbb_row22_col0\" class=\"data row22 col0\" >47.74%</td>\n",
       "      <td id=\"T_11fbb_row22_col1\" class=\"data row22 col1\" >30.61%</td>\n",
       "      <td id=\"T_11fbb_row22_col2\" class=\"data row22 col2\" >23.13%</td>\n",
       "      <td id=\"T_11fbb_row22_col3\" class=\"data row22 col3\" >30.67%</td>\n",
       "    </tr>\n",
       "    <tr>\n",
       "      <th id=\"T_11fbb_level0_row23\" class=\"row_heading level0 row23\" >vitals_sbp_i</th>\n",
       "      <td id=\"T_11fbb_row23_col0\" class=\"data row23 col0\" >66.36%</td>\n",
       "      <td id=\"T_11fbb_row23_col1\" class=\"data row23 col1\" >68.57%</td>\n",
       "      <td id=\"T_11fbb_row23_col2\" class=\"data row23 col2\" >66.63%</td>\n",
       "      <td id=\"T_11fbb_row23_col3\" class=\"data row23 col3\" >63.06%</td>\n",
       "    </tr>\n",
       "    <tr>\n",
       "      <th id=\"T_11fbb_level0_row24\" class=\"row_heading level0 row24\" >vitals_resp_rate</th>\n",
       "      <td id=\"T_11fbb_row24_col0\" class=\"data row24 col0\" >37.26%</td>\n",
       "      <td id=\"T_11fbb_row24_col1\" class=\"data row24 col1\" >16.83%</td>\n",
       "      <td id=\"T_11fbb_row24_col2\" class=\"data row24 col2\" >12.63%</td>\n",
       "      <td id=\"T_11fbb_row24_col3\" class=\"data row24 col3\" >13.04%</td>\n",
       "    </tr>\n",
       "    <tr>\n",
       "      <th id=\"T_11fbb_level0_row25\" class=\"row_heading level0 row25\" >vitals_tempc</th>\n",
       "      <td id=\"T_11fbb_row25_col0\" class=\"data row25 col0\" >33.38%</td>\n",
       "      <td id=\"T_11fbb_row25_col1\" class=\"data row25 col1\" >17.04%</td>\n",
       "      <td id=\"T_11fbb_row25_col2\" class=\"data row25 col2\" >15.38%</td>\n",
       "      <td id=\"T_11fbb_row25_col3\" class=\"data row25 col3\" >15.41%</td>\n",
       "    </tr>\n",
       "    <tr>\n",
       "      <th id=\"T_11fbb_level0_row26\" class=\"row_heading level0 row26\" >vitals_dbp_ni</th>\n",
       "      <td id=\"T_11fbb_row26_col0\" class=\"data row26 col0\" >47.74%</td>\n",
       "      <td id=\"T_11fbb_row26_col1\" class=\"data row26 col1\" >30.68%</td>\n",
       "      <td id=\"T_11fbb_row26_col2\" class=\"data row26 col2\" >23.13%</td>\n",
       "      <td id=\"T_11fbb_row26_col3\" class=\"data row26 col3\" >30.67%</td>\n",
       "    </tr>\n",
       "    <tr>\n",
       "      <th id=\"T_11fbb_level0_row27\" class=\"row_heading level0 row27\" >hfp_albumin</th>\n",
       "      <td id=\"T_11fbb_row27_col0\" class=\"data row27 col0\" >31.31%</td>\n",
       "      <td id=\"T_11fbb_row27_col1\" class=\"data row27 col1\" >33.01%</td>\n",
       "      <td id=\"T_11fbb_row27_col2\" class=\"data row27 col2\" >34.20%</td>\n",
       "      <td id=\"T_11fbb_row27_col3\" class=\"data row27 col3\" >37.29%</td>\n",
       "    </tr>\n",
       "    <tr>\n",
       "      <th id=\"T_11fbb_level0_row28\" class=\"row_heading level0 row28\" >hfp_bilirubin_total</th>\n",
       "      <td id=\"T_11fbb_row28_col0\" class=\"data row28 col0\" >30.14%</td>\n",
       "      <td id=\"T_11fbb_row28_col1\" class=\"data row28 col1\" >36.89%</td>\n",
       "      <td id=\"T_11fbb_row28_col2\" class=\"data row28 col2\" >37.16%</td>\n",
       "      <td id=\"T_11fbb_row28_col3\" class=\"data row28 col3\" >40.11%</td>\n",
       "    </tr>\n",
       "    <tr>\n",
       "      <th id=\"T_11fbb_level0_row29\" class=\"row_heading level0 row29\" >hfp_bilirubin_direct</th>\n",
       "      <td id=\"T_11fbb_row29_col0\" class=\"data row29 col0\" >85.77%</td>\n",
       "      <td id=\"T_11fbb_row29_col1\" class=\"data row29 col1\" >87.63%</td>\n",
       "      <td id=\"T_11fbb_row29_col2\" class=\"data row29 col2\" >80.15%</td>\n",
       "      <td id=\"T_11fbb_row29_col3\" class=\"data row29 col3\" >89.03%</td>\n",
       "    </tr>\n",
       "    <tr>\n",
       "      <th id=\"T_11fbb_level0_row30\" class=\"row_heading level0 row30\" >bmp_bun</th>\n",
       "      <td id=\"T_11fbb_row30_col0\" class=\"data row30 col0\" >11.90%</td>\n",
       "      <td id=\"T_11fbb_row30_col1\" class=\"data row30 col1\" >15.04%</td>\n",
       "      <td id=\"T_11fbb_row30_col2\" class=\"data row30 col2\" >11.12%</td>\n",
       "      <td id=\"T_11fbb_row30_col3\" class=\"data row30 col3\" >16.61%</td>\n",
       "    </tr>\n",
       "    <tr>\n",
       "      <th id=\"T_11fbb_level0_row31\" class=\"row_heading level0 row31\" >bmp_lactate</th>\n",
       "      <td id=\"T_11fbb_row31_col0\" class=\"data row31 col0\" >47.99%</td>\n",
       "      <td id=\"T_11fbb_row31_col1\" class=\"data row31 col1\" >49.85%</td>\n",
       "      <td id=\"T_11fbb_row31_col2\" class=\"data row31 col2\" >58.84%</td>\n",
       "      <td id=\"T_11fbb_row31_col3\" class=\"data row31 col3\" >53.69%</td>\n",
       "    </tr>\n",
       "    <tr>\n",
       "      <th id=\"T_11fbb_level0_row32\" class=\"row_heading level0 row32\" >bmp_creatinine</th>\n",
       "      <td id=\"T_11fbb_row32_col0\" class=\"data row32 col0\" >12.03%</td>\n",
       "      <td id=\"T_11fbb_row32_col1\" class=\"data row32 col1\" >15.20%</td>\n",
       "      <td id=\"T_11fbb_row32_col2\" class=\"data row32 col2\" >11.23%</td>\n",
       "      <td id=\"T_11fbb_row32_col3\" class=\"data row32 col3\" >16.67%</td>\n",
       "    </tr>\n",
       "    <tr>\n",
       "      <th id=\"T_11fbb_level0_row33\" class=\"row_heading level0 row33\" >bmp_glucose</th>\n",
       "      <td id=\"T_11fbb_row33_col0\" class=\"data row33 col0\" >9.06%</td>\n",
       "      <td id=\"T_11fbb_row33_col1\" class=\"data row33 col1\" >7.99%</td>\n",
       "      <td id=\"T_11fbb_row33_col2\" class=\"data row33 col2\" >7.48%</td>\n",
       "      <td id=\"T_11fbb_row33_col3\" class=\"data row33 col3\" >10.03%</td>\n",
       "    </tr>\n",
       "    <tr>\n",
       "      <th id=\"T_11fbb_level0_row34\" class=\"row_heading level0 row34\" >bmp_potassium</th>\n",
       "      <td id=\"T_11fbb_row34_col0\" class=\"data row34 col0\" >9.57%</td>\n",
       "      <td id=\"T_11fbb_row34_col1\" class=\"data row34 col1\" >10.90%</td>\n",
       "      <td id=\"T_11fbb_row34_col2\" class=\"data row34 col2\" >10.91%</td>\n",
       "      <td id=\"T_11fbb_row34_col3\" class=\"data row34 col3\" >12.49%</td>\n",
       "    </tr>\n",
       "    <tr>\n",
       "      <th id=\"T_11fbb_level0_row35\" class=\"row_heading level0 row35\" >bmp_sodium</th>\n",
       "      <td id=\"T_11fbb_row35_col0\" class=\"data row35 col0\" >11.00%</td>\n",
       "      <td id=\"T_11fbb_row35_col1\" class=\"data row35 col1\" >11.58%</td>\n",
       "      <td id=\"T_11fbb_row35_col2\" class=\"data row35 col2\" >11.49%</td>\n",
       "      <td id=\"T_11fbb_row35_col3\" class=\"data row35 col3\" >13.85%</td>\n",
       "    </tr>\n",
       "    <tr>\n",
       "      <th id=\"T_11fbb_level0_row36\" class=\"row_heading level0 row36\" >cbc_hemoglobin</th>\n",
       "      <td id=\"T_11fbb_row36_col0\" class=\"data row36 col0\" >11.00%</td>\n",
       "      <td id=\"T_11fbb_row36_col1\" class=\"data row36 col1\" >12.70%</td>\n",
       "      <td id=\"T_11fbb_row36_col2\" class=\"data row36 col2\" >10.45%</td>\n",
       "      <td id=\"T_11fbb_row36_col3\" class=\"data row36 col3\" >14.29%</td>\n",
       "    </tr>\n",
       "    <tr>\n",
       "      <th id=\"T_11fbb_level0_row37\" class=\"row_heading level0 row37\" >in_hospital_mortality</th>\n",
       "      <td id=\"T_11fbb_row37_col0\" class=\"data row37 col0\" >2.33%</td>\n",
       "      <td id=\"T_11fbb_row37_col1\" class=\"data row37 col1\" >0.72%</td>\n",
       "      <td id=\"T_11fbb_row37_col2\" class=\"data row37 col2\" >0.47%</td>\n",
       "      <td id=\"T_11fbb_row37_col3\" class=\"data row37 col3\" >0.79%</td>\n",
       "    </tr>\n",
       "    <tr>\n",
       "      <th id=\"T_11fbb_level0_row38\" class=\"row_heading level0 row38\" >SpO2</th>\n",
       "      <td id=\"T_11fbb_row38_col0\" class=\"data row38 col0\" >0.00%</td>\n",
       "      <td id=\"T_11fbb_row38_col1\" class=\"data row38 col1\" >0.00%</td>\n",
       "      <td id=\"T_11fbb_row38_col2\" class=\"data row38 col2\" >0.00%</td>\n",
       "      <td id=\"T_11fbb_row38_col3\" class=\"data row38 col3\" >0.00%</td>\n",
       "    </tr>\n",
       "    <tr>\n",
       "      <th id=\"T_11fbb_level0_row39\" class=\"row_heading level0 row39\" >SaO2</th>\n",
       "      <td id=\"T_11fbb_row39_col0\" class=\"data row39 col0\" >0.00%</td>\n",
       "      <td id=\"T_11fbb_row39_col1\" class=\"data row39 col1\" >0.00%</td>\n",
       "      <td id=\"T_11fbb_row39_col2\" class=\"data row39 col2\" >0.00%</td>\n",
       "      <td id=\"T_11fbb_row39_col3\" class=\"data row39 col3\" >0.00%</td>\n",
       "    </tr>\n",
       "    <tr>\n",
       "      <th id=\"T_11fbb_level0_row40\" class=\"row_heading level0 row40\" >comorbidity_score_value</th>\n",
       "      <td id=\"T_11fbb_row40_col0\" class=\"data row40 col0\" >0.00%</td>\n",
       "      <td id=\"T_11fbb_row40_col1\" class=\"data row40 col1\" >0.00%</td>\n",
       "      <td id=\"T_11fbb_row40_col2\" class=\"data row40 col2\" >0.00%</td>\n",
       "      <td id=\"T_11fbb_row40_col3\" class=\"data row40 col3\" >0.01%</td>\n",
       "    </tr>\n",
       "  </tbody>\n",
       "</table>\n"
      ],
      "text/plain": [
       "<pandas.io.formats.style.Styler at 0x1072712e0>"
      ]
     },
     "execution_count": 16,
     "metadata": {},
     "output_type": "execute_result"
    }
   ],
   "source": [
    "# Calculate percentage of missing values per column and per race\n",
    "missing_data_by_race = df_filtered.groupby('race_ethnicity').apply(lambda x: x.isnull().mean() * 100)\n",
    "\n",
    "# Transpose the table for better readability\n",
    "missing_data_by_race_table = missing_data_by_race.transpose()\n",
    "\n",
    "# Display the table using pandas styling for better readability\n",
    "styled_table = missing_data_by_race_table.style.format(\"{:.2f}%\")\n",
    "styled_table"
   ]
  },
  {
   "cell_type": "code",
   "execution_count": 17,
   "id": "9499a04f-14d6-469e-bc80-0c5f06e465dd",
   "metadata": {},
   "outputs": [],
   "source": [
    "# Define Continuous and Categorical Columns\n",
    "\n",
    "# Continuous variables\n",
    "continuous_variables = [\n",
    "    'admission_age', 'BMI_admission', 'sofa_past_overall_24hr', 'sofa_future_overall_24hr', \n",
    "    'vitals_heart_rate', 'vitals_mbp_i', 'vitals_mbp_ni', 'vitals_sbp_ni', 'vitals_sbp_i', \n",
    "    'vitals_resp_rate', 'vitals_tempc', 'vitals_dbp_ni', 'hfp_albumin', 'hfp_bilirubin_total', \n",
    "    'hfp_bilirubin_direct', 'bmp_bun', 'bmp_lactate', 'bmp_creatinine', 'bmp_glucose', \n",
    "    'bmp_potassium', 'bmp_sodium', 'cbc_hemoglobin', 'comorbidity_score_value'\n",
    "]\n",
    "\n",
    "# Categorical variables\n",
    "categorical_vars = ['sex_female', 'race_ethnicity']"
   ]
  },
  {
   "cell_type": "code",
   "execution_count": 18,
   "id": "2975459d-ebbe-4680-acc1-75020641c981",
   "metadata": {},
   "outputs": [],
   "source": [
    "# define the impute function \n",
    "def impute_by_race(df, continuous_vars, categorical_vars):\n",
    "    # Loop through each continuous variable\n",
    "    for var in continuous_vars:\n",
    "        # Impute missing values in the continuous variable by the median value within each race/ethnicity group\n",
    "        df[var] = df.groupby('race_ethnicity')[var].transform(lambda x: x.fillna(x.median()))\n",
    "    \n",
    "    # Loop through each categorical variable\n",
    "    for var in categorical_vars:\n",
    "        # Impute missing values in the categorical variable by the mode (most frequent value) within each race/ethnicity group\n",
    "        df[var] = df.groupby('race_ethnicity')[var].transform(lambda x: x.fillna(x.mode()[0]))\n",
    "    \n",
    "    # Return the dataframe with imputed values\n",
    "    return df"
   ]
  },
  {
   "cell_type": "markdown",
   "id": "1abdd127-5102-431e-8708-c8c489cf8b65",
   "metadata": {},
   "source": [
    "The goal of this approach is to ensure that missing values are imputed in a way that respects the underlying distribution of the data within each race/ethnicity group. For continuous variables, we use the median to avoid the influence of outliers, while for categorical variables, we use the mode to represent the most frequent category. This method helps maintain the integrity of the data and reduces bias in subsequent analyses."
   ]
  },
  {
   "cell_type": "code",
   "execution_count": 19,
   "id": "c4338b34-460a-4cd9-927b-e08006b9694e",
   "metadata": {},
   "outputs": [],
   "source": [
    "df_clean_imputed = impute_by_race(df_filtered, continuous_variables, categorical_vars)"
   ]
  },
  {
   "cell_type": "code",
   "execution_count": 20,
   "id": "11fe801a-823e-4744-80ea-eb260ed3d96b",
   "metadata": {},
   "outputs": [],
   "source": [
    "# Remove rows where target variable 'in_hospital_mortality' is missing\n",
    "df_final_clean = df_clean_imputed.dropna(subset=['in_hospital_mortality'])"
   ]
  },
  {
   "cell_type": "code",
   "execution_count": 21,
   "id": "e2b6c41b-e454-463f-ac0c-87fcbabd05fe",
   "metadata": {},
   "outputs": [
    {
     "name": "stdout",
     "output_type": "stream",
     "text": [
      "There are no missing values.\n"
     ]
    }
   ],
   "source": [
    "# Check if there are any missing values left in the DataFrame\n",
    "missing_data = df_final_clean.isnull().sum()\n",
    "missing_columns = missing_data[missing_data > 0]\n",
    "\n",
    "if missing_columns.empty:\n",
    "    print(\"There are no missing values.\")\n",
    "else:\n",
    "    print(\"Columns with remaining missing values:\\n\", missing_columns)"
   ]
  },
  {
   "cell_type": "markdown",
   "id": "ccac99d4",
   "metadata": {},
   "source": [
    "# Part 1: Exploratory Data Analysis (EDA) "
   ]
  },
  {
   "cell_type": "markdown",
   "id": "91599ec6-1b0d-458c-bce6-aa2e3836e427",
   "metadata": {},
   "source": [
    "## Pandas profiling \n",
    "\n",
    "Pandas-profiling delivers an extended analysis of a DataFrame "
   ]
  },
  {
   "cell_type": "code",
   "execution_count": 22,
   "id": "85fac8ea",
   "metadata": {},
   "outputs": [],
   "source": [
    "# # Pandas profiling to visualize each dataset \n",
    "# import pandas as pd\n",
    "# from ydata_profiling import ProfileReport\n",
    "\n",
    "# # Generate the profile report \n",
    "# profile = ProfileReport (df_final_clean, title = \"Profile Report for Dataset\")\n",
    "\n",
    "# # Display the profile report \n",
    "# profile.to_widgets() \n",
    "# # profile.to_file(\"output.html\") OR save the report as an HTML and view it in a web browser \n"
   ]
  },
  {
   "cell_type": "markdown",
   "id": "3d51746e",
   "metadata": {},
   "source": [
    "## Overview of the data using Tableone"
   ]
  },
  {
   "cell_type": "code",
   "execution_count": 23,
   "id": "b6219d71-3d52-4800-a0cc-70d145b06474",
   "metadata": {},
   "outputs": [
    {
     "name": "stderr",
     "output_type": "stream",
     "text": [
      "/var/folders/sw/5f53r1m13rq2jww8lqgbks700000gn/T/ipykernel_13056/3921988356.py:2: SettingWithCopyWarning: \n",
      "A value is trying to be set on a copy of a slice from a DataFrame.\n",
      "Try using .loc[row_indexer,col_indexer] = value instead\n",
      "\n",
      "See the caveats in the documentation: https://pandas.pydata.org/pandas-docs/stable/user_guide/indexing.html#returning-a-view-versus-a-copy\n",
      "  df_final_clean['sex'] = df_final_clean['sex_female'].apply(lambda x: 'F' if x == 1 else 'M')\n"
     ]
    }
   ],
   "source": [
    "# Create a new column with 'F' for female and 'M' for male\n",
    "df_final_clean['sex'] = df_final_clean['sex_female'].apply(lambda x: 'F' if x == 1 else 'M')"
   ]
  },
  {
   "cell_type": "code",
   "execution_count": 24,
   "id": "81ef8e37",
   "metadata": {},
   "outputs": [],
   "source": [
    "# Specify the columns to include in the table \n",
    "columns = ['admission_age', 'BMI_admission', 'race_ethnicity', 'sex', 'in_hospital_mortality']\n",
    "\n",
    "# Categorical Variables [ represent categories ]\n",
    "categorical = ['sex', 'race_ethnicity']\n",
    "\n",
    "# Define how to group the data for comparison\n",
    "    # In this case grouping by 'in_hospital_mortality' to compare different groups based on their mortality status\n",
    "groupby = ['in_hospital_mortality']\n",
    "\n",
    "# indicates which variables are not normally distributed\n",
    "    # TO CONFIRM \n",
    "    # TO DO: check that BMI_admission is actually non normal AND check the other variables with a non normal distribution and include them \n",
    "nonnormal = ['BMI_admission'] \n",
    "\n",
    "# Renames the variables for better readability \n",
    "labels = {\n",
    "    'in_hospital_mortality': \"Mortality\", \n",
    "    'age': \"Age\", \n",
    "    'race_ethnicity': \"Race and Ethnicity\",\n",
    "    'BMI_admission':\"BMI\", \n",
    "    'sex': \"Sex\", \n",
    "}\n",
    "\n",
    "# Sets the order for categorical variables \n",
    "order = {\n",
    "    'sex': ['F', 'M']  # 1 for Female, 0 for Male\n",
    "}\n",
    "\n",
    "# if you want you can also limit to a certain number of classes \n",
    "# limit = {\n",
    "#     'sex_female': 1\n",
    "# }"
   ]
  },
  {
   "cell_type": "code",
   "execution_count": 25,
   "id": "c2fee132",
   "metadata": {},
   "outputs": [],
   "source": [
    "name_of_table = TableOne (\n",
    "    df_final_clean, # The dataset to summariaze \n",
    "    # as defined in previous cells\n",
    "    columns = columns, \n",
    "    categorical = categorical, \n",
    "    groupby = groupby, \n",
    "    nonnormal = nonnormal, \n",
    "    rename = labels, \n",
    "#     limit = limit, \n",
    "    order = order, \n",
    "    overall = True, # Whethere to include overall summary statistics \n",
    "    missing = True, # Whether to include info about the number of missing values for each variable\n",
    "    pval = True, # Whether to include p-values for comparisons \n",
    "    decimals = 2, # Number of decimal places for numerical values \n",
    ")\n",
    "\n",
    "\n",
    "# you can have your own table for your variables of choice! "
   ]
  },
  {
   "cell_type": "code",
   "execution_count": 26,
   "id": "1d92893d",
   "metadata": {},
   "outputs": [
    {
     "data": {
      "text/html": [
       "<div>\n",
       "<style scoped>\n",
       "    .dataframe tbody tr th:only-of-type {\n",
       "        vertical-align: middle;\n",
       "    }\n",
       "\n",
       "    .dataframe tbody tr th {\n",
       "        vertical-align: top;\n",
       "    }\n",
       "\n",
       "    .dataframe thead tr th {\n",
       "        text-align: left;\n",
       "    }\n",
       "</style>\n",
       "<table border=\"1\" class=\"dataframe\">\n",
       "  <thead>\n",
       "    <tr>\n",
       "      <th></th>\n",
       "      <th></th>\n",
       "      <th colspan=\"5\" halign=\"left\">Grouped by Mortality</th>\n",
       "    </tr>\n",
       "    <tr>\n",
       "      <th></th>\n",
       "      <th></th>\n",
       "      <th>Missing</th>\n",
       "      <th>Overall</th>\n",
       "      <th>0.0</th>\n",
       "      <th>1.0</th>\n",
       "      <th>P-Value</th>\n",
       "    </tr>\n",
       "  </thead>\n",
       "  <tbody>\n",
       "    <tr>\n",
       "      <th>n</th>\n",
       "      <th></th>\n",
       "      <td></td>\n",
       "      <td>40929</td>\n",
       "      <td>33482</td>\n",
       "      <td>7447</td>\n",
       "      <td></td>\n",
       "    </tr>\n",
       "    <tr>\n",
       "      <th>admission_age, mean (SD)</th>\n",
       "      <th></th>\n",
       "      <td>0</td>\n",
       "      <td>64.82 (15.72)</td>\n",
       "      <td>63.93 (15.76)</td>\n",
       "      <td>68.80 (14.92)</td>\n",
       "      <td>&lt;0.001</td>\n",
       "    </tr>\n",
       "    <tr>\n",
       "      <th>BMI, median [Q1,Q3]</th>\n",
       "      <th></th>\n",
       "      <td>0</td>\n",
       "      <td>28.12 [24.04,33.21]</td>\n",
       "      <td>28.12 [24.24,33.40]</td>\n",
       "      <td>27.46 [23.07,32.09]</td>\n",
       "      <td>&lt;0.001</td>\n",
       "    </tr>\n",
       "    <tr>\n",
       "      <th rowspan=\"4\" valign=\"top\">Race and Ethnicity, n (%)</th>\n",
       "      <th>Asian</th>\n",
       "      <td>0</td>\n",
       "      <td>755 (1.84)</td>\n",
       "      <td>613 (1.83)</td>\n",
       "      <td>142 (1.91)</td>\n",
       "      <td>0.335</td>\n",
       "    </tr>\n",
       "    <tr>\n",
       "      <th>Black</th>\n",
       "      <td></td>\n",
       "      <td>4252 (10.39)</td>\n",
       "      <td>3473 (10.37)</td>\n",
       "      <td>779 (10.46)</td>\n",
       "      <td></td>\n",
       "    </tr>\n",
       "    <tr>\n",
       "      <th>Hispanic OR Latino</th>\n",
       "      <td></td>\n",
       "      <td>1915 (4.68)</td>\n",
       "      <td>1538 (4.59)</td>\n",
       "      <td>377 (5.06)</td>\n",
       "      <td></td>\n",
       "    </tr>\n",
       "    <tr>\n",
       "      <th>White</th>\n",
       "      <td></td>\n",
       "      <td>34007 (83.09)</td>\n",
       "      <td>27858 (83.20)</td>\n",
       "      <td>6149 (82.57)</td>\n",
       "      <td></td>\n",
       "    </tr>\n",
       "    <tr>\n",
       "      <th rowspan=\"2\" valign=\"top\">Sex, n (%)</th>\n",
       "      <th>F</th>\n",
       "      <td>0</td>\n",
       "      <td>17793 (43.47)</td>\n",
       "      <td>14491 (43.28)</td>\n",
       "      <td>3302 (44.34)</td>\n",
       "      <td>0.098</td>\n",
       "    </tr>\n",
       "    <tr>\n",
       "      <th>M</th>\n",
       "      <td></td>\n",
       "      <td>23136 (56.53)</td>\n",
       "      <td>18991 (56.72)</td>\n",
       "      <td>4145 (55.66)</td>\n",
       "      <td></td>\n",
       "    </tr>\n",
       "  </tbody>\n",
       "</table>\n",
       "</div><br />"
      ],
      "text/plain": [
       "                                             Grouped by Mortality                                                                       \n",
       "                                                          Missing              Overall                  0.0                  1.0 P-Value\n",
       "n                                                                                40929                33482                 7447        \n",
       "admission_age, mean (SD)                                        0        64.82 (15.72)        63.93 (15.76)        68.80 (14.92)  <0.001\n",
       "BMI, median [Q1,Q3]                                             0  28.12 [24.04,33.21]  28.12 [24.24,33.40]  27.46 [23.07,32.09]  <0.001\n",
       "Race and Ethnicity, n (%) Asian                                 0           755 (1.84)           613 (1.83)           142 (1.91)   0.335\n",
       "                          Black                                           4252 (10.39)         3473 (10.37)          779 (10.46)        \n",
       "                          Hispanic OR Latino                               1915 (4.68)          1538 (4.59)           377 (5.06)        \n",
       "                          White                                          34007 (83.09)        27858 (83.20)         6149 (82.57)        \n",
       "Sex, n (%)                F                                     0        17793 (43.47)        14491 (43.28)         3302 (44.34)   0.098\n",
       "                          M                                              23136 (56.53)        18991 (56.72)         4145 (55.66)        "
      ]
     },
     "metadata": {},
     "output_type": "display_data"
    }
   ],
   "source": [
    "display(name_of_table)"
   ]
  },
  {
   "cell_type": "markdown",
   "id": "4b73e664-71f2-47f0-89c4-6da4835092b2",
   "metadata": {
    "jp-MarkdownHeadingCollapsed": true
   },
   "source": [
    "Understanding the table: \n",
    "- Columns & Rows:\n",
    "  * Missing: Number of missing values for each variable.\n",
    "  * Overall: Statistics for the entire dataset.\n",
    "  * 0.0 (No Mortality): Statistics for patients who did not die in the hospital.\n",
    "  * 1.0 (Mortality): Statistics for patients who died in the hospital.\n",
    "  * P-Value: Statistical significance of differences between groups.\n",
    "\n",
    "- Variables:\n",
    "  * admission_age, mean (SD): Mean age at admission with standard deviation (SD). SD measures the amount of variation or dispersion of ages.\n",
    "  * BMI, median [Q1, Q3]: Median Body Mass Index (BMI) with the first quartile (Q1) and third quartile (Q3). Median represents the middle value, and quartiles divide the data into four equal parts.\n",
    "  * Race and Ethnicity, n (%): Number and percentage of patients in different racial and ethnic groups.\n",
    "  * Sex, n (%): Number and percentage of male and female patients.\n",
    "\n",
    "- Grouped by Mortality:\n",
    "  * Statistics for Subgroups: Compares characteristics of patients who survived (0.0) versus those who died (1.0) during their hospital stay.\n",
    "  * P-Value: Indicates whether differences between the mortality groups are statistically significant. A low p-value (typically < 0.05) suggests significant differences.\n"
   ]
  },
  {
   "cell_type": "markdown",
   "id": "d8707678",
   "metadata": {},
   "source": [
    "## Demographic Distribution Analysis\n",
    "How many patients do we have per racial-ethnic group, sex, and other demographics?\n",
    "\n",
    "* race_ethnicity and sex_female.\n",
    "* admission_age into age groups (e.g., 0-10, 11-20, etc.). \n",
    "* Group by region and numbedscategory for more context.\n",
    "\n",
    "Goal: To understand the distribution of patients across different racial-ethnic groups, sex, and other demographics. This step sets the foundation by showing the diversity in the dataset and highlighting potential areas of interest for further analysis."
   ]
  },
  {
   "cell_type": "code",
   "execution_count": 27,
   "id": "1f725dce",
   "metadata": {},
   "outputs": [
    {
     "name": "stdout",
     "output_type": "stream",
     "text": [
      "       race_ethnicity  count  percentage\n",
      "0               White  34007   83.087786\n",
      "1               Black   4252   10.388722\n",
      "2  Hispanic OR Latino   1915    4.678834\n",
      "3               Asian    755    1.844658\n"
     ]
    }
   ],
   "source": [
    "# Total number of patients \n",
    "total_patients = len (df_final_clean)\n",
    "\n",
    "# Group by race_ethnicity and calculate counts and percentages \n",
    "grouped_race_ethnicity = df_final_clean['race_ethnicity'].value_counts().reset_index() # \n",
    "grouped_race_ethnicity.columns = ['race_ethnicity','count']\n",
    "grouped_race_ethnicity['percentage'] = (grouped_race_ethnicity['count']/total_patients)*100\n",
    "\n",
    "\n",
    "# Display the results \n",
    "print(grouped_race_ethnicity)"
   ]
  },
  {
   "cell_type": "markdown",
   "id": "05d50f05",
   "metadata": {},
   "source": [
    "### Function to Perform the Same Operation for Any Demographic Variable"
   ]
  },
  {
   "cell_type": "code",
   "execution_count": 28,
   "id": "d07bbcb5",
   "metadata": {},
   "outputs": [],
   "source": [
    "# Function to calculate counts and percentages for a given column\n",
    "\n",
    "def calculate_counts_and_percentages(df, column_name):\n",
    "    \"\"\"\n",
    "    This function calculates the count and percentage of each unique value in the specified column of the DataFrame.\n",
    "    \n",
    "    Parameters:\n",
    "    df (pd.DataFrame): The input DataFrame. This is your data table.\n",
    "    column_name (str): The name of the column to group by. This is the specific column you want to analyze.\n",
    "    \n",
    "    Returns:\n",
    "    pd.DataFrame: A DataFrame with counts and percentages of each unique value in the specified column.\n",
    "    \"\"\"\n",
    "\n",
    "    # Step 1: Count the occurences of each unique value in the specified column and rest the index \n",
    "    grouped_df = df[column_name].value_counts().reset_index() \n",
    "\n",
    "    # Step 2: Rename the columns for clarity \n",
    "    grouped_df.columns = [column_name, 'count'] \n",
    "\n",
    "    # Step 3: Calculate the percentage of each group \n",
    "    total_count = len (df)\n",
    "    grouped_df['percentage'] = (grouped_df['count']/total_count)*100\n",
    "\n",
    "    return grouped_df\n",
    "# consider having region also "
   ]
  },
  {
   "cell_type": "code",
   "execution_count": 29,
   "id": "03299d62",
   "metadata": {},
   "outputs": [
    {
     "name": "stdout",
     "output_type": "stream",
     "text": [
      "   sex_female  count  percentage\n",
      "0           0  23136   56.527157\n",
      "1           1  17793   43.472843\n"
     ]
    }
   ],
   "source": [
    "# Calculate counts and percentage for 'sex_female'\n",
    "result_sex_female= calculate_counts_and_percentages (df_final_clean, 'sex_female')\n",
    "print(result_sex_female)"
   ]
  },
  {
   "cell_type": "code",
   "execution_count": 30,
   "id": "6f7c76a7",
   "metadata": {},
   "outputs": [
    {
     "name": "stderr",
     "output_type": "stream",
     "text": [
      "/var/folders/sw/5f53r1m13rq2jww8lqgbks700000gn/T/ipykernel_13056/1927903543.py:4: SettingWithCopyWarning: \n",
      "A value is trying to be set on a copy of a slice from a DataFrame.\n",
      "Try using .loc[row_indexer,col_indexer] = value instead\n",
      "\n",
      "See the caveats in the documentation: https://pandas.pydata.org/pandas-docs/stable/user_guide/indexing.html#returning-a-view-versus-a-copy\n",
      "  df_final_clean ['age_group'] = pd.cut(df_final_clean['admission_age'], bins = bins, labels = labels) # Creates a new column age_group in the DataFrame that categorizes admission_age into the specified age ranges.\n"
     ]
    }
   ],
   "source": [
    "# Create Age Groups: \n",
    "bins = [0,65,float('inf')] # Specifies the edges of the bins for the age groups (0 to 65, and 65 and above).\n",
    "labels = ['<65', '>=65'] # Specifies the labels for the age groups.\n",
    "df_final_clean ['age_group'] = pd.cut(df_final_clean['admission_age'], bins = bins, labels = labels) # Creates a new column age_group in the DataFrame that categorizes admission_age into the specified age ranges."
   ]
  },
  {
   "cell_type": "code",
   "execution_count": 31,
   "id": "b38d863c-d736-41e5-810f-148619659471",
   "metadata": {},
   "outputs": [
    {
     "data": {
      "text/plain": [
       "0        >=65\n",
       "1        >=65\n",
       "2         <65\n",
       "3        >=65\n",
       "4         <65\n",
       "         ... \n",
       "49087    >=65\n",
       "49089    >=65\n",
       "49090    >=65\n",
       "49091     <65\n",
       "49092    >=65\n",
       "Name: age_group, Length: 40929, dtype: category\n",
       "Categories (2, object): ['<65' < '>=65']"
      ]
     },
     "execution_count": 31,
     "metadata": {},
     "output_type": "execute_result"
    }
   ],
   "source": [
    "df_final_clean ['age_group']"
   ]
  },
  {
   "cell_type": "code",
   "execution_count": 32,
   "id": "34b47f6c",
   "metadata": {},
   "outputs": [
    {
     "name": "stdout",
     "output_type": "stream",
     "text": [
      "  age_group  count  percentage\n",
      "0      >=65  21646   52.886706\n",
      "1       <65  19283   47.113294\n"
     ]
    }
   ],
   "source": [
    "result_age_group = calculate_counts_and_percentages(df_final_clean, 'age_group')\n",
    "print(result_age_group)"
   ]
  },
  {
   "cell_type": "markdown",
   "id": "c83ba3b5",
   "metadata": {},
   "source": [
    "What do you see? ... [ Identify and discuss potential biases in the data based on the demographic distribution analysis. ] "
   ]
  },
  {
   "cell_type": "markdown",
   "id": "5a2a4d08-efd5-45de-b6d6-b605e57dce0a",
   "metadata": {},
   "source": [
    "##  Visualization of Mean Mortality per Ethnic Group "
   ]
  },
  {
   "cell_type": "code",
   "execution_count": 33,
   "id": "f669bf60-cb1e-42f4-b164-c101f6501eea",
   "metadata": {},
   "outputs": [
    {
     "name": "stdout",
     "output_type": "stream",
     "text": [
      "race_ethnicity\n",
      "Asian                 0.188079\n",
      "Black                 0.183208\n",
      "Hispanic OR Latino    0.196867\n",
      "White                 0.180816\n",
      "Name: in_hospital_mortality, dtype: float64\n"
     ]
    }
   ],
   "source": [
    "# Group by 'ethnicity' and calculate the mean of 'hospital_death' for each group \n",
    "# This will give the avg mortality rate per ethnical group \n",
    "mortality_per_ethnicty = df_final_clean.groupby('race_ethnicity')['in_hospital_mortality'].mean()\n",
    "print (mortality_per_ethnicty)"
   ]
  },
  {
   "cell_type": "code",
   "execution_count": 34,
   "id": "4e17d0e8",
   "metadata": {},
   "outputs": [
    {
     "data": {
      "image/png": "[encoded data removed]",
      "text/plain": [
       "<Figure size 1000x600 with 1 Axes>"
      ]
     },
     "metadata": {},
     "output_type": "display_data"
    }
   ],
   "source": [
    "# Ensure matplotlib uses an inline backend\n",
    "%matplotlib inline\n",
    "\n",
    "# Create the bar plot with a specified figure size \n",
    "plt.figure (figsize =(10,6)) \n",
    "\n",
    "# Plot the mean mortality per ethnic group as a bar plot \n",
    "mortality_per_ethnicty.plot(kind = 'bar', color = 'skyblue') \n",
    "\n",
    "# Add labels and titles to the plot for a better understanding \n",
    "plt.xlabel('Ethnicity') # Label for the x-axis \n",
    "plt.ylabel('Mean Hospital Deaths') # Lable for the y-axis\n",
    "plt.title('Mean Mortality per Ethnic Group') # Title of the plot\n",
    "\n",
    "# Rotate the x-axis labels for better readability \n",
    "plt.xticks(rotation = 45) \n",
    "\n",
    "# Display the plot\n",
    "plt.show() "
   ]
  },
  {
   "cell_type": "markdown",
   "id": "613d92f7-8616-4400-bebb-99dda68bde34",
   "metadata": {},
   "source": [
    "Normalizing the data by calculating the mean instead of the sum ensures that\n",
    "we are comparing the mortality rates relative to the size of each ethnic group.\n",
    "This is important because it allows us to see the proportional impact of mortality\n",
    "across different groups, rather than choosing to plot the number of hospital deaths which is skewed by the total number of patients\n",
    "in each group. This approach helps in identifying if certain groups have a disproportionately\n",
    "higher or lower mortality rate, providing a clearer insight into potential biases or\n",
    "disparities in the data."
   ]
  },
  {
   "cell_type": "markdown",
   "id": "d788dc1d",
   "metadata": {},
   "source": [
    "## Initial Analysis of SpO2 and SaO2\n",
    "* Present the statistical summary and visualize the distribution of SpO2 and SaO2 values.\n",
    "* Highlight any differences in SpO2 distributions across different demographic groups (e.g., race_ethnicity, sex).\n",
    "\n",
    "Goal: To explore the distribution of SpO2 and SaO2 values across different demographics. This step helps to identify any preliminary differences or patterns in SpO2 and SaO2 measurements among various groups."
   ]
  },
  {
   "cell_type": "code",
   "execution_count": 35,
   "id": "99931ae2",
   "metadata": {},
   "outputs": [
    {
     "name": "stdout",
     "output_type": "stream",
     "text": [
      "SpO2 summary:\n",
      "\n",
      "count    40929.000000\n",
      "mean        97.148525\n",
      "std          3.830732\n",
      "min         70.000000\n",
      "25%         96.000000\n",
      "50%         98.000000\n",
      "75%        100.000000\n",
      "max        100.000000\n",
      "\n",
      "\n",
      "SaO2 summary:\n",
      "\n",
      "count    40929.000000\n",
      "mean        95.949845\n",
      "std          4.154299\n",
      "min         70.000000\n",
      "25%         94.700000\n",
      "50%         97.000000\n",
      "75%         99.000000\n",
      "max        100.000000\n"
     ]
    }
   ],
   "source": [
    "# Statistical summary of SpO2 values \n",
    "Sp02_summary = df_final_clean['SpO2'].describe()\n",
    "print(\"SpO2 summary:\\n\")\n",
    "print(Sp02_summary.to_string())\n",
    "print (\"\\n\")\n",
    "\n",
    "SaO2_summary = df_final_clean['SaO2'].describe()\n",
    "print(\"SaO2 summary:\\n\")\n",
    "print(SaO2_summary.to_string())"
   ]
  },
  {
   "cell_type": "code",
   "execution_count": 36,
   "id": "c407bdda",
   "metadata": {},
   "outputs": [
    {
     "data": {
      "image/png": "[encoded data removed]",
      "text/plain": [
       "<Figure size 1600x600 with 2 Axes>"
      ]
     },
     "metadata": {},
     "output_type": "display_data"
    }
   ],
   "source": [
    "# Visualization of the Distribution of SpO2 values \n",
    "plt.figure(figsize=(16,6))\n",
    "\n",
    "\n",
    "plt.subplot(1,2,1) # a 1-row, 2-column figure: go to the first subplot\n",
    "sns.histplot(df_final_clean['SpO2'], kde = True)\n",
    "plt.title ('Distribution of SpO2 Values')\n",
    "plt.xlabel('SpO2')\n",
    "plt.ylabel('Frequency')\n",
    "\n",
    "\n",
    "# Visualization of the Distribution of SaO2 values \n",
    "plt.subplot(1,2,2)\n",
    "sns.histplot(df_final_clean['SaO2'], kde = True)\n",
    "plt.title ('Distribution of SaO2 Values')\n",
    "plt.xlabel('SaO2')\n",
    "plt.ylabel('Frequency')\n",
    "\n",
    "# Adjust the space between the 2 subplots \n",
    "plt.subplots_adjust (wspace = 0.2)\n",
    "\n",
    "plt.show()"
   ]
  },
  {
   "cell_type": "markdown",
   "id": "90e8fd7e",
   "metadata": {},
   "source": [
    "Key Observations: \n",
    "* ...\n",
    "* ..."
   ]
  },
  {
   "cell_type": "code",
   "execution_count": 37,
   "id": "7c6f5f8e",
   "metadata": {},
   "outputs": [
    {
     "data": {
      "image/png": "[encoded data removed]",
      "text/plain": [
       "<Figure size 1200x800 with 2 Axes>"
      ]
     },
     "metadata": {},
     "output_type": "display_data"
    }
   ],
   "source": [
    "# Distribution of SpO2 values by race_ethnicity\n",
    "plt.figure(figsize=(12, 8))\n",
    "\n",
    "plt.subplot(1,2,1)\n",
    "sns.boxplot(x='race_ethnicity', y='SpO2', data=df_final_clean)\n",
    "plt.title('SpO2 Distribution by Race/Ethnicity')\n",
    "plt.xlabel('Race/Ethnicity')\n",
    "plt.ylabel('SpO2')\n",
    "\n",
    "\n",
    "# Distribution of SaO2 values by race_ethnicity\n",
    "plt.subplot(1,2,2)\n",
    "sns.boxplot(x='race_ethnicity', y='SaO2', data=df_final_clean)\n",
    "plt.title('SaO2 Distribution by Race/Ethnicity')\n",
    "plt.xlabel('Race/Ethnicity')\n",
    "plt.ylabel('SaO2')\n",
    "\n",
    "# Adjust the space between the 2 subplots \n",
    "plt.subplots_adjust (wspace = 0.2)\n",
    "\n",
    "plt.show()"
   ]
  },
  {
   "cell_type": "markdown",
   "id": "e61374bf",
   "metadata": {},
   "source": [
    "Key Observations: \n",
    "* ...\n",
    "* ...\n",
    "\n"
   ]
  },
  {
   "cell_type": "markdown",
   "id": "8d8d83f0",
   "metadata": {},
   "source": [
    "## Analysis of Hypoxemia using SpO2 and SaO2 individually \n",
    "\n",
    "* Define hypoxemia using a threshold for SpO2 and SaO2.\n",
    "* Compare the incidence of hypoxemia across different demographic groups.\n",
    "* Highlight any disparities that may indicate bias in SpO2 measurements.\n",
    "\n",
    "Goal: To compare SpO2 and SaO2 values side by side and examine the incidence of hypoxemia using both measurements. This step highlights the discrepancies and biases in SpO2 measurements by analyzing hypoxemia based on SaO2 measurements and compare it with SpO2-based analysis. This step emphasizes the importance of SaO2 measurements in revealing hidden hypoxemia that SpO2 alone might miss."
   ]
  },
  {
   "cell_type": "code",
   "execution_count": 38,
   "id": "9052964c",
   "metadata": {},
   "outputs": [
    {
     "name": "stdout",
     "output_type": "stream",
     "text": [
      "SpO2:\n",
      "\n",
      "       race_ethnicity  hypoxemia_incidence\n",
      "0               Asian             2.119205\n",
      "1               Black             2.869238\n",
      "2  Hispanic OR Latino             2.193211\n",
      "3               White             2.805305\n",
      "\n",
      "\n",
      "SaO2:\n",
      "\n",
      "       race_ethnicity  hypoxemia_incidence\n",
      "0               Asian             3.708609\n",
      "1               Black             5.620884\n",
      "2  Hispanic OR Latino             3.916449\n",
      "3               White             4.478490\n"
     ]
    },
    {
     "name": "stderr",
     "output_type": "stream",
     "text": [
      "/var/folders/sw/5f53r1m13rq2jww8lqgbks700000gn/T/ipykernel_13056/2505968085.py:2: SettingWithCopyWarning: \n",
      "A value is trying to be set on a copy of a slice from a DataFrame.\n",
      "Try using .loc[row_indexer,col_indexer] = value instead\n",
      "\n",
      "See the caveats in the documentation: https://pandas.pydata.org/pandas-docs/stable/user_guide/indexing.html#returning-a-view-versus-a-copy\n",
      "  df_final_clean ['hypoxemia_SpO2'] = df_final_clean ['SpO2'] < 88\n",
      "/var/folders/sw/5f53r1m13rq2jww8lqgbks700000gn/T/ipykernel_13056/2505968085.py:3: SettingWithCopyWarning: \n",
      "A value is trying to be set on a copy of a slice from a DataFrame.\n",
      "Try using .loc[row_indexer,col_indexer] = value instead\n",
      "\n",
      "See the caveats in the documentation: https://pandas.pydata.org/pandas-docs/stable/user_guide/indexing.html#returning-a-view-versus-a-copy\n",
      "  df_final_clean ['hypoxemia_SaO2'] = df_final_clean ['SaO2'] < 88\n"
     ]
    }
   ],
   "source": [
    "# Define Hypoxemia based on SpO2 threshold (e.g. SpO2 < 88%) and SpO2 threshold (e.g. SpO2 < 88%)\n",
    "df_final_clean ['hypoxemia_SpO2'] = df_final_clean ['SpO2'] < 88 \n",
    "df_final_clean ['hypoxemia_SaO2'] = df_final_clean ['SaO2'] < 88 \n",
    "\n",
    "# Incidence of hypoxemia by race_ethnicity\n",
    "hypoxemia_by_race_SpO2 = df_final_clean.groupby('race_ethnicity')['hypoxemia_SpO2'].mean().reset_index()\n",
    "hypoxemia_by_race_SaO2 = df_final_clean.groupby('race_ethnicity')['hypoxemia_SaO2'].mean().reset_index()\n",
    "    # The mean value represents the proportion of patients with hypoxemia in each racial/ethnic group.\n",
    "\n",
    "\n",
    "hypoxemia_by_race_SpO2.columns = ['race_ethnicity', 'hypoxemia_incidence']\n",
    "hypoxemia_by_race_SaO2.columns = ['race_ethnicity', 'hypoxemia_incidence']\n",
    "hypoxemia_by_race_SpO2['hypoxemia_incidence'] *= 100 \n",
    "hypoxemia_by_race_SaO2['hypoxemia_incidence'] *= 100 \n",
    "\n",
    "\n",
    "\n",
    "print(\"SpO2:\\n\")\n",
    "print (hypoxemia_by_race_SpO2)\n",
    "print('\\n')\n",
    "print(\"SaO2:\\n\")\n",
    "print (hypoxemia_by_race_SaO2)\n"
   ]
  },
  {
   "cell_type": "markdown",
   "id": "366327f9",
   "metadata": {},
   "source": [
    "### Hypoxemia Incidence"
   ]
  },
  {
   "cell_type": "code",
   "execution_count": 39,
   "id": "6f9bfd62",
   "metadata": {},
   "outputs": [
    {
     "data": {
      "image/png": "[encoded data removed]",
      "text/plain": [
       "<Figure size 1200x800 with 2 Axes>"
      ]
     },
     "metadata": {},
     "output_type": "display_data"
    }
   ],
   "source": [
    "# Visualization \n",
    "plt.figure(figsize=(12,8))\n",
    "\n",
    "\n",
    "# Define the common y-axis limit\n",
    "y_max = max(hypoxemia_by_race_SpO2['hypoxemia_incidence'].max(), hypoxemia_by_race_SaO2['hypoxemia_incidence'].max())\n",
    "# y_min = min(hypoxemia_by_race_SpO2['hypoxemia_incidence'].min(), hypoxemia_by_race_SaO2['hypoxemia_incidence'].min())\n",
    "\n",
    "# a 1-row, 2-column figure: go to the first subplot \n",
    "plt.subplot(1,2,1)\n",
    "sns.barplot(x='race_ethnicity', y='hypoxemia_incidence', data = hypoxemia_by_race_SpO2)\n",
    "plt.title ('Hypoxemia Incidence - SpO2')\n",
    "plt.xlabel('Race/Ethnicity')\n",
    "plt.ylabel ('Hypoxemia Incidence (%)')\n",
    "plt.xticks(rotation = 45)\n",
    "plt.ylim(0,y_max)\n",
    "\n",
    "\n",
    "# a 1-row, 2-column figure: go to the second subplot \n",
    "plt.subplot(1,2,2)\n",
    "sns.barplot(x='race_ethnicity', y='hypoxemia_incidence', data = hypoxemia_by_race_SaO2)\n",
    "plt.title ('Hypoxemia Incidence - SaO2')\n",
    "plt.xlabel('Race/Ethnicity')\n",
    "plt.ylabel ('Hypoxemia Incidence (%)')\n",
    "plt.xticks(rotation = 45)\n",
    "plt.ylim(0,y_max)\n",
    "\n",
    "# Adjust the space between the 2 subplots \n",
    "plt.subplots_adjust (wspace = 0.2)\n",
    "\n",
    "plt.show()"
   ]
  },
  {
   "cell_type": "markdown",
   "id": "ed30a59d",
   "metadata": {},
   "source": [
    "Key Observation:\n",
    "* The disparity between the incidence of hypoxemia based on SpO2 and SaO2 measurements  indicates that relying only on SpO2 can lead to underestimation of hypoxemia, especially in certain racial-ethnic groups.\n",
    "* The analysis reveals that SaO2 measurements uncover hidden hypoxemia cases not detected by SpO2 alone. \n"
   ]
  },
  {
   "cell_type": "markdown",
   "id": "d9a36c50",
   "metadata": {},
   "source": [
    "### Patients with both SpO2 and SaO2 measurements by race/ethnicity \n",
    "This section identifies the percentage of patients with both SpO2 and SaO2 measurements across different racial/ethnic groups. It highlights the bias introduced by the incomplete data, showing that not all patients have both measurements, which can impact the accuracy and fairness of clinical assessments across demographics."
   ]
  },
  {
   "cell_type": "code",
   "execution_count": 40,
   "id": "db77c0ab-72ea-455b-9e72-4ca8f0257512",
   "metadata": {},
   "outputs": [
    {
     "name": "stdout",
     "output_type": "stream",
     "text": [
      "Percentage of rows with SpO2 = 0: 0.00%\n",
      "Percentage of rows with SaO2 = 0: 0.00%\n"
     ]
    }
   ],
   "source": [
    "# Calculate the percentage of rows with a value of 0 for SpO2 and SaO2\n",
    "spO2_zero_percentage = (df_final_clean['SpO2'] == 0).mean() * 100\n",
    "saO2_zero_percentage = (df_final_clean['SaO2'] == 0).mean() * 100\n",
    "\n",
    "print(f\"Percentage of rows with SpO2 = 0: {spO2_zero_percentage:.2f}%\")\n",
    "print(f\"Percentage of rows with SaO2 = 0: {saO2_zero_percentage:.2f}%\")"
   ]
  },
  {
   "cell_type": "code",
   "execution_count": 41,
   "id": "3058a806",
   "metadata": {},
   "outputs": [
    {
     "name": "stdout",
     "output_type": "stream",
     "text": [
      "       race_ethnicity  count  percentage\n",
      "0               Asian    755    1.844658\n",
      "1               Black   4252   10.388722\n",
      "2  Hispanic OR Latino   1915    4.678834\n",
      "3               White  34007   83.087786\n"
     ]
    },
    {
     "data": {
      "image/png": "[encoded data removed]",
      "text/plain": [
       "<Figure size 1200x800 with 1 Axes>"
      ]
     },
     "metadata": {},
     "output_type": "display_data"
    }
   ],
   "source": [
    "# Group by race_ethnicity and count the number of patients with both measurements\n",
    "patients_with_both_pairs = df_final_clean.groupby('race_ethnicity').size().reset_index(name='count')\n",
    "\n",
    "# Calculate the percentage of patients with both measurements for each racial/ethnic group\n",
    "total_patients = len(df_final_clean)\n",
    "patients_with_both_pairs['percentage'] = (patients_with_both_pairs['count'] / total_patients) * 100\n",
    "\n",
    "# Display the results\n",
    "print(patients_with_both_pairs)\n",
    "\n",
    "\n",
    "plt.figure(figsize=(12, 8))\n",
    "sns.barplot(x='race_ethnicity', y='percentage', data=patients_with_both_pairs)\n",
    "plt.title('Percentage of Patients with Both SpO2 and SaO2 Measurements by Race/Ethnicity')\n",
    "plt.xlabel('Race/Ethnicity')\n",
    "plt.ylabel('Percentage of Patients')\n",
    "plt.show()\n"
   ]
  },
  {
   "cell_type": "markdown",
   "id": "4e1838ea-5c5b-4443-8d5c-369f0c43afa5",
   "metadata": {},
   "source": [
    "Observation: Since there are no missing values in the SpO2 and SaO2 columns, the percentage distribution is primarily reflecting the demographic composition of the dataset. This analysis highlights the proportion of each racial/ethnic group that has complete SpO2 and SaO2 measurements, indicating that the dataset is predominantly composed of white patients.\n",
    "\n",
    "Interpretation: \n",
    "* Data Representation and Bias: The disproportionate representation of white patients in the dataset might affect the detection of hypoxemia in non-white patients. Since pulse oximeters are known to be less accurate for individuals with darker skin tones, this imbalance could lead to underestimation of hypoxemia in underrepresented groups.\n",
    "\n",
    "* Clinical Implications: If hypoxemia is not accurately detected due to demographic bias in the dataset, non-white patients might receive suboptimal care. Building models predicting hypoxemia with this dataset without a consideration of the distribution will create models biased towards the white population and will not detect many cases in black patients. This analysis highlights the need for diverse datasets to ensure equitable healthcare and accurate hypoxemia detection across all racial/ethnic groups. "
   ]
  },
  {
   "cell_type": "markdown",
   "id": "4053ee6a",
   "metadata": {},
   "source": [
    "## 3. Hidden Hypoxemia\n",
    "This brings us to the concept of hidden hypoxemia. Hidden hypoxemia occurs when patients exhibit low blood oxygen levels that are not detected by pulse oximetry. The accuracy issues and dataset imbalances can exacerbate this problem, particularly in non-white populations. In the next section, we will explore the prevalence of hidden hypoxemia across different racial and ethnic groups, highlighting the critical need for accurate and equitable diagnostic tools in clinical settings.\n",
    "\n",
    "\n",
    "* Identify hidden hypoxemia using both SpO2 and SaO2 measurements.\n",
    "* Compare the incidence of hidden hypoxemia across different demographic groups.\n",
    "* Highlight how the bias in SpO2 measurements can lead to hidden hypoxemia, particularly in certain demographic groups.\n",
    "\n",
    "Goal: To identify hidden hypoxemia (patients with normal SpO2 but low SaO2) and analyze its prevalence across different demographics. This step uncovers the hidden bias in SpO2 measurements and shows how certain groups are disproportionately affected.\n"
   ]
  },
  {
   "cell_type": "markdown",
   "id": "522eac11",
   "metadata": {},
   "source": [
    "### Hidden Hypoxemia - SpO2 & SaO2"
   ]
  },
  {
   "cell_type": "code",
   "execution_count": 42,
   "id": "dcadab09",
   "metadata": {},
   "outputs": [
    {
     "name": "stdout",
     "output_type": "stream",
     "text": [
      "       race_ethnicity  hidden_hypoxemia_incidence\n",
      "0               Asian                    2.516556\n",
      "1               Black                    4.350894\n",
      "2  Hispanic OR Latino                    3.028721\n",
      "3               White                    3.358132\n"
     ]
    },
    {
     "name": "stderr",
     "output_type": "stream",
     "text": [
      "/var/folders/sw/5f53r1m13rq2jww8lqgbks700000gn/T/ipykernel_13056/232903388.py:2: SettingWithCopyWarning: \n",
      "A value is trying to be set on a copy of a slice from a DataFrame.\n",
      "Try using .loc[row_indexer,col_indexer] = value instead\n",
      "\n",
      "See the caveats in the documentation: https://pandas.pydata.org/pandas-docs/stable/user_guide/indexing.html#returning-a-view-versus-a-copy\n",
      "  df_final_clean['hidden_hypoxemia'] = df_final_clean.apply(lambda row: row['SpO2'] >= 88 and row['SaO2'] < 88, axis=1)\n"
     ]
    }
   ],
   "source": [
    "# Identify hidden hypoxemia (SpO2 >= 88% and SaO2 < 88%)\n",
    "df_final_clean['hidden_hypoxemia'] = df_final_clean.apply(lambda row: row['SpO2'] >= 88 and row['SaO2'] < 88, axis=1)\n",
    "\n",
    "# Incidence of hidden hypoxemia by race_ethnicity\n",
    "hidden_hypoxemia_by_race = df_final_clean.groupby('race_ethnicity')['hidden_hypoxemia'].mean().reset_index()\n",
    "hidden_hypoxemia_by_race.columns = ['race_ethnicity', 'hidden_hypoxemia_incidence']\n",
    "hidden_hypoxemia_by_race['hidden_hypoxemia_incidence'] *= 100\n",
    "\n",
    "print(hidden_hypoxemia_by_race)"
   ]
  },
  {
   "cell_type": "code",
   "execution_count": 43,
   "id": "2133315d",
   "metadata": {},
   "outputs": [
    {
     "data": {
      "image/png": "[encoded data removed]",
      "text/plain": [
       "<Figure size 1200x800 with 1 Axes>"
      ]
     },
     "metadata": {},
     "output_type": "display_data"
    }
   ],
   "source": [
    " # Visualization\n",
    "plt.figure(figsize=(12, 8))\n",
    "sns.barplot(x='race_ethnicity', y='hidden_hypoxemia_incidence', data=hidden_hypoxemia_by_race)\n",
    "plt.title('Hidden Hypoxemia Incidence by Race/Ethnicity')\n",
    "plt.xlabel('Race/Ethnicity')\n",
    "plt.ylabel('Hidden Hypoxemia Incidence (%)')\n",
    "plt.xticks(rotation = 45)\n",
    "\n",
    "plt.show()"
   ]
  },
  {
   "cell_type": "markdown",
   "id": "83e07335",
   "metadata": {},
   "source": [
    "Observation: The higher incidence of hidden hypoxemia in Black patients further supports the notion of bias in SpO2 measurements. Pulse oximeters may be less accurate for individuals with darker skin, resulting in normal SpO2 readings despite low SaO2 levels. This can lead to missed diagnoses and delayed treatment for hypoxemia."
   ]
  },
  {
   "cell_type": "markdown",
   "id": "d436996f",
   "metadata": {},
   "source": [
    "### Conclusion: \n",
    "\n",
    "* Objective: To identify hidden hypoxemia by considering both SpO2 and SaO2 measurements and to compare its incidence across different racial/ethnic groups.\n",
    "* Findings: The analysis of hidden hypoxemia shows even more pronounced disparities, with Black patients having the highest incidence.\n",
    "* Implication: The high incidence of hidden hypoxemia in Black patients indicates that relying solely on SpO2 can miss cases of low blood oxygen levels, particularly in this group. This highlights the importance of considering SaO2 measurements to ensure accurate diagnosis and treatment.\n",
    "\n",
    "The analysis highlights the importance of considering both SpO2 and SaO2 measurements in clinical settings, especially for patients from racial/ethnic groups that may be more susceptible to inaccuracies in SpO2 readings."
   ]
  },
  {
   "cell_type": "markdown",
   "id": "be15b4f0-d655-4b61-bd1c-0a9f18f7f4b6",
   "metadata": {},
   "source": [
    "# Part 2: Modeling "
   ]
  },
  {
   "cell_type": "markdown",
   "id": "3058fc5c-5d71-4c94-98f0-aad39b9dba93",
   "metadata": {},
   "source": [
    "## SpO2 modifications - including the bias \n",
    "This first step is important in the tutorial as it simulates the impact of a known bias in medical devices, specifically pulse oximeters, which often overestimate blood oxygen levels in Black patients. By artificially increasing SpO2 values for Black patients by 10%, we create a dataset that exaggerates this bias. This allows us to analyze how such inaccuracies affect downstream clinical predictions, such as mortality, and highlights the need for fair and accurate data in healthcare machine learning models. This step sets the stage for understanding the broader implications of hidden biases in medical data.\n"
   ]
  },
  {
   "cell_type": "code",
   "execution_count": 44,
   "id": "7fe2eaaa-3b95-4785-b924-764582bcbdf5",
   "metadata": {},
   "outputs": [
    {
     "name": "stdout",
     "output_type": "stream",
     "text": [
      "Baseline SpO2 Distribution:\n",
      "count    40929.000000\n",
      "mean        97.148525\n",
      "std          3.830732\n",
      "min         70.000000\n",
      "25%         96.000000\n",
      "50%         98.000000\n",
      "75%        100.000000\n",
      "max        100.000000\n",
      "Name: SpO2, dtype: float64\n"
     ]
    }
   ],
   "source": [
    "# Display the baseline distribution of SpO2\n",
    "print(\"Baseline SpO2 Distribution:\")\n",
    "print(df_final_clean['SpO2'].describe())"
   ]
  },
  {
   "cell_type": "code",
   "execution_count": 54,
   "id": "d9ad6638-8432-44b3-b558-37326425a9e9",
   "metadata": {},
   "outputs": [
    {
     "name": "stderr",
     "output_type": "stream",
     "text": [
      "/var/folders/sw/5f53r1m13rq2jww8lqgbks700000gn/T/ipykernel_13056/3171181742.py:4: SettingWithCopyWarning: \n",
      "A value is trying to be set on a copy of a slice from a DataFrame.\n",
      "Try using .loc[row_indexer,col_indexer] = value instead\n",
      "\n",
      "See the caveats in the documentation: https://pandas.pydata.org/pandas-docs/stable/user_guide/indexing.html#returning-a-view-versus-a-copy\n",
      "  df_final_clean['SpO2_biased'] = df_final_clean.apply(\n"
     ]
    }
   ],
   "source": [
    "# Add bias to Black patients' SpO2\n",
    "delta_to_add = 10\n",
    "\n",
    "df_final_clean['SpO2_biased'] = df_final_clean.apply(\n",
    "    lambda row: min(row['SpO2'] + delta_to_add, 100) if row['race_ethnicity'] == 'Black' else row['SpO2'],\n",
    "    axis=1\n",
    ")"
   ]
  },
  {
   "cell_type": "code",
   "execution_count": 57,
   "id": "7710ab66-2e4c-4f82-bb26-f2b3ee5a754d",
   "metadata": {},
   "outputs": [
    {
     "name": "stdout",
     "output_type": "stream",
     "text": [
      "Before modification:\n",
      "count    4252.000000\n",
      "mean       97.709313\n",
      "std         3.876860\n",
      "min        70.000000\n",
      "25%        97.000000\n",
      "50%        99.000000\n",
      "75%       100.000000\n",
      "max       100.000000\n",
      "Name: SpO2, dtype: float64\n",
      "\n",
      "\n",
      "After modification:\n",
      "count    4252.000000\n",
      "mean       99.737300\n",
      "std         1.668728\n",
      "min        80.000000\n",
      "25%       100.000000\n",
      "50%       100.000000\n",
      "75%       100.000000\n",
      "max       100.000000\n",
      "Name: SpO2_biased, dtype: float64\n"
     ]
    }
   ],
   "source": [
    "# Compare both distributions for Black patients before and after modification\n",
    "print(\"Before modification:\")\n",
    "print(df_final_clean.loc[df_final_clean['race_ethnicity'] == 'Black', 'SpO2'].describe())\n",
    "\n",
    "print (\"\\n\")\n",
    "print(\"After modification:\")\n",
    "print(df_final_clean.loc[df_final_clean['race_ethnicity'] == 'Black', 'SpO2_biased'].describe())\n"
   ]
  },
  {
   "cell_type": "markdown",
   "id": "29a1b3bd-2284-4baf-a448-0b8f572daafe",
   "metadata": {},
   "source": [
    "There is a 1% difference in the median which shows the impact of the introduced bias. \n",
    "N.B: The median is derived from the .describe() function, which provides various statistical summaries of the data, including the median (50% value)."
   ]
  },
  {
   "cell_type": "markdown",
   "id": "f440a25d-0282-4422-ac9b-82584639c999",
   "metadata": {
    "jp-MarkdownHeadingCollapsed": true
   },
   "source": [
    "## Train Test split "
   ]
  },
  {
   "cell_type": "code",
   "execution_count": 62,
   "id": "669d8e78-ef62-413e-bd33-5dd6c1043f48",
   "metadata": {},
   "outputs": [],
   "source": [
    "from sklearn.model_selection import train_test_split\n",
    "\n",
    "data_train, data_test = train_test_split (df_final_clean, test_size = 0.2, random_state = 42)"
   ]
  },
  {
   "cell_type": "code",
   "execution_count": 63,
   "id": "7c05eec7-1787-414e-89d7-591426d9130a",
   "metadata": {},
   "outputs": [
    {
     "name": "stdout",
     "output_type": "stream",
     "text": [
      "Shape of the training data (32743, 47)\n",
      "Shape of the testing data (8186, 47)\n"
     ]
    }
   ],
   "source": [
    "print(\"Shape of the training data\", data_train.shape)\n",
    "print(\"Shape of the testing data\", data_test.shape)"
   ]
  },
  {
   "cell_type": "markdown",
   "id": "b60fc9ca-39c9-4517-8032-f1befc390e9d",
   "metadata": {},
   "source": [
    "### Check balancing of the mortality outcome\n",
    "The goal of checking the mean of hospital_death in the overall dataset, training set, and test set is to ensure that the distribution of the target variable (in-hospital mortality) is balanced across these subsets. This helps to verify that the data splitting process did not introduce any bias, ensuring the model will be trained and evaluated on representative samples."
   ]
  },
  {
   "cell_type": "code",
   "execution_count": 66,
   "id": "f2373388-e01c-4797-8fbc-2fe97031a9b1",
   "metadata": {},
   "outputs": [
    {
     "name": "stdout",
     "output_type": "stream",
     "text": [
      "0.18194922915292336\n",
      "0.18025226766026325\n",
      "0.18873686782311264\n"
     ]
    }
   ],
   "source": [
    "print(df_final_clean.in_hospital_mortality.mean())\n",
    "print(data_train.in_hospital_mortality.mean()) \n",
    "print(data_test.in_hospital_mortality.mean())"
   ]
  },
  {
   "cell_type": "markdown",
   "id": "8fbaae74-a52c-40eb-85ae-288735b0baed",
   "metadata": {},
   "source": [
    "They should not be too different as we need to ensure that the proportions of the target variable are similar across the overall dataset, training set, and test set helps in building a model that is more likely to generalize well and provides accurate performance metrics."
   ]
  },
  {
   "cell_type": "markdown",
   "id": "9ebd6a7b-a9c2-42d3-a242-5c769466dfca",
   "metadata": {},
   "source": [
    "## Multivariate Logistic Regression Model \n",
    "\n",
    "The goal of comparing the performance of this model with and without the biased SpO2 variable is to understand the impact of this bias on the accuracy and fairness of mortality predictions. Specifically, we aim to see how the bias in SpO2 values for Black patients affects the model's ability to correctly predict in-hospital mortality across different racial and ethnic groups.\n",
    "\n",
    "\n",
    "\n",
    "- **Purpose of Multivariate Logistic Regression**: To assess binary outcomes, such as whether a patient experienced in-hospital mortality (yes/no).\n",
    "- **Why**: Logistic regression is suitable for binary dependent variables. It allows the researchers to determine the odds of a particular outcome occurring (e.g., in-hospital mortality) based on several independent variables (covariates), such as age, sex, SOFA score, and presence of hidden hypoxemia. By using logistic regression, the paper can quantify how hidden hypoxemia, along with other factors, influences the likelihood of in-hospital mortality. This helps in understanding the severity and implications of undetected low oxygen levels."
   ]
  },
  {
   "cell_type": "code",
   "execution_count": 146,
   "id": "66897207-bfcf-4a6c-b0a1-99c4ae9fb2de",
   "metadata": {},
   "outputs": [],
   "source": [
    "# Define the outcome column\n",
    "outcome = ['in_hospital_mortality']"
   ]
  },
  {
   "cell_type": "code",
   "execution_count": 147,
   "id": "7981df3e-a730-485d-9265-b052441a586a",
   "metadata": {},
   "outputs": [],
   "source": [
    "y_train = data_train[outcome]\n",
    "y_test = data_test[outcome]"
   ]
  },
  {
   "cell_type": "code",
   "execution_count": 148,
   "id": "ecdc09ee-c4f3-4acc-9367-a8fea2f41a24",
   "metadata": {},
   "outputs": [],
   "source": [
    "# Select features to use \n",
    "features_original = [\n",
    "     #Demographics \n",
    "            'admission_age', 'sex_female',\n",
    "     # Clinical Measurements \n",
    "            'BMI_admission', 'SaO2', 'SpO2', \n",
    "    # Clinical Scores \n",
    "            'sofa_past_overall_24hr', 'sofa_future_overall_24hr', 'comorbidity_score_value', \n",
    "    # hospital data \n",
    "             'los_ICU', 'los_hospital', 'hidden_hypoxemia'\n",
    "]\n",
    "\n",
    "# Define features for the biased model (using SpO2_biased instead of SpO2)\n",
    "features_biased = [\n",
    "    'admission_age', 'sex_female', 'BMI_admission', 'SpO2_biased', 'SaO2', \n",
    "    'sofa_past_overall_24hr', 'sofa_future_overall_24hr', 'comorbidity_score_value', \n",
    "    'los_ICU', 'los_hospital'\n",
    "]\n",
    "\n",
    "\n",
    "\n",
    "# is added more variables needed? 'datetime_icu_admit', 'datetime_icu_discharge',"
   ]
  },
  {
   "cell_type": "code",
   "execution_count": 149,
   "id": "9d1ca284-b496-49de-bb42-ea0bdde1625b",
   "metadata": {},
   "outputs": [],
   "source": [
    "# Split data into training and testing sets\n",
    "X_train_original = data_train[features_original]\n",
    "X_test_original = data_test[features_original]\n",
    "X_train_biased = data_train[features_biased]\n",
    "X_test_biased = data_test[features_biased]"
   ]
  },
  {
   "cell_type": "code",
   "execution_count": 150,
   "id": "53512b12-a283-4345-bdf8-310e33ecc05f",
   "metadata": {},
   "outputs": [],
   "source": [
    "# Initialize and train the logistic regression model on original data\n",
    "model_original = LogisticRegression(max_iter=1000)\n",
    "model_original.fit(X_train_original, y_train.values.ravel())\n",
    "\n",
    "# Make predictions on the test set using the original model\n",
    "y_pred_original = model_original.predict(X_test_original)\n",
    "\n",
    "# Initialize and train the logistic regression model on biased data\n",
    "model_biased = LogisticRegression(max_iter=1000)\n",
    "model_biased.fit(X_train_biased, y_train.values.ravel())\n",
    "\n",
    "# Make predictions on the test set using the biased model\n",
    "y_pred_biased = model_biased.predict(X_test_biased)"
   ]
  },
  {
   "cell_type": "code",
   "execution_count": 151,
   "id": "47288fe0-e9f6-4271-b58b-716f1e6422a8",
   "metadata": {},
   "outputs": [
    {
     "name": "stdout",
     "output_type": "stream",
     "text": [
      "Accuracy (Original Data): 0.82\n",
      "Classification Report (Original Data):\n",
      "              precision    recall  f1-score   support\n",
      "\n",
      "         0.0       0.83      0.98      0.90      6641\n",
      "         1.0       0.67      0.14      0.23      1545\n",
      "\n",
      "    accuracy                           0.82      8186\n",
      "   macro avg       0.75      0.56      0.56      8186\n",
      "weighted avg       0.80      0.82      0.77      8186\n",
      "\n",
      "Accuracy (Biased Data): 0.83\n",
      "Classification Report (Biased Data):\n",
      "              precision    recall  f1-score   support\n",
      "\n",
      "         0.0       0.83      0.98      0.90      6641\n",
      "         1.0       0.68      0.14      0.23      1545\n",
      "\n",
      "    accuracy                           0.83      8186\n",
      "   macro avg       0.76      0.56      0.57      8186\n",
      "weighted avg       0.80      0.83      0.77      8186\n",
      "\n"
     ]
    }
   ],
   "source": [
    "# Output the accuracy and classification report for both models\n",
    "accuracy_original = accuracy_score(y_test, y_pred_original)\n",
    "accuracy_biased = accuracy_score(y_test, y_pred_biased)\n",
    "\n",
    "print(f'Accuracy (Original Data): {accuracy_original:.2f}')\n",
    "print('Classification Report (Original Data):')\n",
    "print(classification_report(y_test, y_pred_original))\n",
    "\n",
    "print(f'Accuracy (Biased Data): {accuracy_biased:.2f}')\n",
    "print('Classification Report (Biased Data):')\n",
    "print(classification_report(y_test, y_pred_biased))"
   ]
  },
  {
   "cell_type": "code",
   "execution_count": 152,
   "id": "57ebed36-e378-4794-9ca0-d7a47c5b6e96",
   "metadata": {},
   "outputs": [
    {
     "name": "stdout",
     "output_type": "stream",
     "text": [
      "Feature Importance (Original Data):\n",
      "                     Feature  Importance\n",
      "6   sofa_future_overall_24hr    0.153308\n",
      "9                    los_ICU    0.090275\n",
      "5     sofa_past_overall_24hr    0.075847\n",
      "7    comorbidity_score_value    0.036144\n",
      "8    comorbidity_score_value    0.036144\n",
      "0              admission_age    0.016578\n",
      "3                       SaO2    0.010437\n",
      "11          hidden_hypoxemia    0.002834\n",
      "1                 sex_female    0.002183\n",
      "2              BMI_admission    0.000001\n",
      "4                       SpO2   -0.050929\n",
      "10              los_hospital   -0.086820\n",
      "Feature Importance (Biased Data):\n",
      "                     Feature  Importance\n",
      "6   sofa_future_overall_24hr    0.153222\n",
      "9                    los_ICU    0.090265\n",
      "5     sofa_past_overall_24hr    0.076184\n",
      "7    comorbidity_score_value    0.036396\n",
      "8    comorbidity_score_value    0.036396\n",
      "0              admission_age    0.016327\n",
      "4                       SaO2    0.004896\n",
      "1                 sex_female    0.002177\n",
      "2              BMI_admission    0.000002\n",
      "3                SpO2_biased   -0.045209\n",
      "10              los_hospital   -0.086744\n"
     ]
    },
    {
     "data": {
      "image/png": "[encoded data removed]",
      "text/plain": [
       "<Figure size 2400x800 with 2 Axes>"
      ]
     },
     "metadata": {},
     "output_type": "display_data"
    }
   ],
   "source": [
    "# Get the feature importance for the original model\n",
    "feature_importance_original = pd.DataFrame({\n",
    "    'Feature': X_train_original.columns,\n",
    "    'Importance': model_original.coef_[0]\n",
    "}).sort_values(by='Importance', ascending=False)\n",
    "\n",
    "print(\"Feature Importance (Original Data):\")\n",
    "print(feature_importance_original)\n",
    "\n",
    "# Get the feature importance for the biased model\n",
    "feature_importance_biased = pd.DataFrame({\n",
    "    'Feature': X_train_biased.columns,\n",
    "    'Importance': model_biased.coef_[0]\n",
    "}).sort_values(by='Importance', ascending=False)\n",
    "\n",
    "print(\"Feature Importance (Biased Data):\")\n",
    "print(feature_importance_biased)\n",
    "\n",
    "# Plotting feature importance for both models side by side\n",
    "fig, axs = plt.subplots(1, 2, figsize=(24, 8))\n",
    "\n",
    "# Plot feature importance for the original model\n",
    "axs[0].barh(feature_importance_original['Feature'], feature_importance_original['Importance'])\n",
    "axs[0].set_xlabel('Importance')\n",
    "axs[0].set_ylabel('Feature')\n",
    "axs[0].set_title('Feature Importance in Logistic Regression (Original Data)')\n",
    "axs[0].invert_yaxis()\n",
    "\n",
    "# Plot feature importance for the biased model\n",
    "axs[1].barh(feature_importance_biased['Feature'], feature_importance_biased['Importance'])\n",
    "axs[1].set_xlabel('Importance')\n",
    "axs[1].set_ylabel('Feature')\n",
    "axs[1].set_title('Feature Importance in Logistic Regression (Biased Data)')\n",
    "axs[1].invert_yaxis()\n",
    "\n",
    "# Adjust layout to prevent overlap\n",
    "plt.tight_layout()\n",
    "plt.show()"
   ]
  },
  {
   "cell_type": "code",
   "execution_count": 153,
   "id": "6e0950df-fef5-40e2-a84f-705bddd9fa2a",
   "metadata": {},
   "outputs": [
    {
     "name": "stdout",
     "output_type": "stream",
     "text": [
      "Classification Report for White (Original Data):\n",
      "              precision    recall  f1-score   support\n",
      "\n",
      "         0.0       0.83      0.99      0.90      5546\n",
      "         1.0       0.68      0.14      0.23      1281\n",
      "\n",
      "    accuracy                           0.83      6827\n",
      "   macro avg       0.76      0.56      0.57      6827\n",
      "weighted avg       0.80      0.83      0.78      6827\n",
      "\n",
      "Classification Report for Black (Original Data):\n",
      "              precision    recall  f1-score   support\n",
      "\n",
      "         0.0       0.83      0.98      0.90       665\n",
      "         1.0       0.63      0.14      0.23       155\n",
      "\n",
      "    accuracy                           0.82       820\n",
      "   macro avg       0.73      0.56      0.57       820\n",
      "weighted avg       0.79      0.82      0.77       820\n",
      "\n",
      "Classification Report for Hispanic OR Latino (Original Data):\n",
      "              precision    recall  f1-score   support\n",
      "\n",
      "         0.0       0.82      0.98      0.89       321\n",
      "         1.0       0.65      0.14      0.23        80\n",
      "\n",
      "    accuracy                           0.81       401\n",
      "   macro avg       0.73      0.56      0.56       401\n",
      "weighted avg       0.79      0.81      0.76       401\n",
      "\n",
      "Classification Report for Asian (Original Data):\n",
      "              precision    recall  f1-score   support\n",
      "\n",
      "         0.0       0.80      0.96      0.87       109\n",
      "         1.0       0.43      0.10      0.17        29\n",
      "\n",
      "    accuracy                           0.78       138\n",
      "   macro avg       0.62      0.53      0.52       138\n",
      "weighted avg       0.72      0.78      0.73       138\n",
      "\n",
      "Classification Report for White (Biased Data):\n",
      "              precision    recall  f1-score   support\n",
      "\n",
      "         0.0       0.83      0.99      0.90      5546\n",
      "         1.0       0.68      0.14      0.23      1281\n",
      "\n",
      "    accuracy                           0.83      6827\n",
      "   macro avg       0.76      0.56      0.57      6827\n",
      "weighted avg       0.80      0.83      0.78      6827\n",
      "\n",
      "Classification Report for Black (Biased Data):\n",
      "              precision    recall  f1-score   support\n",
      "\n",
      "         0.0       0.83      0.99      0.90       665\n",
      "         1.0       0.74      0.13      0.22       155\n",
      "\n",
      "    accuracy                           0.83       820\n",
      "   macro avg       0.79      0.56      0.56       820\n",
      "weighted avg       0.81      0.83      0.77       820\n",
      "\n",
      "Classification Report for Hispanic OR Latino (Biased Data):\n",
      "              precision    recall  f1-score   support\n",
      "\n",
      "         0.0       0.82      0.98      0.89       321\n",
      "         1.0       0.67      0.15      0.24        80\n",
      "\n",
      "    accuracy                           0.82       401\n",
      "   macro avg       0.74      0.57      0.57       401\n",
      "weighted avg       0.79      0.82      0.77       401\n",
      "\n",
      "Classification Report for Asian (Biased Data):\n",
      "              precision    recall  f1-score   support\n",
      "\n",
      "         0.0       0.80      0.96      0.87       109\n",
      "         1.0       0.43      0.10      0.17        29\n",
      "\n",
      "    accuracy                           0.78       138\n",
      "   macro avg       0.62      0.53      0.52       138\n",
      "weighted avg       0.72      0.78      0.73       138\n",
      "\n"
     ]
    }
   ],
   "source": [
    "# Evaluate model across races for original model\n",
    "evaluation_df_original = X_test_original.copy()\n",
    "evaluation_df_original['y_test'] = y_test.values\n",
    "evaluation_df_original['y_pred'] = y_pred_original\n",
    "evaluation_df_original['race_ethnicity'] = data_test['race_ethnicity'].values\n",
    "\n",
    "group_reports_original = {}\n",
    "for group in evaluation_df_original['race_ethnicity'].unique():\n",
    "    group_data = evaluation_df_original[evaluation_df_original['race_ethnicity'] == group]\n",
    "    y_test_group = group_data['y_test']\n",
    "    y_pred_group = group_data['y_pred']\n",
    "    report = classification_report(y_test_group, y_pred_group, output_dict=True)\n",
    "    group_reports_original[group] = report\n",
    "    print(f\"Classification Report for {group} (Original Data):\")\n",
    "    print(classification_report(y_test_group, y_pred_group))\n",
    "\n",
    "# Evaluate model across races for biased model\n",
    "evaluation_df_biased = X_test_biased.copy()\n",
    "evaluation_df_biased['y_test'] = y_test.values\n",
    "evaluation_df_biased['y_pred'] = y_pred_biased\n",
    "evaluation_df_biased['race_ethnicity'] = data_test['race_ethnicity'].values\n",
    "\n",
    "group_reports_biased = {}\n",
    "for group in evaluation_df_biased['race_ethnicity'].unique():\n",
    "    group_data = evaluation_df_biased[evaluation_df_biased['race_ethnicity'] == group]\n",
    "    y_test_group = group_data['y_test']\n",
    "    y_pred_group = group_data['y_pred']\n",
    "    report = classification_report(y_test_group, y_pred_group, output_dict=True)\n",
    "    group_reports_biased[group] = report\n",
    "    print(f\"Classification Report for {group} (Biased Data):\")\n",
    "    print(classification_report(y_test_group, y_pred_group))\n",
    "\n",
    "# # Create a summary DataFrame for original and biased models\n",
    "# summary_original = pd.DataFrame(group_reports_original).transpose()\n",
    "# summary_biased = pd.DataFrame(group_reports_biased).transpose()\n",
    "\n",
    "# # Display the summary DataFrames with pandas styling\n",
    "# summary_original_styled = summary_original.style.set_caption(\"Classification Report Summary (Original Data)\").background_gradient()\n",
    "# summary_biased_styled = summary_biased.style.set_caption(\"Classification Report Summary (Biased Data)\").background_gradient()\n",
    "\n",
    "# display(summary_original_styled)\n",
    "# display(summary_biased_styled)\n"
   ]
  },
  {
   "cell_type": "markdown",
   "id": "de6f222f-b0f3-48b5-b96b-144f58b92702",
   "metadata": {},
   "source": [
    "Reminder: \n",
    "\n",
    "* Precision: Measures how many of the predicted positive cases (patients predicted to die) are actually positive. High precision indicates fewer false positives, meaning the model is more accurate in predicting deaths.\n",
    "\n",
    "* Recall: Measures how many of the actual positive cases (patients who actually died) are predicted correctly. High recall indicates fewer false negatives, meaning the model is effective in identifying deaths.\n",
    "\n",
    "* F1-Score: The harmonic mean of precision and recall, providing a balance between the two. A higher F1-score indicates a better balance between precision and recall.\n",
    "\n",
    "* Support: The number of actual occurrences of the class in the dataset. It shows the distribution of classes within the data, helping understand how class imbalance might affect the model's performance.\n",
    "\n",
    "* Accuracy: The overall proportion of correctly predicted cases (both deaths and survivals) out of all cases. High accuracy suggests the model is generally reliable, but it can be misleading in the presence of class imbalance.\n",
    "\n",
    "* Macro Avg: Averages the metric across all classes, treating each class equally. This helps understand the model's performance across different groups regardless of class imbalance.\n",
    "\n",
    "* Weighted Avg: Averages the metric across all classes, weighting each by its support (number of instances). This provides a more realistic evaluation when there is class imbalance."
   ]
  },
  {
   "cell_type": "markdown",
   "id": "aa5b231c",
   "metadata": {},
   "source": [
    "# Conclusion: \n",
    "The tutorial demonstrates the critical importance of understanding the origins and potential biases of the variables used in clinical measurements. By revealing the limitations of relying solely on SpO2, it highlights how combining SpO2 with SaO2 provides a more accurate and equitable assessment of patients' oxygen levels. "
   ]
  }
 ],
 "metadata": {
  "kernelspec": {
   "display_name": "Python (bumblekite_tutorial)",
   "language": "python",
   "name": "bumblekite_tutorial"
  },
  "language_info": {
   "codemirror_mode": {
    "name": "ipython",
    "version": 3
   },
   "file_extension": ".py",
   "mimetype": "text/x-python",
   "name": "python",
   "nbconvert_exporter": "python",
   "pygments_lexer": "ipython3",
   "version": "3.8.19"
  }
 },
 "nbformat": 4,
 "nbformat_minor": 5
}
