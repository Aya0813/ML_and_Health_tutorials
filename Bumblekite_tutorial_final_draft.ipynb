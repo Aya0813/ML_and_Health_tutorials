{
  "cells": [
    {
      "cell_type": "markdown",
      "id": "94b4ea3d-3cce-49a5-bdf1-2e176fb91867",
      "metadata": {
        "jp-MarkdownHeadingCollapsed": true,
        "id": "94b4ea3d-3cce-49a5-bdf1-2e176fb91867"
      },
      "source": [
        "# Bumblekite Tutorial 1: Hidden Hypoxemia's Impact on In-Hospital Mortality\n",
        "\n",
        "\n",
        "* Problem Statement: ​Pulse oximeters are medical devices used to assess peripheral arterial oxygen saturation (SpO2) noninvasively. In contrast, the \"gold standard\" requires arterial blood to be drawn to measure the arterial oxygen saturation (SaO2). Pulse oximeters currently on the market measure  in populations with darker skin tones with lower accuracy. Pulse oximetry inaccuracies can fail to detect episodes of hidden hypoxemia, i.e., low SaO2 with high SpO2. Hidden hypoxemias can result in less treatment and increased mortality. Yet flawed, pulse oximeters remain ubiquitously used because of their ease of use; debiasing the underlying algorithms could alleviate the downstream repercussions of hidden hypoxemia.\n",
        "\n",
        "* Dataset: BOLD is a new comprehensive dataset that aims to underscore the importance of addressing biases in pulse oximetry accuracy, which disproportionately affect darker-skinned patients. The dataset was created by harmonizing three Electronic Health Record databases (MIMIC-III, MIMIC-IV, eICU-CRD) comprising Intensive Care Unit stays of US patients.\n",
        "\n",
        "* Main Paper: The tutorial is build upon the paper titled \"Analysis of Discrepancies Between Pulse Oximetry and Arterial Oxygen Saturation Measurements by Race and Ethnicity and Association With Organ Dysfunction and Mortality\" published in JAMA Network Open. This paper investigates discrepancies between pulse oximetry (SpO2) and arterial oxygen saturation (SaO2) measurements, examining the impact of these discrepancies on clinical outcomes across different racial and ethnic groups.\n",
        "\n",
        "\n",
        "* Objective of the tutorial: The objective of this tutorial is to provide a comprehensive guide on how to analyze and address biases in healthcare data, with a specific focus on hidden hypoxemia and its impact on in-hospital mortality predictions. Through a series of structured steps, including exploratory data analysis, data preprocessing, train-test splitting, and model evaluation, participants will learn how to:\n",
        "\n",
        "1. Detect and understand hidden patterns and biases in healthcare datasets.\n",
        "2. Preprocess data effectively to ensure robust and reliable model performance.\n",
        "3. Evaluate the influence of hidden hypoxemia on patient outcomes using statistical and machine learning techniques.\n",
        "4. Assess and compare the performance of different models across various racial groups to highlight the importance of careful feature selection and bias mitigation in clinical predictions.\n",
        "\n",
        "\n",
        "* Key Variables to keep in mind:\n",
        "\n",
        "1. **Pulse Oximetry (SpO2)**: This is a [ non-invasive ] method used to measure the oxygen level (oxygen saturation) in the blood. It is usually done using a device clipped onto a finger, toe, or earlobe. Normal SpO2 levels range from 95% to 100%, indicating sufficient oxygen in the blood. Levels below 95% can indicate hypoxemia, with severe hypoxemia occurring below 85%.\n",
        "2. **Arterial Oxygen Saturation (SaO2)**: [ invasive ] This is the measurement of oxygen saturation directly from the blood using an arterial blood gas (ABG) test. It is more accurate than pulse oximetry but requires drawing blood from an artery. SaO2 provides a direct measurement of oxygen levels in the blood and is used to confirm the accuracy of SpO2 readings, especially in cases of suspected hypoxemia.\n",
        "3. **ABG**: Arterial Blood Gas\n",
        "4. **Hypoxemia**: This refers to low levels of oxygen in the blood. It can be dangerous and requires medical attention.\n",
        "5. **Hidden Hypoxemia**: This occurs when a patient's pulse oximetry reading (SpO2) suggests they have normal oxygen levels, but their arterial oxygen saturation (SaO2) shows they actually have low oxygen levels. → (ie, SpO2 ≥ 88% but SaO2 <88%)\n",
        "6. **Race and Ethnicity**: In this context, the paper examines differences in the accuracy of pulse oximetry readings among different racial and ethnic groups.\n",
        "7. **Organ Dysfunction**: This refers to the impaired function of organs (like the heart, lungs, liver, or kidneys) often assessed using specific scores like the Sequential Organ Failure Assessment (SOFA) score.\n",
        "8. **In-hospital Mortality**: This means death occurring during a hospital stay.\n",
        "9. **Sequential Organ Failure Assessment (SOFA) Score**: A scoring system used to track a patient's status during their stay in an intensive care unit (ICU). Higher scores indicate more severe organ dysfunction.\n",
        "10. **Electronic Health Record (EHR)**: Digital version of patients' paper charts. They contain the medical and treatment history of patients.\n",
        "\n"
      ]
    },
    {
      "cell_type": "markdown",
      "id": "5e7f92a6",
      "metadata": {
        "jp-MarkdownHeadingCollapsed": true,
        "id": "5e7f92a6"
      },
      "source": [
        "# Loading the dependencies and libraries"
      ]
    },
    {
      "cell_type": "code",
      "execution_count": 1,
      "id": "c1519ada-8324-415d-a875-c90c636a3e41",
      "metadata": {
        "id": "c1519ada-8324-415d-a875-c90c636a3e41"
      },
      "outputs": [],
      "source": [
        "#### Make sure you are in the right env kernel"
      ]
    },
    {
      "cell_type": "code",
      "source": [
        "!pip install tableone"
      ],
      "metadata": {
        "colab": {
          "base_uri": "https://localhost:8080/"
        },
        "id": "nTPwgbtmjk1u",
        "outputId": "f635e9bd-14c3-4032-c09e-9b0696fbf795"
      },
      "id": "nTPwgbtmjk1u",
      "execution_count": 3,
      "outputs": [
        {
          "output_type": "stream",
          "name": "stdout",
          "text": [
            "Collecting tableone\n",
            "  Downloading tableone-0.9.1-py3-none-any.whl (41 kB)\n",
            "\u001b[2K     \u001b[90m━━━━━━━━━━━━━━━━━━━━━━━━━━━━━━━━━━━━━━━━\u001b[0m \u001b[32m41.6/41.6 kB\u001b[0m \u001b[31m581.6 kB/s\u001b[0m eta \u001b[36m0:00:00\u001b[0m\n",
            "\u001b[?25hRequirement already satisfied: jinja2>=3.1.4 in /usr/local/lib/python3.10/dist-packages (from tableone) (3.1.4)\n",
            "Requirement already satisfied: numpy>=1.19.1 in /usr/local/lib/python3.10/dist-packages (from tableone) (1.25.2)\n",
            "Requirement already satisfied: openpyxl>=3.1.2 in /usr/local/lib/python3.10/dist-packages (from tableone) (3.1.4)\n",
            "Requirement already satisfied: pandas>=2.0.3 in /usr/local/lib/python3.10/dist-packages (from tableone) (2.0.3)\n",
            "Requirement already satisfied: scipy>=1.10.1 in /usr/local/lib/python3.10/dist-packages (from tableone) (1.11.4)\n",
            "Requirement already satisfied: statsmodels>=0.14.1 in /usr/local/lib/python3.10/dist-packages (from tableone) (0.14.2)\n",
            "Requirement already satisfied: tabulate>=0.9.0 in /usr/local/lib/python3.10/dist-packages (from tableone) (0.9.0)\n",
            "Requirement already satisfied: MarkupSafe>=2.0 in /usr/local/lib/python3.10/dist-packages (from jinja2>=3.1.4->tableone) (2.1.5)\n",
            "Requirement already satisfied: et-xmlfile in /usr/local/lib/python3.10/dist-packages (from openpyxl>=3.1.2->tableone) (1.1.0)\n",
            "Requirement already satisfied: python-dateutil>=2.8.2 in /usr/local/lib/python3.10/dist-packages (from pandas>=2.0.3->tableone) (2.8.2)\n",
            "Requirement already satisfied: pytz>=2020.1 in /usr/local/lib/python3.10/dist-packages (from pandas>=2.0.3->tableone) (2023.4)\n",
            "Requirement already satisfied: tzdata>=2022.1 in /usr/local/lib/python3.10/dist-packages (from pandas>=2.0.3->tableone) (2024.1)\n",
            "Requirement already satisfied: patsy>=0.5.6 in /usr/local/lib/python3.10/dist-packages (from statsmodels>=0.14.1->tableone) (0.5.6)\n",
            "Requirement already satisfied: packaging>=21.3 in /usr/local/lib/python3.10/dist-packages (from statsmodels>=0.14.1->tableone) (24.1)\n",
            "Requirement already satisfied: six in /usr/local/lib/python3.10/dist-packages (from patsy>=0.5.6->statsmodels>=0.14.1->tableone) (1.16.0)\n",
            "Installing collected packages: tableone\n",
            "Successfully installed tableone-0.9.1\n"
          ]
        }
      ]
    },
    {
      "cell_type": "code",
      "execution_count": 4,
      "id": "c76671ec",
      "metadata": {
        "id": "c76671ec"
      },
      "outputs": [],
      "source": [
        "import sklearn\n",
        "import pandas as pd\n",
        "import matplotlib.pyplot as plt\n",
        "import numpy as np\n",
        "import seaborn as sns\n",
        "from tableone import TableOne\n",
        "# consider adding\n",
        "# import warnings\n",
        "# warnings.filterwarnings(\"ignore\")"
      ]
    },
    {
      "cell_type": "code",
      "source": [
        "from google.colab import drive\n",
        "drive.mount('/content/drive')"
      ],
      "metadata": {
        "colab": {
          "base_uri": "https://localhost:8080/"
        },
        "id": "eCDc0MvUjb5n",
        "outputId": "1c45f0e2-d8f3-4395-b921-51f5064d1c27"
      },
      "id": "eCDc0MvUjb5n",
      "execution_count": 7,
      "outputs": [
        {
          "output_type": "stream",
          "name": "stdout",
          "text": [
            "Drive already mounted at /content/drive; to attempt to forcibly remount, call drive.mount(\"/content/drive\", force_remount=True).\n"
          ]
        }
      ]
    },
    {
      "cell_type": "markdown",
      "id": "2a8ce331",
      "metadata": {
        "jp-MarkdownHeadingCollapsed": true,
        "id": "2a8ce331"
      },
      "source": [
        "# Loading the Data"
      ]
    },
    {
      "cell_type": "code",
      "execution_count": 8,
      "id": "0cd04d18",
      "metadata": {
        "id": "0cd04d18"
      },
      "outputs": [],
      "source": [
        "# Path to your CSV file\n",
        "csv_path = '/content/drive/MyDrive/BumbleKite_2024/code/pulseox_dataset.csv'\n",
        "\n",
        "# Read the CVS file using Pandas (df: dataframe)\n",
        "df_initial = pd.read_csv (csv_path, low_memory = False) # second arg ensures that pandas reads the CSV file in one go and tries to infer the data types of the columns more accurately"
      ]
    },
    {
      "cell_type": "markdown",
      "id": "88b12e56",
      "metadata": {
        "id": "88b12e56"
      },
      "source": [
        "# Pre Processing"
      ]
    },
    {
      "cell_type": "code",
      "execution_count": 9,
      "id": "9d79a732",
      "metadata": {
        "colab": {
          "base_uri": "https://localhost:8080/",
          "height": 0
        },
        "id": "9d79a732",
        "outputId": "38149639-40e5-40c8-9819-7c78c12110dc"
      },
      "outputs": [
        {
          "output_type": "execute_result",
          "data": {
            "text/plain": [
              "   unique_subject_id  unique_hospital_admission_id  unique_icustay_id  \\\n",
              "0                  0                             0                  0   \n",
              "1                  1                             1                  1   \n",
              "2                  2                             2                  2   \n",
              "3                  3                             3                  3   \n",
              "4                  4                             4                  4   \n",
              "\n",
              "  subject_id  hospital_admission_id  icustay_id source_db  hospitalid  \\\n",
              "0  002-10050                 183274      211144      eicu          71   \n",
              "1   002-1007                 178462      204935      eicu          71   \n",
              "2  002-10187                 150828      169525      eicu          73   \n",
              "3  002-10306                 198249      230427      eicu          63   \n",
              "4  002-10324                 188445      217835      eicu          73   \n",
              "\n",
              "  numbedscategory  teachingstatus  ... delta_sofa_future_coagulation_24hr  \\\n",
              "0       100 - 249           False  ...                             1525.0   \n",
              "1       100 - 249           False  ...                                NaN   \n",
              "2          >= 500            True  ...                             1547.0   \n",
              "3       100 - 249           False  ...                             1507.0   \n",
              "4          >= 500            True  ...                             1537.0   \n",
              "\n",
              "   sofa_future_coagulation_24hr  delta_sofa_future_liver_24hr  \\\n",
              "0                           1.0                        1525.0   \n",
              "1                           NaN                           NaN   \n",
              "2                           0.0                        1547.0   \n",
              "3                           2.0                        1507.0   \n",
              "4                           1.0                        1537.0   \n",
              "\n",
              "   sofa_future_liver_24hr  delta_sofa_future_cardiovascular_24hr  \\\n",
              "0                     0.0                                 1525.0   \n",
              "1                     NaN                                    NaN   \n",
              "2                     0.0                                 1547.0   \n",
              "3                     0.0                                 1507.0   \n",
              "4                     0.0                                 1537.0   \n",
              "\n",
              "   sofa_future_cardiovascular_24hr delta_sofa_future_cns_24hr  \\\n",
              "0                              1.0                     1525.0   \n",
              "1                              NaN                        NaN   \n",
              "2                              1.0                     1547.0   \n",
              "3                              1.0                     1507.0   \n",
              "4                              1.0                     1537.0   \n",
              "\n",
              "  sofa_future_cns_24hr delta_sofa_future_renal_24hr sofa_future_renal_24hr  \n",
              "0                  0.0                       1525.0                    0.0  \n",
              "1                  NaN                          NaN                    NaN  \n",
              "2                  0.0                       1547.0                    0.0  \n",
              "3                  0.0                       1507.0                    1.0  \n",
              "4                  2.0                       1537.0                    0.0  \n",
              "\n",
              "[5 rows x 142 columns]"
            ],
            "text/html": [
              "\n",
              "  <div id=\"df-45ed95f1-b220-4078-8a01-1cf57c94ec73\" class=\"colab-df-container\">\n",
              "    <div>\n",
              "<style scoped>\n",
              "    .dataframe tbody tr th:only-of-type {\n",
              "        vertical-align: middle;\n",
              "    }\n",
              "\n",
              "    .dataframe tbody tr th {\n",
              "        vertical-align: top;\n",
              "    }\n",
              "\n",
              "    .dataframe thead th {\n",
              "        text-align: right;\n",
              "    }\n",
              "</style>\n",
              "<table border=\"1\" class=\"dataframe\">\n",
              "  <thead>\n",
              "    <tr style=\"text-align: right;\">\n",
              "      <th></th>\n",
              "      <th>unique_subject_id</th>\n",
              "      <th>unique_hospital_admission_id</th>\n",
              "      <th>unique_icustay_id</th>\n",
              "      <th>subject_id</th>\n",
              "      <th>hospital_admission_id</th>\n",
              "      <th>icustay_id</th>\n",
              "      <th>source_db</th>\n",
              "      <th>hospitalid</th>\n",
              "      <th>numbedscategory</th>\n",
              "      <th>teachingstatus</th>\n",
              "      <th>...</th>\n",
              "      <th>delta_sofa_future_coagulation_24hr</th>\n",
              "      <th>sofa_future_coagulation_24hr</th>\n",
              "      <th>delta_sofa_future_liver_24hr</th>\n",
              "      <th>sofa_future_liver_24hr</th>\n",
              "      <th>delta_sofa_future_cardiovascular_24hr</th>\n",
              "      <th>sofa_future_cardiovascular_24hr</th>\n",
              "      <th>delta_sofa_future_cns_24hr</th>\n",
              "      <th>sofa_future_cns_24hr</th>\n",
              "      <th>delta_sofa_future_renal_24hr</th>\n",
              "      <th>sofa_future_renal_24hr</th>\n",
              "    </tr>\n",
              "  </thead>\n",
              "  <tbody>\n",
              "    <tr>\n",
              "      <th>0</th>\n",
              "      <td>0</td>\n",
              "      <td>0</td>\n",
              "      <td>0</td>\n",
              "      <td>002-10050</td>\n",
              "      <td>183274</td>\n",
              "      <td>211144</td>\n",
              "      <td>eicu</td>\n",
              "      <td>71</td>\n",
              "      <td>100 - 249</td>\n",
              "      <td>False</td>\n",
              "      <td>...</td>\n",
              "      <td>1525.0</td>\n",
              "      <td>1.0</td>\n",
              "      <td>1525.0</td>\n",
              "      <td>0.0</td>\n",
              "      <td>1525.0</td>\n",
              "      <td>1.0</td>\n",
              "      <td>1525.0</td>\n",
              "      <td>0.0</td>\n",
              "      <td>1525.0</td>\n",
              "      <td>0.0</td>\n",
              "    </tr>\n",
              "    <tr>\n",
              "      <th>1</th>\n",
              "      <td>1</td>\n",
              "      <td>1</td>\n",
              "      <td>1</td>\n",
              "      <td>002-1007</td>\n",
              "      <td>178462</td>\n",
              "      <td>204935</td>\n",
              "      <td>eicu</td>\n",
              "      <td>71</td>\n",
              "      <td>100 - 249</td>\n",
              "      <td>False</td>\n",
              "      <td>...</td>\n",
              "      <td>NaN</td>\n",
              "      <td>NaN</td>\n",
              "      <td>NaN</td>\n",
              "      <td>NaN</td>\n",
              "      <td>NaN</td>\n",
              "      <td>NaN</td>\n",
              "      <td>NaN</td>\n",
              "      <td>NaN</td>\n",
              "      <td>NaN</td>\n",
              "      <td>NaN</td>\n",
              "    </tr>\n",
              "    <tr>\n",
              "      <th>2</th>\n",
              "      <td>2</td>\n",
              "      <td>2</td>\n",
              "      <td>2</td>\n",
              "      <td>002-10187</td>\n",
              "      <td>150828</td>\n",
              "      <td>169525</td>\n",
              "      <td>eicu</td>\n",
              "      <td>73</td>\n",
              "      <td>&gt;= 500</td>\n",
              "      <td>True</td>\n",
              "      <td>...</td>\n",
              "      <td>1547.0</td>\n",
              "      <td>0.0</td>\n",
              "      <td>1547.0</td>\n",
              "      <td>0.0</td>\n",
              "      <td>1547.0</td>\n",
              "      <td>1.0</td>\n",
              "      <td>1547.0</td>\n",
              "      <td>0.0</td>\n",
              "      <td>1547.0</td>\n",
              "      <td>0.0</td>\n",
              "    </tr>\n",
              "    <tr>\n",
              "      <th>3</th>\n",
              "      <td>3</td>\n",
              "      <td>3</td>\n",
              "      <td>3</td>\n",
              "      <td>002-10306</td>\n",
              "      <td>198249</td>\n",
              "      <td>230427</td>\n",
              "      <td>eicu</td>\n",
              "      <td>63</td>\n",
              "      <td>100 - 249</td>\n",
              "      <td>False</td>\n",
              "      <td>...</td>\n",
              "      <td>1507.0</td>\n",
              "      <td>2.0</td>\n",
              "      <td>1507.0</td>\n",
              "      <td>0.0</td>\n",
              "      <td>1507.0</td>\n",
              "      <td>1.0</td>\n",
              "      <td>1507.0</td>\n",
              "      <td>0.0</td>\n",
              "      <td>1507.0</td>\n",
              "      <td>1.0</td>\n",
              "    </tr>\n",
              "    <tr>\n",
              "      <th>4</th>\n",
              "      <td>4</td>\n",
              "      <td>4</td>\n",
              "      <td>4</td>\n",
              "      <td>002-10324</td>\n",
              "      <td>188445</td>\n",
              "      <td>217835</td>\n",
              "      <td>eicu</td>\n",
              "      <td>73</td>\n",
              "      <td>&gt;= 500</td>\n",
              "      <td>True</td>\n",
              "      <td>...</td>\n",
              "      <td>1537.0</td>\n",
              "      <td>1.0</td>\n",
              "      <td>1537.0</td>\n",
              "      <td>0.0</td>\n",
              "      <td>1537.0</td>\n",
              "      <td>1.0</td>\n",
              "      <td>1537.0</td>\n",
              "      <td>2.0</td>\n",
              "      <td>1537.0</td>\n",
              "      <td>0.0</td>\n",
              "    </tr>\n",
              "  </tbody>\n",
              "</table>\n",
              "<p>5 rows × 142 columns</p>\n",
              "</div>\n",
              "    <div class=\"colab-df-buttons\">\n",
              "\n",
              "  <div class=\"colab-df-container\">\n",
              "    <button class=\"colab-df-convert\" onclick=\"convertToInteractive('df-45ed95f1-b220-4078-8a01-1cf57c94ec73')\"\n",
              "            title=\"Convert this dataframe to an interactive table.\"\n",
              "            style=\"display:none;\">\n",
              "\n",
              "  <svg xmlns=\"http://www.w3.org/2000/svg\" height=\"24px\" viewBox=\"0 -960 960 960\">\n",
              "    <path d=\"M120-120v-720h720v720H120Zm60-500h600v-160H180v160Zm220 220h160v-160H400v160Zm0 220h160v-160H400v160ZM180-400h160v-160H180v160Zm440 0h160v-160H620v160ZM180-180h160v-160H180v160Zm440 0h160v-160H620v160Z\"/>\n",
              "  </svg>\n",
              "    </button>\n",
              "\n",
              "  <style>\n",
              "    .colab-df-container {\n",
              "      display:flex;\n",
              "      gap: 12px;\n",
              "    }\n",
              "\n",
              "    .colab-df-convert {\n",
              "      background-color: #E8F0FE;\n",
              "      border: none;\n",
              "      border-radius: 50%;\n",
              "      cursor: pointer;\n",
              "      display: none;\n",
              "      fill: #1967D2;\n",
              "      height: 32px;\n",
              "      padding: 0 0 0 0;\n",
              "      width: 32px;\n",
              "    }\n",
              "\n",
              "    .colab-df-convert:hover {\n",
              "      background-color: #E2EBFA;\n",
              "      box-shadow: 0px 1px 2px rgba(60, 64, 67, 0.3), 0px 1px 3px 1px rgba(60, 64, 67, 0.15);\n",
              "      fill: #174EA6;\n",
              "    }\n",
              "\n",
              "    .colab-df-buttons div {\n",
              "      margin-bottom: 4px;\n",
              "    }\n",
              "\n",
              "    [theme=dark] .colab-df-convert {\n",
              "      background-color: #3B4455;\n",
              "      fill: #D2E3FC;\n",
              "    }\n",
              "\n",
              "    [theme=dark] .colab-df-convert:hover {\n",
              "      background-color: #434B5C;\n",
              "      box-shadow: 0px 1px 3px 1px rgba(0, 0, 0, 0.15);\n",
              "      filter: drop-shadow(0px 1px 2px rgba(0, 0, 0, 0.3));\n",
              "      fill: #FFFFFF;\n",
              "    }\n",
              "  </style>\n",
              "\n",
              "    <script>\n",
              "      const buttonEl =\n",
              "        document.querySelector('#df-45ed95f1-b220-4078-8a01-1cf57c94ec73 button.colab-df-convert');\n",
              "      buttonEl.style.display =\n",
              "        google.colab.kernel.accessAllowed ? 'block' : 'none';\n",
              "\n",
              "      async function convertToInteractive(key) {\n",
              "        const element = document.querySelector('#df-45ed95f1-b220-4078-8a01-1cf57c94ec73');\n",
              "        const dataTable =\n",
              "          await google.colab.kernel.invokeFunction('convertToInteractive',\n",
              "                                                    [key], {});\n",
              "        if (!dataTable) return;\n",
              "\n",
              "        const docLinkHtml = 'Like what you see? Visit the ' +\n",
              "          '<a target=\"_blank\" href=https://colab.research.google.com/notebooks/data_table.ipynb>data table notebook</a>'\n",
              "          + ' to learn more about interactive tables.';\n",
              "        element.innerHTML = '';\n",
              "        dataTable['output_type'] = 'display_data';\n",
              "        await google.colab.output.renderOutput(dataTable, element);\n",
              "        const docLink = document.createElement('div');\n",
              "        docLink.innerHTML = docLinkHtml;\n",
              "        element.appendChild(docLink);\n",
              "      }\n",
              "    </script>\n",
              "  </div>\n",
              "\n",
              "\n",
              "<div id=\"df-423ca498-f41a-4acb-aa4b-7e3e470478bc\">\n",
              "  <button class=\"colab-df-quickchart\" onclick=\"quickchart('df-423ca498-f41a-4acb-aa4b-7e3e470478bc')\"\n",
              "            title=\"Suggest charts\"\n",
              "            style=\"display:none;\">\n",
              "\n",
              "<svg xmlns=\"http://www.w3.org/2000/svg\" height=\"24px\"viewBox=\"0 0 24 24\"\n",
              "     width=\"24px\">\n",
              "    <g>\n",
              "        <path d=\"M19 3H5c-1.1 0-2 .9-2 2v14c0 1.1.9 2 2 2h14c1.1 0 2-.9 2-2V5c0-1.1-.9-2-2-2zM9 17H7v-7h2v7zm4 0h-2V7h2v10zm4 0h-2v-4h2v4z\"/>\n",
              "    </g>\n",
              "</svg>\n",
              "  </button>\n",
              "\n",
              "<style>\n",
              "  .colab-df-quickchart {\n",
              "      --bg-color: #E8F0FE;\n",
              "      --fill-color: #1967D2;\n",
              "      --hover-bg-color: #E2EBFA;\n",
              "      --hover-fill-color: #174EA6;\n",
              "      --disabled-fill-color: #AAA;\n",
              "      --disabled-bg-color: #DDD;\n",
              "  }\n",
              "\n",
              "  [theme=dark] .colab-df-quickchart {\n",
              "      --bg-color: #3B4455;\n",
              "      --fill-color: #D2E3FC;\n",
              "      --hover-bg-color: #434B5C;\n",
              "      --hover-fill-color: #FFFFFF;\n",
              "      --disabled-bg-color: #3B4455;\n",
              "      --disabled-fill-color: #666;\n",
              "  }\n",
              "\n",
              "  .colab-df-quickchart {\n",
              "    background-color: var(--bg-color);\n",
              "    border: none;\n",
              "    border-radius: 50%;\n",
              "    cursor: pointer;\n",
              "    display: none;\n",
              "    fill: var(--fill-color);\n",
              "    height: 32px;\n",
              "    padding: 0;\n",
              "    width: 32px;\n",
              "  }\n",
              "\n",
              "  .colab-df-quickchart:hover {\n",
              "    background-color: var(--hover-bg-color);\n",
              "    box-shadow: 0 1px 2px rgba(60, 64, 67, 0.3), 0 1px 3px 1px rgba(60, 64, 67, 0.15);\n",
              "    fill: var(--button-hover-fill-color);\n",
              "  }\n",
              "\n",
              "  .colab-df-quickchart-complete:disabled,\n",
              "  .colab-df-quickchart-complete:disabled:hover {\n",
              "    background-color: var(--disabled-bg-color);\n",
              "    fill: var(--disabled-fill-color);\n",
              "    box-shadow: none;\n",
              "  }\n",
              "\n",
              "  .colab-df-spinner {\n",
              "    border: 2px solid var(--fill-color);\n",
              "    border-color: transparent;\n",
              "    border-bottom-color: var(--fill-color);\n",
              "    animation:\n",
              "      spin 1s steps(1) infinite;\n",
              "  }\n",
              "\n",
              "  @keyframes spin {\n",
              "    0% {\n",
              "      border-color: transparent;\n",
              "      border-bottom-color: var(--fill-color);\n",
              "      border-left-color: var(--fill-color);\n",
              "    }\n",
              "    20% {\n",
              "      border-color: transparent;\n",
              "      border-left-color: var(--fill-color);\n",
              "      border-top-color: var(--fill-color);\n",
              "    }\n",
              "    30% {\n",
              "      border-color: transparent;\n",
              "      border-left-color: var(--fill-color);\n",
              "      border-top-color: var(--fill-color);\n",
              "      border-right-color: var(--fill-color);\n",
              "    }\n",
              "    40% {\n",
              "      border-color: transparent;\n",
              "      border-right-color: var(--fill-color);\n",
              "      border-top-color: var(--fill-color);\n",
              "    }\n",
              "    60% {\n",
              "      border-color: transparent;\n",
              "      border-right-color: var(--fill-color);\n",
              "    }\n",
              "    80% {\n",
              "      border-color: transparent;\n",
              "      border-right-color: var(--fill-color);\n",
              "      border-bottom-color: var(--fill-color);\n",
              "    }\n",
              "    90% {\n",
              "      border-color: transparent;\n",
              "      border-bottom-color: var(--fill-color);\n",
              "    }\n",
              "  }\n",
              "</style>\n",
              "\n",
              "  <script>\n",
              "    async function quickchart(key) {\n",
              "      const quickchartButtonEl =\n",
              "        document.querySelector('#' + key + ' button');\n",
              "      quickchartButtonEl.disabled = true;  // To prevent multiple clicks.\n",
              "      quickchartButtonEl.classList.add('colab-df-spinner');\n",
              "      try {\n",
              "        const charts = await google.colab.kernel.invokeFunction(\n",
              "            'suggestCharts', [key], {});\n",
              "      } catch (error) {\n",
              "        console.error('Error during call to suggestCharts:', error);\n",
              "      }\n",
              "      quickchartButtonEl.classList.remove('colab-df-spinner');\n",
              "      quickchartButtonEl.classList.add('colab-df-quickchart-complete');\n",
              "    }\n",
              "    (() => {\n",
              "      let quickchartButtonEl =\n",
              "        document.querySelector('#df-423ca498-f41a-4acb-aa4b-7e3e470478bc button');\n",
              "      quickchartButtonEl.style.display =\n",
              "        google.colab.kernel.accessAllowed ? 'block' : 'none';\n",
              "    })();\n",
              "  </script>\n",
              "</div>\n",
              "\n",
              "    </div>\n",
              "  </div>\n"
            ],
            "application/vnd.google.colaboratory.intrinsic+json": {
              "type": "dataframe",
              "variable_name": "df_initial"
            }
          },
          "metadata": {},
          "execution_count": 9
        }
      ],
      "source": [
        "# View the first few rows\n",
        "df_initial.head()"
      ]
    },
    {
      "cell_type": "code",
      "execution_count": 10,
      "id": "ef44d4aa",
      "metadata": {
        "scrolled": true,
        "colab": {
          "base_uri": "https://localhost:8080/"
        },
        "id": "ef44d4aa",
        "outputId": "80348847-b8a7-4520-999d-d153df128167"
      },
      "outputs": [
        {
          "output_type": "stream",
          "name": "stdout",
          "text": [
            "Column names: ['unique_subject_id', 'unique_hospital_admission_id', 'unique_icustay_id', 'subject_id', 'hospital_admission_id', 'icustay_id', 'source_db', 'hospitalid', 'numbedscategory', 'teachingstatus', 'region', 'admission_age', 'sex_female', 'weight_admission', 'height_admission', 'BMI_admission', 'datetime_hospital_admit', 'datetime_hospital_discharge', 'datetime_icu_admit', 'datetime_icu_discharge', 'los_hospital', 'los_ICU', 'comorbidity_score_name', 'comorbidity_score_value', 'in_hospital_mortality', 'race_ethnicity', 'SaO2_timestamp', 'pH', 'pCO2', 'pO2', 'SaO2', 'SpO2', 'Carboxyhemoglobin', 'Methemoglobin', 'SpO2_timestamp', 'delta_SpO2', 'delta_vitals_heart_rate', 'vitals_heart_rate', 'delta_vitals_resp_rate', 'vitals_resp_rate', 'delta_vitals_mbp_ni', 'vitals_mbp_ni', 'delta_vitals_sbp_ni', 'vitals_sbp_ni', 'delta_vitals_dbp_ni', 'vitals_dbp_ni', 'delta_vitals_mbp_i', 'vitals_mbp_i', 'delta_vitals_sbp_i', 'vitals_sbp_i', 'delta_vitals_dbp_i', 'vitals_dbp_i', 'delta_vitals_tempc', 'vitals_tempc', 'delta_cbc_hemoglobin', 'cbc_hemoglobin', 'delta_cbc_hematocrit', 'cbc_hematocrit', 'delta_cbc_mch', 'cbc_mch', 'delta_cbc_mchc', 'cbc_mchc', 'delta_cbc_mcv', 'cbc_mcv', 'delta_cbc_platelet', 'cbc_platelet', 'delta_cbc_rbc', 'cbc_rbc', 'delta_cbc_rdw', 'cbc_rdw', 'delta_cbc_wbc', 'cbc_wbc', 'delta_coag_fibrinogen', 'coag_fibrinogen', 'delta_coag_inr', 'coag_inr', 'delta_coag_pt', 'coag_pt', 'delta_coag_ptt', 'coag_ptt', 'delta_bmp_sodium', 'bmp_sodium', 'delta_bmp_potassium', 'bmp_potassium', 'delta_bmp_chloride', 'bmp_chloride', 'delta_bmp_bicarbonate', 'bmp_bicarbonate', 'delta_bmp_bun', 'bmp_bun', 'delta_bmp_creatinine', 'bmp_creatinine', 'delta_bmp_glucose', 'bmp_glucose', 'delta_bmp_aniongap', 'bmp_aniongap', 'delta_bmp_calcium', 'bmp_calcium', 'delta_bmp_lactate', 'bmp_lactate', 'delta_hfp_alt', 'hfp_alt', 'delta_hfp_alp', 'hfp_alp', 'delta_hfp_ast', 'hfp_ast', 'delta_hfp_bilirubin_total', 'hfp_bilirubin_total', 'delta_hfp_bilirubin_direct', 'hfp_bilirubin_direct', 'delta_hfp_albumin', 'hfp_albumin', 'delta_others_ck_cpk', 'others_ck_cpk', 'delta_others_ck_mb', 'others_ck_mb', 'delta_others_ld_ldh', 'others_ld_ldh', 'delta_sofa_past_overall_24hr', 'sofa_past_overall_24hr', 'delta_sofa_past_coagulation_24hr', 'sofa_past_coagulation_24hr', 'delta_sofa_past_liver_24hr', 'sofa_past_liver_24hr', 'delta_sofa_past_cardiovascular_24hr', 'sofa_past_cardiovascular_24hr', 'delta_sofa_past_cns_24hr', 'sofa_past_cns_24hr', 'delta_sofa_past_renal_24hr', 'sofa_past_renal_24hr', 'delta_sofa_future_overall_24hr', 'sofa_future_overall_24hr', 'delta_sofa_future_coagulation_24hr', 'sofa_future_coagulation_24hr', 'delta_sofa_future_liver_24hr', 'sofa_future_liver_24hr', 'delta_sofa_future_cardiovascular_24hr', 'sofa_future_cardiovascular_24hr', 'delta_sofa_future_cns_24hr', 'sofa_future_cns_24hr', 'delta_sofa_future_renal_24hr', 'sofa_future_renal_24hr']\n"
          ]
        }
      ],
      "source": [
        "# Get the column names\n",
        "column_names = df_initial.columns.tolist()\n",
        "print (\"Column names:\", column_names)"
      ]
    },
    {
      "cell_type": "code",
      "execution_count": 11,
      "id": "ced8ab43",
      "metadata": {
        "colab": {
          "base_uri": "https://localhost:8080/"
        },
        "id": "ced8ab43",
        "outputId": "4e44f8c6-7877-440d-8fee-56559027dfbf"
      },
      "outputs": [
        {
          "output_type": "stream",
          "name": "stdout",
          "text": [
            "<class 'pandas.core.frame.DataFrame'>\n",
            "RangeIndex: 49093 entries, 0 to 49092\n",
            "Columns: 142 entries, unique_subject_id to sofa_future_renal_24hr\n",
            "dtypes: bool(1), float64(122), int64(7), object(12)\n",
            "memory usage: 52.9+ MB\n",
            "None\n"
          ]
        }
      ],
      "source": [
        "# Get a summary of the DataFrame\n",
        "print(df_initial.info())"
      ]
    },
    {
      "cell_type": "code",
      "execution_count": 12,
      "id": "bde53039",
      "metadata": {
        "id": "bde53039"
      },
      "outputs": [],
      "source": [
        "# List of key variables to explore further\n",
        "key_variables = [\n",
        "    'source_db', 'comorbidity_score_value',\n",
        "    # ids\n",
        "    'unique_subject_id', 'unique_hospital_admission_id', 'unique_icustay_id',\n",
        "    'subject_id', 'hospital_admission_id', 'icustay_id', 'hospitalid',\n",
        "    # patient\n",
        "    'admission_age', 'sex_female', 'race_ethnicity', 'BMI_admission',  # BMI: Body Mass Index\n",
        "    # ICU stay info\n",
        "    'datetime_icu_admit', 'datetime_icu_discharge', 'los_ICU', 'los_hospital',\n",
        "    'sofa_past_overall_24hr', 'sofa_future_overall_24hr',\n",
        "    # Vital signs\n",
        "    'vitals_heart_rate',\n",
        "         ## MBP: Mean Blood Measure including invasive(i) and non invasive(ni)\n",
        "    'vitals_mbp_i', 'vitals_mbp_ni',\n",
        "    'vitals_sbp_ni', 'vitals_sbp_i', # systolic blood pressure (SBP)\n",
        "    'vitals_resp_rate', 'vitals_tempc', 'vitals_dbp_ni',\n",
        "    # LABS\n",
        "    'hfp_albumin',\n",
        "    'hfp_bilirubin_total', 'hfp_bilirubin_direct',\n",
        "    'bmp_bun', 'bmp_lactate', 'bmp_creatinine', 'bmp_glucose',\n",
        "    'bmp_potassium', 'bmp_sodium', 'cbc_hemoglobin',\n",
        "\n",
        "    # Target\n",
        "    'in_hospital_mortality',\n",
        "\n",
        "    # Study Features\n",
        "    'SpO2', 'SaO2',\n",
        "    'comorbidity_score_value'\n",
        "]"
      ]
    },
    {
      "cell_type": "code",
      "execution_count": 13,
      "id": "090ce2de",
      "metadata": {
        "id": "090ce2de"
      },
      "outputs": [],
      "source": [
        "# Filter the dataset to only focus on the key variables relevant to the tutorial\n",
        "df_key_variables = df_initial [key_variables]"
      ]
    },
    {
      "cell_type": "code",
      "execution_count": 14,
      "id": "f4d253f5",
      "metadata": {
        "colab": {
          "base_uri": "https://localhost:8080/"
        },
        "id": "f4d253f5",
        "outputId": "d03667b4-19b4-4589-bdfb-1db4c2a507a8"
      },
      "outputs": [
        {
          "output_type": "stream",
          "name": "stdout",
          "text": [
            "['source_db', 'comorbidity_score_value', 'unique_subject_id', 'unique_hospital_admission_id', 'unique_icustay_id', 'subject_id', 'hospital_admission_id', 'icustay_id', 'hospitalid', 'admission_age', 'sex_female', 'race_ethnicity', 'BMI_admission', 'datetime_icu_admit', 'datetime_icu_discharge', 'los_ICU', 'los_hospital', 'sofa_past_overall_24hr', 'sofa_future_overall_24hr', 'vitals_heart_rate', 'vitals_mbp_i', 'vitals_mbp_ni', 'vitals_sbp_ni', 'vitals_sbp_i', 'vitals_resp_rate', 'vitals_tempc', 'vitals_dbp_ni', 'hfp_albumin', 'hfp_bilirubin_total', 'hfp_bilirubin_direct', 'bmp_bun', 'bmp_lactate', 'bmp_creatinine', 'bmp_glucose', 'bmp_potassium', 'bmp_sodium', 'cbc_hemoglobin', 'in_hospital_mortality', 'SpO2', 'SaO2', 'comorbidity_score_value']\n"
          ]
        }
      ],
      "source": [
        "# Visualize the columns of the new dataframe\n",
        "print(df_key_variables.columns.tolist())"
      ]
    },
    {
      "cell_type": "code",
      "execution_count": 15,
      "id": "f8683b9b-a5ff-4b00-ac41-39165434815f",
      "metadata": {
        "colab": {
          "base_uri": "https://localhost:8080/"
        },
        "id": "f8683b9b-a5ff-4b00-ac41-39165434815f",
        "outputId": "47524a52-371a-49f7-84f1-f6e0cf98c0ac"
      },
      "outputs": [
        {
          "output_type": "execute_result",
          "data": {
            "text/plain": [
              "(49093, 41)"
            ]
          },
          "metadata": {},
          "execution_count": 15
        }
      ],
      "source": [
        "df_key_variables.shape"
      ]
    },
    {
      "cell_type": "code",
      "execution_count": 16,
      "id": "63696c39-2cf1-433e-a308-3c31195fde23",
      "metadata": {
        "id": "63696c39-2cf1-433e-a308-3c31195fde23"
      },
      "outputs": [],
      "source": [
        "# Filter the Dataframe to include only the most common racial/ethnic groups\n",
        "selected_groups = ['Asian','Hispanic OR Latino', 'Black', 'White']\n",
        "df_filtered = df_key_variables[df_key_variables ['race_ethnicity'].apply(lambda x: x in selected_groups)].copy()"
      ]
    },
    {
      "cell_type": "code",
      "execution_count": 17,
      "id": "06cae0ee-afb5-4a7c-ba66-e3c6b0f1b886",
      "metadata": {
        "colab": {
          "base_uri": "https://localhost:8080/"
        },
        "id": "06cae0ee-afb5-4a7c-ba66-e3c6b0f1b886",
        "outputId": "6a49fb2b-2b0e-4d90-fda7-2076a72ec7df"
      },
      "outputs": [
        {
          "output_type": "execute_result",
          "data": {
            "text/plain": [
              "(45139, 41)"
            ]
          },
          "metadata": {},
          "execution_count": 17
        }
      ],
      "source": [
        "df_filtered.shape"
      ]
    },
    {
      "cell_type": "markdown",
      "id": "d8b0b3ec-9c88-4cb3-83dd-6931f4e603d0",
      "metadata": {
        "id": "d8b0b3ec-9c88-4cb3-83dd-6931f4e603d0"
      },
      "source": [
        "#### Handling Missing values"
      ]
    },
    {
      "cell_type": "code",
      "execution_count": 18,
      "id": "feed0e8d-bc50-4959-a08d-61b07fec84f1",
      "metadata": {
        "id": "feed0e8d-bc50-4959-a08d-61b07fec84f1"
      },
      "outputs": [],
      "source": [
        "# Filter Data for Unique Patients to ensure each patient has a unique record\n",
        "df_filtered = df_filtered.drop_duplicates(subset='unique_subject_id', keep='first')"
      ]
    },
    {
      "cell_type": "markdown",
      "id": "4fbff25b-4c14-4f48-bc54-fe5b0306ee28",
      "metadata": {
        "id": "4fbff25b-4c14-4f48-bc54-fe5b0306ee28"
      },
      "source": [
        "Why? The goal is to ensure that each patient is represented by only one record in the dataset. This is important for statistical analyses where each data point should be independent. Multiple records for the same patient can introduce bias and inaccuracies in the analysis."
      ]
    },
    {
      "cell_type": "code",
      "execution_count": 19,
      "id": "b12bd2e8-761a-424b-9c0d-9a38b9e33165",
      "metadata": {
        "colab": {
          "base_uri": "https://localhost:8080/"
        },
        "id": "b12bd2e8-761a-424b-9c0d-9a38b9e33165",
        "outputId": "03abbc74-974d-44e0-a3d2-d941b63ac343"
      },
      "outputs": [
        {
          "output_type": "stream",
          "name": "stdout",
          "text": [
            "Percentage of missing values per column:\n",
            " source_db                        0.000000\n",
            "comorbidity_score_value          0.004847\n",
            "unique_subject_id                0.000000\n",
            "unique_hospital_admission_id     0.000000\n",
            "unique_icustay_id                0.000000\n",
            "subject_id                       0.000000\n",
            "hospital_admission_id            0.000000\n",
            "icustay_id                       0.000000\n",
            "hospitalid                       0.000000\n",
            "admission_age                    0.002424\n",
            "sex_female                       0.000000\n",
            "race_ethnicity                   0.000000\n",
            "BMI_admission                    3.970043\n",
            "datetime_icu_admit               0.000000\n",
            "datetime_icu_discharge           0.000000\n",
            "los_ICU                          0.000000\n",
            "los_hospital                     0.000000\n",
            "sofa_past_overall_24hr          23.037398\n",
            "sofa_future_overall_24hr        19.372743\n",
            "vitals_heart_rate               11.008507\n",
            "vitals_mbp_i                    62.398507\n",
            "vitals_mbp_ni                   31.818512\n",
            "vitals_sbp_ni                   30.635740\n",
            "vitals_sbp_i                    63.860006\n",
            "vitals_resp_rate                13.866066\n",
            "vitals_tempc                    15.918951\n",
            "vitals_dbp_ni                   30.640588\n",
            "hfp_albumin                     36.593228\n",
            "hfp_bilirubin_total             39.453210\n",
            "hfp_bilirubin_direct            88.412225\n",
            "bmp_bun                         16.100730\n",
            "bmp_lactate                     53.423495\n",
            "bmp_creatinine                  16.178288\n",
            "bmp_glucose                      9.682736\n",
            "bmp_potassium                   12.196127\n",
            "bmp_sodium                      13.454034\n",
            "cbc_hemoglobin                  13.883032\n",
            "in_hospital_mortality            0.799825\n",
            "SpO2                             0.000000\n",
            "SaO2                             0.000000\n",
            "comorbidity_score_value          0.004847\n",
            "dtype: float64\n"
          ]
        }
      ],
      "source": [
        "# Calculate the percentage of missing values per column\n",
        "missing_data_percentage = df_filtered.isnull().mean() * 100\n",
        "print(\"Percentage of missing values per column:\\n\", missing_data_percentage)"
      ]
    },
    {
      "cell_type": "code",
      "execution_count": 20,
      "id": "fc9c4ad0-fe94-46e3-9bc9-7abca3c4029c",
      "metadata": {
        "colab": {
          "base_uri": "https://localhost:8080/",
          "height": 0
        },
        "id": "fc9c4ad0-fe94-46e3-9bc9-7abca3c4029c",
        "outputId": "922dce2c-b9f6-47b3-a9f1-60b9ea0cd61d"
      },
      "outputs": [
        {
          "output_type": "execute_result",
          "data": {
            "text/plain": [
              "<pandas.io.formats.style.Styler at 0x7b1d953f0280>"
            ],
            "text/html": [
              "<style type=\"text/css\">\n",
              "</style>\n",
              "<table id=\"T_2f71d\" class=\"dataframe\">\n",
              "  <thead>\n",
              "    <tr>\n",
              "      <th class=\"index_name level0\" >race_ethnicity</th>\n",
              "      <th id=\"T_2f71d_level0_col0\" class=\"col_heading level0 col0\" >Asian</th>\n",
              "      <th id=\"T_2f71d_level0_col1\" class=\"col_heading level0 col1\" >Black</th>\n",
              "      <th id=\"T_2f71d_level0_col2\" class=\"col_heading level0 col2\" >Hispanic OR Latino</th>\n",
              "      <th id=\"T_2f71d_level0_col3\" class=\"col_heading level0 col3\" >White</th>\n",
              "    </tr>\n",
              "  </thead>\n",
              "  <tbody>\n",
              "    <tr>\n",
              "      <th id=\"T_2f71d_level0_row0\" class=\"row_heading level0 row0\" >source_db</th>\n",
              "      <td id=\"T_2f71d_row0_col0\" class=\"data row0 col0\" >0.00%</td>\n",
              "      <td id=\"T_2f71d_row0_col1\" class=\"data row0 col1\" >0.00%</td>\n",
              "      <td id=\"T_2f71d_row0_col2\" class=\"data row0 col2\" >0.00%</td>\n",
              "      <td id=\"T_2f71d_row0_col3\" class=\"data row0 col3\" >0.00%</td>\n",
              "    </tr>\n",
              "    <tr>\n",
              "      <th id=\"T_2f71d_level0_row1\" class=\"row_heading level0 row1\" >comorbidity_score_value</th>\n",
              "      <td id=\"T_2f71d_row1_col0\" class=\"data row1 col0\" >0.00%</td>\n",
              "      <td id=\"T_2f71d_row1_col1\" class=\"data row1 col1\" >0.00%</td>\n",
              "      <td id=\"T_2f71d_row1_col2\" class=\"data row1 col2\" >0.00%</td>\n",
              "      <td id=\"T_2f71d_row1_col3\" class=\"data row1 col3\" >0.01%</td>\n",
              "    </tr>\n",
              "    <tr>\n",
              "      <th id=\"T_2f71d_level0_row2\" class=\"row_heading level0 row2\" >unique_subject_id</th>\n",
              "      <td id=\"T_2f71d_row2_col0\" class=\"data row2 col0\" >0.00%</td>\n",
              "      <td id=\"T_2f71d_row2_col1\" class=\"data row2 col1\" >0.00%</td>\n",
              "      <td id=\"T_2f71d_row2_col2\" class=\"data row2 col2\" >0.00%</td>\n",
              "      <td id=\"T_2f71d_row2_col3\" class=\"data row2 col3\" >0.00%</td>\n",
              "    </tr>\n",
              "    <tr>\n",
              "      <th id=\"T_2f71d_level0_row3\" class=\"row_heading level0 row3\" >unique_hospital_admission_id</th>\n",
              "      <td id=\"T_2f71d_row3_col0\" class=\"data row3 col0\" >0.00%</td>\n",
              "      <td id=\"T_2f71d_row3_col1\" class=\"data row3 col1\" >0.00%</td>\n",
              "      <td id=\"T_2f71d_row3_col2\" class=\"data row3 col2\" >0.00%</td>\n",
              "      <td id=\"T_2f71d_row3_col3\" class=\"data row3 col3\" >0.00%</td>\n",
              "    </tr>\n",
              "    <tr>\n",
              "      <th id=\"T_2f71d_level0_row4\" class=\"row_heading level0 row4\" >unique_icustay_id</th>\n",
              "      <td id=\"T_2f71d_row4_col0\" class=\"data row4 col0\" >0.00%</td>\n",
              "      <td id=\"T_2f71d_row4_col1\" class=\"data row4 col1\" >0.00%</td>\n",
              "      <td id=\"T_2f71d_row4_col2\" class=\"data row4 col2\" >0.00%</td>\n",
              "      <td id=\"T_2f71d_row4_col3\" class=\"data row4 col3\" >0.00%</td>\n",
              "    </tr>\n",
              "    <tr>\n",
              "      <th id=\"T_2f71d_level0_row5\" class=\"row_heading level0 row5\" >subject_id</th>\n",
              "      <td id=\"T_2f71d_row5_col0\" class=\"data row5 col0\" >0.00%</td>\n",
              "      <td id=\"T_2f71d_row5_col1\" class=\"data row5 col1\" >0.00%</td>\n",
              "      <td id=\"T_2f71d_row5_col2\" class=\"data row5 col2\" >0.00%</td>\n",
              "      <td id=\"T_2f71d_row5_col3\" class=\"data row5 col3\" >0.00%</td>\n",
              "    </tr>\n",
              "    <tr>\n",
              "      <th id=\"T_2f71d_level0_row6\" class=\"row_heading level0 row6\" >hospital_admission_id</th>\n",
              "      <td id=\"T_2f71d_row6_col0\" class=\"data row6 col0\" >0.00%</td>\n",
              "      <td id=\"T_2f71d_row6_col1\" class=\"data row6 col1\" >0.00%</td>\n",
              "      <td id=\"T_2f71d_row6_col2\" class=\"data row6 col2\" >0.00%</td>\n",
              "      <td id=\"T_2f71d_row6_col3\" class=\"data row6 col3\" >0.00%</td>\n",
              "    </tr>\n",
              "    <tr>\n",
              "      <th id=\"T_2f71d_level0_row7\" class=\"row_heading level0 row7\" >icustay_id</th>\n",
              "      <td id=\"T_2f71d_row7_col0\" class=\"data row7 col0\" >0.00%</td>\n",
              "      <td id=\"T_2f71d_row7_col1\" class=\"data row7 col1\" >0.00%</td>\n",
              "      <td id=\"T_2f71d_row7_col2\" class=\"data row7 col2\" >0.00%</td>\n",
              "      <td id=\"T_2f71d_row7_col3\" class=\"data row7 col3\" >0.00%</td>\n",
              "    </tr>\n",
              "    <tr>\n",
              "      <th id=\"T_2f71d_level0_row8\" class=\"row_heading level0 row8\" >hospitalid</th>\n",
              "      <td id=\"T_2f71d_row8_col0\" class=\"data row8 col0\" >0.00%</td>\n",
              "      <td id=\"T_2f71d_row8_col1\" class=\"data row8 col1\" >0.00%</td>\n",
              "      <td id=\"T_2f71d_row8_col2\" class=\"data row8 col2\" >0.00%</td>\n",
              "      <td id=\"T_2f71d_row8_col3\" class=\"data row8 col3\" >0.00%</td>\n",
              "    </tr>\n",
              "    <tr>\n",
              "      <th id=\"T_2f71d_level0_row9\" class=\"row_heading level0 row9\" >admission_age</th>\n",
              "      <td id=\"T_2f71d_row9_col0\" class=\"data row9 col0\" >0.00%</td>\n",
              "      <td id=\"T_2f71d_row9_col1\" class=\"data row9 col1\" >0.00%</td>\n",
              "      <td id=\"T_2f71d_row9_col2\" class=\"data row9 col2\" >0.00%</td>\n",
              "      <td id=\"T_2f71d_row9_col3\" class=\"data row9 col3\" >0.00%</td>\n",
              "    </tr>\n",
              "    <tr>\n",
              "      <th id=\"T_2f71d_level0_row10\" class=\"row_heading level0 row10\" >sex_female</th>\n",
              "      <td id=\"T_2f71d_row10_col0\" class=\"data row10 col0\" >0.00%</td>\n",
              "      <td id=\"T_2f71d_row10_col1\" class=\"data row10 col1\" >0.00%</td>\n",
              "      <td id=\"T_2f71d_row10_col2\" class=\"data row10 col2\" >0.00%</td>\n",
              "      <td id=\"T_2f71d_row10_col3\" class=\"data row10 col3\" >0.00%</td>\n",
              "    </tr>\n",
              "    <tr>\n",
              "      <th id=\"T_2f71d_level0_row11\" class=\"row_heading level0 row11\" >race_ethnicity</th>\n",
              "      <td id=\"T_2f71d_row11_col0\" class=\"data row11 col0\" >0.00%</td>\n",
              "      <td id=\"T_2f71d_row11_col1\" class=\"data row11 col1\" >0.00%</td>\n",
              "      <td id=\"T_2f71d_row11_col2\" class=\"data row11 col2\" >0.00%</td>\n",
              "      <td id=\"T_2f71d_row11_col3\" class=\"data row11 col3\" >0.00%</td>\n",
              "    </tr>\n",
              "    <tr>\n",
              "      <th id=\"T_2f71d_level0_row12\" class=\"row_heading level0 row12\" >BMI_admission</th>\n",
              "      <td id=\"T_2f71d_row12_col0\" class=\"data row12 col0\" >4.79%</td>\n",
              "      <td id=\"T_2f71d_row12_col1\" class=\"data row12 col1\" >4.04%</td>\n",
              "      <td id=\"T_2f71d_row12_col2\" class=\"data row12 col2\" >7.64%</td>\n",
              "      <td id=\"T_2f71d_row12_col3\" class=\"data row12 col3\" >3.74%</td>\n",
              "    </tr>\n",
              "    <tr>\n",
              "      <th id=\"T_2f71d_level0_row13\" class=\"row_heading level0 row13\" >datetime_icu_admit</th>\n",
              "      <td id=\"T_2f71d_row13_col0\" class=\"data row13 col0\" >0.00%</td>\n",
              "      <td id=\"T_2f71d_row13_col1\" class=\"data row13 col1\" >0.00%</td>\n",
              "      <td id=\"T_2f71d_row13_col2\" class=\"data row13 col2\" >0.00%</td>\n",
              "      <td id=\"T_2f71d_row13_col3\" class=\"data row13 col3\" >0.00%</td>\n",
              "    </tr>\n",
              "    <tr>\n",
              "      <th id=\"T_2f71d_level0_row14\" class=\"row_heading level0 row14\" >datetime_icu_discharge</th>\n",
              "      <td id=\"T_2f71d_row14_col0\" class=\"data row14 col0\" >0.00%</td>\n",
              "      <td id=\"T_2f71d_row14_col1\" class=\"data row14 col1\" >0.00%</td>\n",
              "      <td id=\"T_2f71d_row14_col2\" class=\"data row14 col2\" >0.00%</td>\n",
              "      <td id=\"T_2f71d_row14_col3\" class=\"data row14 col3\" >0.00%</td>\n",
              "    </tr>\n",
              "    <tr>\n",
              "      <th id=\"T_2f71d_level0_row15\" class=\"row_heading level0 row15\" >los_ICU</th>\n",
              "      <td id=\"T_2f71d_row15_col0\" class=\"data row15 col0\" >0.00%</td>\n",
              "      <td id=\"T_2f71d_row15_col1\" class=\"data row15 col1\" >0.00%</td>\n",
              "      <td id=\"T_2f71d_row15_col2\" class=\"data row15 col2\" >0.00%</td>\n",
              "      <td id=\"T_2f71d_row15_col3\" class=\"data row15 col3\" >0.00%</td>\n",
              "    </tr>\n",
              "    <tr>\n",
              "      <th id=\"T_2f71d_level0_row16\" class=\"row_heading level0 row16\" >los_hospital</th>\n",
              "      <td id=\"T_2f71d_row16_col0\" class=\"data row16 col0\" >0.00%</td>\n",
              "      <td id=\"T_2f71d_row16_col1\" class=\"data row16 col1\" >0.00%</td>\n",
              "      <td id=\"T_2f71d_row16_col2\" class=\"data row16 col2\" >0.00%</td>\n",
              "      <td id=\"T_2f71d_row16_col3\" class=\"data row16 col3\" >0.00%</td>\n",
              "    </tr>\n",
              "    <tr>\n",
              "      <th id=\"T_2f71d_level0_row17\" class=\"row_heading level0 row17\" >sofa_past_overall_24hr</th>\n",
              "      <td id=\"T_2f71d_row17_col0\" class=\"data row17 col0\" >21.86%</td>\n",
              "      <td id=\"T_2f71d_row17_col1\" class=\"data row17 col1\" >19.80%</td>\n",
              "      <td id=\"T_2f71d_row17_col2\" class=\"data row17 col2\" >23.28%</td>\n",
              "      <td id=\"T_2f71d_row17_col3\" class=\"data row17 col3\" >23.45%</td>\n",
              "    </tr>\n",
              "    <tr>\n",
              "      <th id=\"T_2f71d_level0_row18\" class=\"row_heading level0 row18\" >sofa_future_overall_24hr</th>\n",
              "      <td id=\"T_2f71d_row18_col0\" class=\"data row18 col0\" >17.08%</td>\n",
              "      <td id=\"T_2f71d_row18_col1\" class=\"data row18 col1\" >17.28%</td>\n",
              "      <td id=\"T_2f71d_row18_col2\" class=\"data row18 col2\" >22.35%</td>\n",
              "      <td id=\"T_2f71d_row18_col3\" class=\"data row18 col3\" >19.52%</td>\n",
              "    </tr>\n",
              "    <tr>\n",
              "      <th id=\"T_2f71d_level0_row19\" class=\"row_heading level0 row19\" >vitals_heart_rate</th>\n",
              "      <td id=\"T_2f71d_row19_col0\" class=\"data row19 col0\" >29.75%</td>\n",
              "      <td id=\"T_2f71d_row19_col1\" class=\"data row19 col1\" >13.73%</td>\n",
              "      <td id=\"T_2f71d_row19_col2\" class=\"data row19 col2\" >9.20%</td>\n",
              "      <td id=\"T_2f71d_row19_col3\" class=\"data row19 col3\" >10.35%</td>\n",
              "    </tr>\n",
              "    <tr>\n",
              "      <th id=\"T_2f71d_level0_row20\" class=\"row_heading level0 row20\" >vitals_mbp_i</th>\n",
              "      <td id=\"T_2f71d_row20_col0\" class=\"data row20 col0\" >62.10%</td>\n",
              "      <td id=\"T_2f71d_row20_col1\" class=\"data row20 col1\" >66.33%</td>\n",
              "      <td id=\"T_2f71d_row20_col2\" class=\"data row20 col2\" >64.92%</td>\n",
              "      <td id=\"T_2f71d_row20_col3\" class=\"data row20 col3\" >61.77%</td>\n",
              "    </tr>\n",
              "    <tr>\n",
              "      <th id=\"T_2f71d_level0_row21\" class=\"row_heading level0 row21\" >vitals_mbp_ni</th>\n",
              "      <td id=\"T_2f71d_row21_col0\" class=\"data row21 col0\" >49.81%</td>\n",
              "      <td id=\"T_2f71d_row21_col1\" class=\"data row21 col1\" >30.03%</td>\n",
              "      <td id=\"T_2f71d_row21_col2\" class=\"data row21 col2\" >25.88%</td>\n",
              "      <td id=\"T_2f71d_row21_col3\" class=\"data row21 col3\" >31.97%</td>\n",
              "    </tr>\n",
              "    <tr>\n",
              "      <th id=\"T_2f71d_level0_row22\" class=\"row_heading level0 row22\" >vitals_sbp_ni</th>\n",
              "      <td id=\"T_2f71d_row22_col0\" class=\"data row22 col0\" >47.74%</td>\n",
              "      <td id=\"T_2f71d_row22_col1\" class=\"data row22 col1\" >30.61%</td>\n",
              "      <td id=\"T_2f71d_row22_col2\" class=\"data row22 col2\" >23.13%</td>\n",
              "      <td id=\"T_2f71d_row22_col3\" class=\"data row22 col3\" >30.67%</td>\n",
              "    </tr>\n",
              "    <tr>\n",
              "      <th id=\"T_2f71d_level0_row23\" class=\"row_heading level0 row23\" >vitals_sbp_i</th>\n",
              "      <td id=\"T_2f71d_row23_col0\" class=\"data row23 col0\" >66.36%</td>\n",
              "      <td id=\"T_2f71d_row23_col1\" class=\"data row23 col1\" >68.57%</td>\n",
              "      <td id=\"T_2f71d_row23_col2\" class=\"data row23 col2\" >66.63%</td>\n",
              "      <td id=\"T_2f71d_row23_col3\" class=\"data row23 col3\" >63.06%</td>\n",
              "    </tr>\n",
              "    <tr>\n",
              "      <th id=\"T_2f71d_level0_row24\" class=\"row_heading level0 row24\" >vitals_resp_rate</th>\n",
              "      <td id=\"T_2f71d_row24_col0\" class=\"data row24 col0\" >37.26%</td>\n",
              "      <td id=\"T_2f71d_row24_col1\" class=\"data row24 col1\" >16.83%</td>\n",
              "      <td id=\"T_2f71d_row24_col2\" class=\"data row24 col2\" >12.63%</td>\n",
              "      <td id=\"T_2f71d_row24_col3\" class=\"data row24 col3\" >13.04%</td>\n",
              "    </tr>\n",
              "    <tr>\n",
              "      <th id=\"T_2f71d_level0_row25\" class=\"row_heading level0 row25\" >vitals_tempc</th>\n",
              "      <td id=\"T_2f71d_row25_col0\" class=\"data row25 col0\" >33.38%</td>\n",
              "      <td id=\"T_2f71d_row25_col1\" class=\"data row25 col1\" >17.04%</td>\n",
              "      <td id=\"T_2f71d_row25_col2\" class=\"data row25 col2\" >15.38%</td>\n",
              "      <td id=\"T_2f71d_row25_col3\" class=\"data row25 col3\" >15.41%</td>\n",
              "    </tr>\n",
              "    <tr>\n",
              "      <th id=\"T_2f71d_level0_row26\" class=\"row_heading level0 row26\" >vitals_dbp_ni</th>\n",
              "      <td id=\"T_2f71d_row26_col0\" class=\"data row26 col0\" >47.74%</td>\n",
              "      <td id=\"T_2f71d_row26_col1\" class=\"data row26 col1\" >30.68%</td>\n",
              "      <td id=\"T_2f71d_row26_col2\" class=\"data row26 col2\" >23.13%</td>\n",
              "      <td id=\"T_2f71d_row26_col3\" class=\"data row26 col3\" >30.67%</td>\n",
              "    </tr>\n",
              "    <tr>\n",
              "      <th id=\"T_2f71d_level0_row27\" class=\"row_heading level0 row27\" >hfp_albumin</th>\n",
              "      <td id=\"T_2f71d_row27_col0\" class=\"data row27 col0\" >31.31%</td>\n",
              "      <td id=\"T_2f71d_row27_col1\" class=\"data row27 col1\" >33.01%</td>\n",
              "      <td id=\"T_2f71d_row27_col2\" class=\"data row27 col2\" >34.20%</td>\n",
              "      <td id=\"T_2f71d_row27_col3\" class=\"data row27 col3\" >37.29%</td>\n",
              "    </tr>\n",
              "    <tr>\n",
              "      <th id=\"T_2f71d_level0_row28\" class=\"row_heading level0 row28\" >hfp_bilirubin_total</th>\n",
              "      <td id=\"T_2f71d_row28_col0\" class=\"data row28 col0\" >30.14%</td>\n",
              "      <td id=\"T_2f71d_row28_col1\" class=\"data row28 col1\" >36.89%</td>\n",
              "      <td id=\"T_2f71d_row28_col2\" class=\"data row28 col2\" >37.16%</td>\n",
              "      <td id=\"T_2f71d_row28_col3\" class=\"data row28 col3\" >40.11%</td>\n",
              "    </tr>\n",
              "    <tr>\n",
              "      <th id=\"T_2f71d_level0_row29\" class=\"row_heading level0 row29\" >hfp_bilirubin_direct</th>\n",
              "      <td id=\"T_2f71d_row29_col0\" class=\"data row29 col0\" >85.77%</td>\n",
              "      <td id=\"T_2f71d_row29_col1\" class=\"data row29 col1\" >87.63%</td>\n",
              "      <td id=\"T_2f71d_row29_col2\" class=\"data row29 col2\" >80.15%</td>\n",
              "      <td id=\"T_2f71d_row29_col3\" class=\"data row29 col3\" >89.03%</td>\n",
              "    </tr>\n",
              "    <tr>\n",
              "      <th id=\"T_2f71d_level0_row30\" class=\"row_heading level0 row30\" >bmp_bun</th>\n",
              "      <td id=\"T_2f71d_row30_col0\" class=\"data row30 col0\" >11.90%</td>\n",
              "      <td id=\"T_2f71d_row30_col1\" class=\"data row30 col1\" >15.04%</td>\n",
              "      <td id=\"T_2f71d_row30_col2\" class=\"data row30 col2\" >11.12%</td>\n",
              "      <td id=\"T_2f71d_row30_col3\" class=\"data row30 col3\" >16.61%</td>\n",
              "    </tr>\n",
              "    <tr>\n",
              "      <th id=\"T_2f71d_level0_row31\" class=\"row_heading level0 row31\" >bmp_lactate</th>\n",
              "      <td id=\"T_2f71d_row31_col0\" class=\"data row31 col0\" >47.99%</td>\n",
              "      <td id=\"T_2f71d_row31_col1\" class=\"data row31 col1\" >49.85%</td>\n",
              "      <td id=\"T_2f71d_row31_col2\" class=\"data row31 col2\" >58.84%</td>\n",
              "      <td id=\"T_2f71d_row31_col3\" class=\"data row31 col3\" >53.69%</td>\n",
              "    </tr>\n",
              "    <tr>\n",
              "      <th id=\"T_2f71d_level0_row32\" class=\"row_heading level0 row32\" >bmp_creatinine</th>\n",
              "      <td id=\"T_2f71d_row32_col0\" class=\"data row32 col0\" >12.03%</td>\n",
              "      <td id=\"T_2f71d_row32_col1\" class=\"data row32 col1\" >15.20%</td>\n",
              "      <td id=\"T_2f71d_row32_col2\" class=\"data row32 col2\" >11.23%</td>\n",
              "      <td id=\"T_2f71d_row32_col3\" class=\"data row32 col3\" >16.67%</td>\n",
              "    </tr>\n",
              "    <tr>\n",
              "      <th id=\"T_2f71d_level0_row33\" class=\"row_heading level0 row33\" >bmp_glucose</th>\n",
              "      <td id=\"T_2f71d_row33_col0\" class=\"data row33 col0\" >9.06%</td>\n",
              "      <td id=\"T_2f71d_row33_col1\" class=\"data row33 col1\" >7.99%</td>\n",
              "      <td id=\"T_2f71d_row33_col2\" class=\"data row33 col2\" >7.48%</td>\n",
              "      <td id=\"T_2f71d_row33_col3\" class=\"data row33 col3\" >10.03%</td>\n",
              "    </tr>\n",
              "    <tr>\n",
              "      <th id=\"T_2f71d_level0_row34\" class=\"row_heading level0 row34\" >bmp_potassium</th>\n",
              "      <td id=\"T_2f71d_row34_col0\" class=\"data row34 col0\" >9.57%</td>\n",
              "      <td id=\"T_2f71d_row34_col1\" class=\"data row34 col1\" >10.90%</td>\n",
              "      <td id=\"T_2f71d_row34_col2\" class=\"data row34 col2\" >10.91%</td>\n",
              "      <td id=\"T_2f71d_row34_col3\" class=\"data row34 col3\" >12.49%</td>\n",
              "    </tr>\n",
              "    <tr>\n",
              "      <th id=\"T_2f71d_level0_row35\" class=\"row_heading level0 row35\" >bmp_sodium</th>\n",
              "      <td id=\"T_2f71d_row35_col0\" class=\"data row35 col0\" >11.00%</td>\n",
              "      <td id=\"T_2f71d_row35_col1\" class=\"data row35 col1\" >11.58%</td>\n",
              "      <td id=\"T_2f71d_row35_col2\" class=\"data row35 col2\" >11.49%</td>\n",
              "      <td id=\"T_2f71d_row35_col3\" class=\"data row35 col3\" >13.85%</td>\n",
              "    </tr>\n",
              "    <tr>\n",
              "      <th id=\"T_2f71d_level0_row36\" class=\"row_heading level0 row36\" >cbc_hemoglobin</th>\n",
              "      <td id=\"T_2f71d_row36_col0\" class=\"data row36 col0\" >11.00%</td>\n",
              "      <td id=\"T_2f71d_row36_col1\" class=\"data row36 col1\" >12.70%</td>\n",
              "      <td id=\"T_2f71d_row36_col2\" class=\"data row36 col2\" >10.45%</td>\n",
              "      <td id=\"T_2f71d_row36_col3\" class=\"data row36 col3\" >14.29%</td>\n",
              "    </tr>\n",
              "    <tr>\n",
              "      <th id=\"T_2f71d_level0_row37\" class=\"row_heading level0 row37\" >in_hospital_mortality</th>\n",
              "      <td id=\"T_2f71d_row37_col0\" class=\"data row37 col0\" >2.33%</td>\n",
              "      <td id=\"T_2f71d_row37_col1\" class=\"data row37 col1\" >0.72%</td>\n",
              "      <td id=\"T_2f71d_row37_col2\" class=\"data row37 col2\" >0.47%</td>\n",
              "      <td id=\"T_2f71d_row37_col3\" class=\"data row37 col3\" >0.79%</td>\n",
              "    </tr>\n",
              "    <tr>\n",
              "      <th id=\"T_2f71d_level0_row38\" class=\"row_heading level0 row38\" >SpO2</th>\n",
              "      <td id=\"T_2f71d_row38_col0\" class=\"data row38 col0\" >0.00%</td>\n",
              "      <td id=\"T_2f71d_row38_col1\" class=\"data row38 col1\" >0.00%</td>\n",
              "      <td id=\"T_2f71d_row38_col2\" class=\"data row38 col2\" >0.00%</td>\n",
              "      <td id=\"T_2f71d_row38_col3\" class=\"data row38 col3\" >0.00%</td>\n",
              "    </tr>\n",
              "    <tr>\n",
              "      <th id=\"T_2f71d_level0_row39\" class=\"row_heading level0 row39\" >SaO2</th>\n",
              "      <td id=\"T_2f71d_row39_col0\" class=\"data row39 col0\" >0.00%</td>\n",
              "      <td id=\"T_2f71d_row39_col1\" class=\"data row39 col1\" >0.00%</td>\n",
              "      <td id=\"T_2f71d_row39_col2\" class=\"data row39 col2\" >0.00%</td>\n",
              "      <td id=\"T_2f71d_row39_col3\" class=\"data row39 col3\" >0.00%</td>\n",
              "    </tr>\n",
              "    <tr>\n",
              "      <th id=\"T_2f71d_level0_row40\" class=\"row_heading level0 row40\" >comorbidity_score_value</th>\n",
              "      <td id=\"T_2f71d_row40_col0\" class=\"data row40 col0\" >0.00%</td>\n",
              "      <td id=\"T_2f71d_row40_col1\" class=\"data row40 col1\" >0.00%</td>\n",
              "      <td id=\"T_2f71d_row40_col2\" class=\"data row40 col2\" >0.00%</td>\n",
              "      <td id=\"T_2f71d_row40_col3\" class=\"data row40 col3\" >0.01%</td>\n",
              "    </tr>\n",
              "  </tbody>\n",
              "</table>\n"
            ]
          },
          "metadata": {},
          "execution_count": 20
        }
      ],
      "source": [
        "# Calculate percentage of missing values per column and per race\n",
        "missing_data_by_race = df_filtered.groupby('race_ethnicity').apply(lambda x: x.isnull().mean() * 100)\n",
        "\n",
        "# Transpose the table for better readability\n",
        "missing_data_by_race_table = missing_data_by_race.transpose()\n",
        "\n",
        "# Display the table using pandas styling for better readability\n",
        "styled_table = missing_data_by_race_table.style.format(\"{:.2f}%\")\n",
        "styled_table"
      ]
    },
    {
      "cell_type": "code",
      "execution_count": 21,
      "id": "9499a04f-14d6-469e-bc80-0c5f06e465dd",
      "metadata": {
        "id": "9499a04f-14d6-469e-bc80-0c5f06e465dd"
      },
      "outputs": [],
      "source": [
        "# Define Continuous and Categorical Columns\n",
        "\n",
        "# Continuous variables\n",
        "continuous_variables = [\n",
        "    'admission_age', 'BMI_admission', 'sofa_past_overall_24hr', 'sofa_future_overall_24hr',\n",
        "    'vitals_heart_rate', 'vitals_mbp_i', 'vitals_mbp_ni', 'vitals_sbp_ni', 'vitals_sbp_i',\n",
        "    'vitals_resp_rate', 'vitals_tempc', 'vitals_dbp_ni', 'hfp_albumin', 'hfp_bilirubin_total',\n",
        "    'hfp_bilirubin_direct', 'bmp_bun', 'bmp_lactate', 'bmp_creatinine', 'bmp_glucose',\n",
        "    'bmp_potassium', 'bmp_sodium', 'cbc_hemoglobin', 'comorbidity_score_value'\n",
        "]\n",
        "\n",
        "# Categorical variables\n",
        "categorical_vars = ['sex_female', 'race_ethnicity']"
      ]
    },
    {
      "cell_type": "code",
      "execution_count": 22,
      "id": "2975459d-ebbe-4680-acc1-75020641c981",
      "metadata": {
        "id": "2975459d-ebbe-4680-acc1-75020641c981"
      },
      "outputs": [],
      "source": [
        "# define the impute function\n",
        "def impute_by_race(df, continuous_vars, categorical_vars):\n",
        "    # Loop through each continuous variable\n",
        "    for var in continuous_vars:\n",
        "        # Impute missing values in the continuous variable by the median value within each race/ethnicity group\n",
        "        df[var] = df.groupby('race_ethnicity')[var].transform(lambda x: x.fillna(x.median()))\n",
        "\n",
        "    # Loop through each categorical variable\n",
        "    for var in categorical_vars:\n",
        "        # Impute missing values in the categorical variable by the mode (most frequent value) within each race/ethnicity group\n",
        "        df[var] = df.groupby('race_ethnicity')[var].transform(lambda x: x.fillna(x.mode()[0]))\n",
        "\n",
        "    # Return the dataframe with imputed values\n",
        "    return df"
      ]
    },
    {
      "cell_type": "markdown",
      "id": "1abdd127-5102-431e-8708-c8c489cf8b65",
      "metadata": {
        "id": "1abdd127-5102-431e-8708-c8c489cf8b65"
      },
      "source": [
        "The goal of this approach is to ensure that missing values are imputed in a way that respects the underlying distribution of the data within each race/ethnicity group. For continuous variables, we use the median to avoid the influence of outliers, while for categorical variables, we use the mode to represent the most frequent category. This method helps maintain the integrity of the data and reduces bias in subsequent analyses."
      ]
    },
    {
      "cell_type": "code",
      "execution_count": 23,
      "id": "c4338b34-460a-4cd9-927b-e08006b9694e",
      "metadata": {
        "id": "c4338b34-460a-4cd9-927b-e08006b9694e"
      },
      "outputs": [],
      "source": [
        "df_clean_imputed = impute_by_race(df_filtered, continuous_variables, categorical_vars)"
      ]
    },
    {
      "cell_type": "code",
      "execution_count": 24,
      "id": "11fe801a-823e-4744-80ea-eb260ed3d96b",
      "metadata": {
        "id": "11fe801a-823e-4744-80ea-eb260ed3d96b"
      },
      "outputs": [],
      "source": [
        "# Remove rows where target variable 'in_hospital_mortality' is missing\n",
        "df_final_clean = df_clean_imputed.dropna(subset=['in_hospital_mortality'])"
      ]
    },
    {
      "cell_type": "code",
      "execution_count": 25,
      "id": "e2b6c41b-e454-463f-ac0c-87fcbabd05fe",
      "metadata": {
        "colab": {
          "base_uri": "https://localhost:8080/"
        },
        "id": "e2b6c41b-e454-463f-ac0c-87fcbabd05fe",
        "outputId": "32f6b619-229f-4ae0-dadf-1c1c476dba94"
      },
      "outputs": [
        {
          "output_type": "stream",
          "name": "stdout",
          "text": [
            "There are no missing values.\n"
          ]
        }
      ],
      "source": [
        "# Check if there are any missing values left in the DataFrame\n",
        "missing_data = df_final_clean.isnull().sum()\n",
        "missing_columns = missing_data[missing_data > 0]\n",
        "\n",
        "if missing_columns.empty:\n",
        "    print(\"There are no missing values.\")\n",
        "else:\n",
        "    print(\"Columns with remaining missing values:\\n\", missing_columns)"
      ]
    },
    {
      "cell_type": "markdown",
      "id": "ccac99d4",
      "metadata": {
        "id": "ccac99d4"
      },
      "source": [
        "# Part 1: Exploratory Data Analysis (EDA)"
      ]
    },
    {
      "cell_type": "markdown",
      "id": "3d51746e",
      "metadata": {
        "id": "3d51746e"
      },
      "source": [
        "## Overview of the data using Tableone\n",
        "Goal: To understand the distribution of patients across different racial-ethnic groups, sex, and other demographics. This step sets the foundation by showing the diversity in the dataset and highlighting potential areas of interest for further analysis."
      ]
    },
    {
      "cell_type": "code",
      "execution_count": 26,
      "id": "b6219d71-3d52-4800-a0cc-70d145b06474",
      "metadata": {
        "colab": {
          "base_uri": "https://localhost:8080/"
        },
        "id": "b6219d71-3d52-4800-a0cc-70d145b06474",
        "outputId": "038f931f-6904-4e2e-c705-9f86a42a1fd1"
      },
      "outputs": [
        {
          "output_type": "stream",
          "name": "stderr",
          "text": [
            "<ipython-input-26-965bbcaee14a>:2: SettingWithCopyWarning: \n",
            "A value is trying to be set on a copy of a slice from a DataFrame.\n",
            "Try using .loc[row_indexer,col_indexer] = value instead\n",
            "\n",
            "See the caveats in the documentation: https://pandas.pydata.org/pandas-docs/stable/user_guide/indexing.html#returning-a-view-versus-a-copy\n",
            "  df_final_clean['sex'] = df_final_clean['sex_female'].apply(lambda x: 'F' if x == 1 else 'M')\n"
          ]
        }
      ],
      "source": [
        "# Create a new column with 'F' for female and 'M' for male\n",
        "df_final_clean['sex'] = df_final_clean['sex_female'].apply(lambda x: 'F' if x == 1 else 'M')"
      ]
    },
    {
      "cell_type": "code",
      "execution_count": 27,
      "id": "cb8ba0ac-820f-4fa9-b3f2-a316a225ff4f",
      "metadata": {
        "colab": {
          "base_uri": "https://localhost:8080/"
        },
        "id": "cb8ba0ac-820f-4fa9-b3f2-a316a225ff4f",
        "outputId": "23efb730-afa7-415c-952b-fbc6085bef1a"
      },
      "outputs": [
        {
          "output_type": "stream",
          "name": "stderr",
          "text": [
            "/usr/local/lib/python3.10/dist-packages/scipy/stats/_morestats.py:1882: UserWarning: p-value may not be accurate for N > 5000.\n",
            "  warnings.warn(\"p-value may not be accurate for N > 5000.\")\n"
          ]
        },
        {
          "output_type": "stream",
          "name": "stdout",
          "text": [
            "Non-normally distributed variables: ['unique_subject_id', 'unique_hospital_admission_id', 'unique_icustay_id', 'hospital_admission_id', 'icustay_id', 'hospitalid', 'admission_age', 'sex_female', 'BMI_admission', 'los_ICU', 'los_hospital', 'sofa_past_overall_24hr', 'sofa_future_overall_24hr', 'vitals_heart_rate', 'vitals_mbp_i', 'vitals_mbp_ni', 'vitals_sbp_ni', 'vitals_sbp_i', 'vitals_resp_rate', 'vitals_tempc', 'vitals_dbp_ni', 'hfp_albumin', 'hfp_bilirubin_total', 'hfp_bilirubin_direct', 'bmp_bun', 'bmp_lactate', 'bmp_creatinine', 'bmp_glucose', 'bmp_potassium', 'bmp_sodium', 'cbc_hemoglobin', 'in_hospital_mortality', 'SpO2', 'SaO2']\n"
          ]
        }
      ],
      "source": [
        "import pandas as pd\n",
        "from scipy.stats import shapiro\n",
        "import numpy as np\n",
        "\n",
        "# Assuming df_final_clean is already defined and populated with your data\n",
        "\n",
        "def identify_non_normal_columns(df, alpha=0.05):\n",
        "    \"\"\"\n",
        "    Identify columns that are not normally distributed based on the Shapiro-Wilk test.\n",
        "\n",
        "    Parameters:\n",
        "    df (pd.DataFrame): The DataFrame to test.\n",
        "    alpha (float): The significance level to use for the test. Default is 0.05.\n",
        "\n",
        "    Returns:\n",
        "    list: List of column names that are not normally distributed.\n",
        "    \"\"\"\n",
        "    non_normal_columns = []\n",
        "\n",
        "    for col in df.columns:\n",
        "        if pd.api.types.is_numeric_dtype(df[col]):\n",
        "            stat, p = shapiro(df[col])\n",
        "            if p < alpha:\n",
        "                non_normal_columns.append(col)\n",
        "\n",
        "    return non_normal_columns\n",
        "\n",
        "# Identify non-normally distributed variables\n",
        "non_normal_vars = identify_non_normal_columns(df_final_clean)\n",
        "print(\"Non-normally distributed variables:\", non_normal_vars)\n"
      ]
    },
    {
      "cell_type": "code",
      "execution_count": 28,
      "id": "81ef8e37",
      "metadata": {
        "id": "81ef8e37"
      },
      "outputs": [],
      "source": [
        "# Specify the columns to include in the table\n",
        "columns = ['admission_age', 'BMI_admission', 'race_ethnicity', 'sex', 'in_hospital_mortality']\n",
        "\n",
        "# Categorical Variables [ represent categories ]\n",
        "categorical = ['sex', 'race_ethnicity']\n",
        "\n",
        "# Define how to group the data for comparison\n",
        "    # In this case grouping by 'in_hospital_mortality' to compare different groups based on their mortality status\n",
        "groupby = ['in_hospital_mortality']\n",
        "\n",
        "# indicates which variables are not normally distributed\n",
        "nonnormal = ['BMI_admission']\n",
        "\n",
        "# Renames the variables for better readability\n",
        "labels = {\n",
        "    'in_hospital_mortality': \"Mortality\",\n",
        "    'age': \"Age\",\n",
        "    'race_ethnicity': \"Race and Ethnicity\",\n",
        "    'BMI_admission':\"BMI\",\n",
        "    'sex': \"Sex\",\n",
        "}\n",
        "\n",
        "# Sets the order for categorical variables\n",
        "order = {\n",
        "    'sex': ['F', 'M']  # 1 for Female, 0 for Male\n",
        "}\n",
        "\n",
        "# if you want you can also limit to a certain number of classes\n",
        "# limit = {\n",
        "#     'sex_female': 1\n",
        "# }"
      ]
    },
    {
      "cell_type": "code",
      "execution_count": 30,
      "id": "c2fee132",
      "metadata": {
        "colab": {
          "base_uri": "https://localhost:8080/"
        },
        "id": "c2fee132",
        "outputId": "1bbdc492-a90b-45d9-f793-909840cbf53f"
      },
      "outputs": [
        {
          "output_type": "stream",
          "name": "stderr",
          "text": [
            "/usr/local/lib/python3.10/dist-packages/tableone/tableone.py:322: SettingWithCopyWarning: \n",
            "A value is trying to be set on a copy of a slice from a DataFrame.\n",
            "Try using .loc[row_indexer,col_indexer] = value instead\n",
            "\n",
            "See the caveats in the documentation: https://pandas.pydata.org/pandas-docs/stable/user_guide/indexing.html#returning-a-view-versus-a-copy\n",
            "  data[self._categorical] = handle_categorical_nulls(data[self._categorical])\n"
          ]
        }
      ],
      "source": [
        "name_of_table = TableOne (\n",
        "    df_final_clean, # The dataset to summariaze\n",
        "    columns = columns,\n",
        "    categorical = categorical,\n",
        "    groupby = groupby[0], # Access the string inside the list\n",
        "    nonnormal = nonnormal,\n",
        "    rename = labels,\n",
        "#     limit = limit,\n",
        "    order = order,\n",
        "    overall = True, # Whethere to include overall summary statistics\n",
        "    missing = True, # Whether to include info about the number of missing values for each variable\n",
        "    pval = True, # Whether to include p-values for comparisons\n",
        "    decimals = 2, # Number of decimal places for numerical values\n",
        ")"
      ]
    },
    {
      "cell_type": "code",
      "execution_count": 31,
      "id": "1d92893d",
      "metadata": {
        "colab": {
          "base_uri": "https://localhost:8080/",
          "height": 449
        },
        "id": "1d92893d",
        "outputId": "9d6c3b30-8e66-4c2f-e215-55ae2cff4776"
      },
      "outputs": [
        {
          "output_type": "display_data",
          "data": {
            "text/plain": [
              "                                             Grouped by Mortality                                                                       \n",
              "                                                          Missing              Overall                  0.0                  1.0 P-Value\n",
              "n                                                                                40929                33482                 7447        \n",
              "admission_age, mean (SD)                                        0        64.82 (15.72)        63.93 (15.76)        68.80 (14.92)  <0.001\n",
              "BMI, median [Q1,Q3]                                             0  28.12 [24.04,33.21]  28.12 [24.24,33.40]  27.46 [23.07,32.09]  <0.001\n",
              "Race and Ethnicity, n (%) Asian                                             755 (1.84)           613 (1.83)           142 (1.91)   0.335\n",
              "                          Black                                           4252 (10.39)         3473 (10.37)          779 (10.46)        \n",
              "                          Hispanic OR Latino                               1915 (4.68)          1538 (4.59)           377 (5.06)        \n",
              "                          White                                          34007 (83.09)        27858 (83.20)         6149 (82.57)        \n",
              "Sex, n (%)                F                                              17793 (43.47)        14491 (43.28)         3302 (44.34)   0.098\n",
              "                          M                                              23136 (56.53)        18991 (56.72)         4145 (55.66)        "
            ],
            "text/html": [
              "<div>\n",
              "<style scoped>\n",
              "    .dataframe tbody tr th:only-of-type {\n",
              "        vertical-align: middle;\n",
              "    }\n",
              "\n",
              "    .dataframe tbody tr th {\n",
              "        vertical-align: top;\n",
              "    }\n",
              "\n",
              "    .dataframe thead tr th {\n",
              "        text-align: left;\n",
              "    }\n",
              "</style>\n",
              "<table border=\"1\" class=\"dataframe\">\n",
              "  <thead>\n",
              "    <tr>\n",
              "      <th></th>\n",
              "      <th></th>\n",
              "      <th colspan=\"5\" halign=\"left\">Grouped by Mortality</th>\n",
              "    </tr>\n",
              "    <tr>\n",
              "      <th></th>\n",
              "      <th></th>\n",
              "      <th>Missing</th>\n",
              "      <th>Overall</th>\n",
              "      <th>0.0</th>\n",
              "      <th>1.0</th>\n",
              "      <th>P-Value</th>\n",
              "    </tr>\n",
              "  </thead>\n",
              "  <tbody>\n",
              "    <tr>\n",
              "      <th>n</th>\n",
              "      <th></th>\n",
              "      <td></td>\n",
              "      <td>40929</td>\n",
              "      <td>33482</td>\n",
              "      <td>7447</td>\n",
              "      <td></td>\n",
              "    </tr>\n",
              "    <tr>\n",
              "      <th>admission_age, mean (SD)</th>\n",
              "      <th></th>\n",
              "      <td>0</td>\n",
              "      <td>64.82 (15.72)</td>\n",
              "      <td>63.93 (15.76)</td>\n",
              "      <td>68.80 (14.92)</td>\n",
              "      <td>&lt;0.001</td>\n",
              "    </tr>\n",
              "    <tr>\n",
              "      <th>BMI, median [Q1,Q3]</th>\n",
              "      <th></th>\n",
              "      <td>0</td>\n",
              "      <td>28.12 [24.04,33.21]</td>\n",
              "      <td>28.12 [24.24,33.40]</td>\n",
              "      <td>27.46 [23.07,32.09]</td>\n",
              "      <td>&lt;0.001</td>\n",
              "    </tr>\n",
              "    <tr>\n",
              "      <th rowspan=\"4\" valign=\"top\">Race and Ethnicity, n (%)</th>\n",
              "      <th>Asian</th>\n",
              "      <td></td>\n",
              "      <td>755 (1.84)</td>\n",
              "      <td>613 (1.83)</td>\n",
              "      <td>142 (1.91)</td>\n",
              "      <td>0.335</td>\n",
              "    </tr>\n",
              "    <tr>\n",
              "      <th>Black</th>\n",
              "      <td></td>\n",
              "      <td>4252 (10.39)</td>\n",
              "      <td>3473 (10.37)</td>\n",
              "      <td>779 (10.46)</td>\n",
              "      <td></td>\n",
              "    </tr>\n",
              "    <tr>\n",
              "      <th>Hispanic OR Latino</th>\n",
              "      <td></td>\n",
              "      <td>1915 (4.68)</td>\n",
              "      <td>1538 (4.59)</td>\n",
              "      <td>377 (5.06)</td>\n",
              "      <td></td>\n",
              "    </tr>\n",
              "    <tr>\n",
              "      <th>White</th>\n",
              "      <td></td>\n",
              "      <td>34007 (83.09)</td>\n",
              "      <td>27858 (83.20)</td>\n",
              "      <td>6149 (82.57)</td>\n",
              "      <td></td>\n",
              "    </tr>\n",
              "    <tr>\n",
              "      <th rowspan=\"2\" valign=\"top\">Sex, n (%)</th>\n",
              "      <th>F</th>\n",
              "      <td></td>\n",
              "      <td>17793 (43.47)</td>\n",
              "      <td>14491 (43.28)</td>\n",
              "      <td>3302 (44.34)</td>\n",
              "      <td>0.098</td>\n",
              "    </tr>\n",
              "    <tr>\n",
              "      <th>M</th>\n",
              "      <td></td>\n",
              "      <td>23136 (56.53)</td>\n",
              "      <td>18991 (56.72)</td>\n",
              "      <td>4145 (55.66)</td>\n",
              "      <td></td>\n",
              "    </tr>\n",
              "  </tbody>\n",
              "</table>\n",
              "</div><br />"
            ]
          },
          "metadata": {}
        }
      ],
      "source": [
        "display(name_of_table)"
      ]
    },
    {
      "cell_type": "markdown",
      "id": "4b73e664-71f2-47f0-89c4-6da4835092b2",
      "metadata": {
        "jp-MarkdownHeadingCollapsed": true,
        "id": "4b73e664-71f2-47f0-89c4-6da4835092b2"
      },
      "source": [
        "Understanding the table:\n",
        "- Columns & Rows:\n",
        "  * Missing: Number of missing values for each variable.\n",
        "  * Overall: Statistics for the entire dataset.\n",
        "  * 0.0 (No Mortality): Statistics for patients who did not die in the hospital.\n",
        "  * 1.0 (Mortality): Statistics for patients who died in the hospital.\n",
        "  * P-Value: Statistical significance of differences between groups.\n",
        "\n",
        "- Variables:\n",
        "  * admission_age, mean (SD): Mean age at admission with standard deviation (SD). SD measures the amount of variation or dispersion of ages.\n",
        "  * BMI, median [Q1, Q3]: Median Body Mass Index (BMI) with the first quartile (Q1) and third quartile (Q3). Median represents the middle value, and quartiles divide the data into four equal parts.\n",
        "  * Race and Ethnicity, n (%): Number and percentage of patients in different racial and ethnic groups.\n",
        "  * Sex, n (%): Number and percentage of male and female patients.\n",
        "\n",
        "- Grouped by Mortality:\n",
        "  * Statistics for Subgroups: Compares characteristics of patients who survived (0.0) versus those who died (1.0) during their hospital stay.\n",
        "  * P-Value: Indicates whether differences between the mortality groups are statistically significant. A low p-value (typically < 0.05) suggests significant differences.\n"
      ]
    },
    {
      "cell_type": "code",
      "execution_count": 32,
      "id": "6f7c76a7",
      "metadata": {
        "colab": {
          "base_uri": "https://localhost:8080/"
        },
        "id": "6f7c76a7",
        "outputId": "92e7f9dc-4eb1-4879-d44b-107ee22fdb75"
      },
      "outputs": [
        {
          "output_type": "stream",
          "name": "stderr",
          "text": [
            "<ipython-input-32-b3b0c6c55e28>:4: SettingWithCopyWarning: \n",
            "A value is trying to be set on a copy of a slice from a DataFrame.\n",
            "Try using .loc[row_indexer,col_indexer] = value instead\n",
            "\n",
            "See the caveats in the documentation: https://pandas.pydata.org/pandas-docs/stable/user_guide/indexing.html#returning-a-view-versus-a-copy\n",
            "  df_final_clean ['age_group'] = pd.cut(df_final_clean['admission_age'], bins = bins, labels = labels) # Creates a new column age_group in the DataFrame that categorizes admission_age into the specified age ranges.\n"
          ]
        }
      ],
      "source": [
        "# Create Age Groups:\n",
        "bins = [0,65,float('inf')] # Specifies the edges of the bins for the age groups (0 to 65, and 65 and above).\n",
        "labels = ['<65', '>=65'] # Specifies the labels for the age groups.\n",
        "df_final_clean ['age_group'] = pd.cut(df_final_clean['admission_age'], bins = bins, labels = labels) # Creates a new column age_group in the DataFrame that categorizes admission_age into the specified age ranges."
      ]
    },
    {
      "cell_type": "code",
      "execution_count": 33,
      "id": "b38d863c-d736-41e5-810f-148619659471",
      "metadata": {
        "colab": {
          "base_uri": "https://localhost:8080/"
        },
        "id": "b38d863c-d736-41e5-810f-148619659471",
        "outputId": "b5c36705-0c5c-4e29-e9dd-6147628cec95"
      },
      "outputs": [
        {
          "output_type": "execute_result",
          "data": {
            "text/plain": [
              "0        >=65\n",
              "1        >=65\n",
              "2         <65\n",
              "3        >=65\n",
              "4         <65\n",
              "         ... \n",
              "49087    >=65\n",
              "49089    >=65\n",
              "49090    >=65\n",
              "49091     <65\n",
              "49092    >=65\n",
              "Name: age_group, Length: 40929, dtype: category\n",
              "Categories (2, object): ['<65' < '>=65']"
            ]
          },
          "metadata": {},
          "execution_count": 33
        }
      ],
      "source": [
        "df_final_clean ['age_group']"
      ]
    },
    {
      "cell_type": "code",
      "execution_count": 35,
      "id": "34b47f6c",
      "metadata": {
        "colab": {
          "base_uri": "https://localhost:8080/"
        },
        "id": "34b47f6c",
        "outputId": "cdc0ce25-2358-40ed-9e35-caf0b6ad97af"
      },
      "outputs": [
        {
          "output_type": "stream",
          "name": "stdout",
          "text": [
            "           Count  Percentage\n",
            "age_group                   \n",
            ">=65       21646   52.886706\n",
            "<65        19283   47.113294\n"
          ]
        }
      ],
      "source": [
        "import pandas as pd\n",
        "\n",
        "def calculate_counts_and_percentages(df, column_name):\n",
        "  \"\"\"\n",
        "  Calculates counts and percentages for each unique value in a DataFrame column.\n",
        "\n",
        "  Args:\n",
        "    df: The pandas DataFrame.\n",
        "    column_name: The name of the column to analyze.\n",
        "\n",
        "  Returns:\n",
        "    A pandas DataFrame with counts and percentages.\n",
        "  \"\"\"\n",
        "  counts = df[column_name].value_counts()\n",
        "  percentages = df[column_name].value_counts(normalize=True) * 100\n",
        "  result = pd.DataFrame({'Count': counts, 'Percentage': percentages})\n",
        "  return result\n",
        "\n",
        "# Assuming df_final_clean is already defined and contains the 'age_group' column\n",
        "result_age_group = calculate_counts_and_percentages(df_final_clean, 'age_group')\n",
        "print(result_age_group)"
      ]
    },
    {
      "cell_type": "markdown",
      "id": "5a2a4d08-efd5-45de-b6d6-b605e57dce0a",
      "metadata": {
        "id": "5a2a4d08-efd5-45de-b6d6-b605e57dce0a"
      },
      "source": [
        "##  Visualization of Mean Mortality per Ethnic Group"
      ]
    },
    {
      "cell_type": "code",
      "execution_count": 38,
      "id": "f669bf60-cb1e-42f4-b164-c101f6501eea",
      "metadata": {
        "colab": {
          "base_uri": "https://localhost:8080/"
        },
        "id": "f669bf60-cb1e-42f4-b164-c101f6501eea",
        "outputId": "f4dc7515-2c91-4ab5-e626-91624975fb88"
      },
      "outputs": [
        {
          "output_type": "stream",
          "name": "stdout",
          "text": [
            "race_ethnicity\n",
            "Asian                 0.188079\n",
            "Black                 0.183208\n",
            "Hispanic OR Latino    0.196867\n",
            "White                 0.180816\n",
            "Name: in_hospital_mortality, dtype: float64\n"
          ]
        }
      ],
      "source": [
        "# Group by 'ethnicity' and calculate the mean of 'hospital_death' for each group\n",
        "# This will give the avg mortality rate per ethnical group\n",
        "mortality_per_ethnicty = df_final_clean.groupby('race_ethnicity')['in_hospital_mortality'].mean()\n",
        "print (mortality_per_ethnicty)"
      ]
    },
    {
      "cell_type": "code",
      "execution_count": 39,
      "id": "4e17d0e8",
      "metadata": {
        "colab": {
          "base_uri": "https://localhost:8080/",
          "height": 516
        },
        "id": "4e17d0e8",
        "outputId": "b3e6851b-9317-402d-fc79-9fb0567d804d"
      },
      "outputs": [
        {
          "output_type": "display_data",
          "data": {
            "text/plain": [
              "<Figure size 1000x600 with 1 Axes>"
            ],
            "image/png": "[encoded data removed]"
          },
          "metadata": {}
        }
      ],
      "source": [
        "# let's plot the results!\n",
        "\n",
        "# Ensure matplotlib uses an inline backend\n",
        "%matplotlib inline\n",
        "\n",
        "# Create the bar plot with a specified figure size\n",
        "plt.figure (figsize =(10,6))\n",
        "\n",
        "# Plot the mean mortality per ethnic group as a bar plot\n",
        "mortality_per_ethnicty.plot(kind = 'bar', color = 'skyblue')\n",
        "\n",
        "# Add labels and titles to the plot for a better understanding\n",
        "plt.xlabel('Ethnicity') # Label for the x-axis\n",
        "plt.ylabel('Mean Hospital Deaths') # Lable for the y-axis\n",
        "plt.title('Mean Mortality per Ethnic Group') # Title of the plot\n",
        "\n",
        "# Rotate the x-axis labels for better readability\n",
        "plt.xticks(rotation = 45)\n",
        "\n",
        "# Display the plot\n",
        "plt.show()"
      ]
    },
    {
      "cell_type": "markdown",
      "id": "613d92f7-8616-4400-bebb-99dda68bde34",
      "metadata": {
        "id": "613d92f7-8616-4400-bebb-99dda68bde34"
      },
      "source": [
        "Why not comparing the sum of patients instead?\n",
        "- Normalizing the data by calculating the mean instead of the sum ensures that\n",
        "we are comparing the mortality rates relative to the size of each ethnic group.\n",
        "This is important because it allows us to see the proportional impact of mortality\n",
        "across different groups, rather than choosing to plot the number of hospital deaths which is skewed by the total number of patients\n",
        "in each group. This approach helps in identifying if certain groups have a disproportionately\n",
        "higher or lower mortality rate, providing a clearer insight into potential biases or\n",
        "disparities in the data."
      ]
    },
    {
      "cell_type": "markdown",
      "id": "d788dc1d",
      "metadata": {
        "id": "d788dc1d"
      },
      "source": [
        "## Initial Analysis of SpO2 and SaO2\n",
        "* Present the statistical summary and visualize the distribution of SpO2 and SaO2 values.\n",
        "* Highlight any differences in SpO2 and SaO2 distributions across different demographic groups (e.g., race_ethnicity, sex).\n",
        "\n",
        "Goal: To explore the distribution of SpO2 and SaO2 values across different demographics. This step helps to identify any preliminary differences or patterns in SpO2 and SaO2 measurements among various groups."
      ]
    },
    {
      "cell_type": "code",
      "execution_count": 40,
      "id": "99931ae2",
      "metadata": {
        "colab": {
          "base_uri": "https://localhost:8080/"
        },
        "id": "99931ae2",
        "outputId": "16051a1e-f615-4f47-b7f2-11681b9e1f93"
      },
      "outputs": [
        {
          "output_type": "stream",
          "name": "stdout",
          "text": [
            "SpO2 summary:\n",
            "\n",
            "count    40929.000000\n",
            "mean        97.148525\n",
            "std          3.830732\n",
            "min         70.000000\n",
            "25%         96.000000\n",
            "50%         98.000000\n",
            "75%        100.000000\n",
            "max        100.000000\n",
            "\n",
            "\n",
            "SaO2 summary:\n",
            "\n",
            "count    40929.000000\n",
            "mean        95.949845\n",
            "std          4.154299\n",
            "min         70.000000\n",
            "25%         94.700000\n",
            "50%         97.000000\n",
            "75%         99.000000\n",
            "max        100.000000\n"
          ]
        }
      ],
      "source": [
        "# Statistical summary of SpO2 values\n",
        "Sp02_summary = df_final_clean['SpO2'].describe()\n",
        "print(\"SpO2 summary:\\n\")\n",
        "print(Sp02_summary.to_string())\n",
        "print (\"\\n\")\n",
        "\n",
        "SaO2_summary = df_final_clean['SaO2'].describe()\n",
        "print(\"SaO2 summary:\\n\")\n",
        "print(SaO2_summary.to_string())"
      ]
    },
    {
      "cell_type": "code",
      "execution_count": 41,
      "id": "c407bdda",
      "metadata": {
        "colab": {
          "base_uri": "https://localhost:8080/",
          "height": 295
        },
        "id": "c407bdda",
        "outputId": "4dc09c98-7f9b-40c4-c136-8baac2b4937e"
      },
      "outputs": [
        {
          "output_type": "display_data",
          "data": {
            "text/plain": [
              "<Figure size 1600x600 with 2 Axes>"
            ],
            "image/png": "[encoded data removed]"
          },
          "metadata": {}
        }
      ],
      "source": [
        "# Visualization of the Distribution of SpO2 values\n",
        "plt.figure(figsize=(16,6))\n",
        "\n",
        "\n",
        "plt.subplot(1,2,1) # a 1-row, 2-column figure: go to the first subplot\n",
        "sns.histplot(df_final_clean['SpO2'], kde = True)\n",
        "plt.title ('Distribution of SpO2 Values')\n",
        "plt.xlabel('SpO2')\n",
        "plt.ylabel('Frequency')\n",
        "\n",
        "\n",
        "# Visualization of the Distribution of SaO2 values\n",
        "plt.subplot(1,2,2)\n",
        "sns.histplot(df_final_clean['SaO2'], kde = True)\n",
        "plt.title ('Distribution of SaO2 Values')\n",
        "plt.xlabel('SaO2')\n",
        "plt.ylabel('Frequency')\n",
        "\n",
        "# Adjust the space between the 2 subplots\n",
        "plt.subplots_adjust (wspace = 0.2)\n",
        "\n",
        "plt.show()"
      ]
    },
    {
      "cell_type": "markdown",
      "id": "90e8fd7e",
      "metadata": {
        "id": "90e8fd7e"
      },
      "source": [
        "Key Observations:\n",
        "* High Frequency of Near-Perfect SpO2 Readings: The distribution of SpO2 values shows a sharp increase in frequency at the higher end, particularly around 100. This indicates that pulse oximeters frequently report near-perfect oxygen saturation levels, suggesting potential issues with overestimation or insensitivity to lower oxygen saturation levels.\n",
        "* Wider Distribution and Lower Peak for SaO2 Values: The SaO2 distribution is broader and does not show the same sharp peak at the higher end as the SpO2 distribution. This suggests that the more accurate arterial blood gas measurements capture a wider range of oxygen saturation levels and are less likely to overestimate saturation, highlighting the discrepancy between noninvasive and invasive measurements."
      ]
    },
    {
      "cell_type": "code",
      "execution_count": 42,
      "id": "7c6f5f8e",
      "metadata": {
        "colab": {
          "base_uri": "https://localhost:8080/",
          "height": 484
        },
        "id": "7c6f5f8e",
        "outputId": "69a448bb-3098-4723-bd57-9c6ee08fbfd8"
      },
      "outputs": [
        {
          "output_type": "display_data",
          "data": {
            "text/plain": [
              "<Figure size 1200x800 with 2 Axes>"
            ],
            "image/png": "[encoded data removed]"
          },
          "metadata": {}
        }
      ],
      "source": [
        "# Distribution of SpO2 values by race_ethnicity\n",
        "plt.figure(figsize=(12, 8))\n",
        "\n",
        "plt.subplot(1,2,1)\n",
        "sns.boxplot(x='race_ethnicity', y='SpO2', data=df_final_clean)\n",
        "plt.title('SpO2 Distribution by Race/Ethnicity')\n",
        "plt.xlabel('Race/Ethnicity')\n",
        "plt.ylabel('SpO2')\n",
        "\n",
        "\n",
        "# Distribution of SaO2 values by race_ethnicity\n",
        "plt.subplot(1,2,2)\n",
        "sns.boxplot(x='race_ethnicity', y='SaO2', data=df_final_clean)\n",
        "plt.title('SaO2 Distribution by Race/Ethnicity')\n",
        "plt.xlabel('Race/Ethnicity')\n",
        "plt.ylabel('SaO2')\n",
        "\n",
        "# Adjust the space between the 2 subplots\n",
        "plt.subplots_adjust (wspace = 0.2)\n",
        "\n",
        "plt.show()"
      ]
    },
    {
      "cell_type": "markdown",
      "id": "e61374bf",
      "metadata": {
        "id": "e61374bf"
      },
      "source": [
        "Key Observations:\n",
        "* Consistent SpO2 Measurements Across Groups: The distribution of SpO2 values is relatively similar across all racial and ethnic groups (White, Asian, Black, Hispanic or Latino). Most readings cluster around higher saturation levels (near 100%), indicating a consistency in how pulse oximeters measure oxygen saturation across these groups.\n",
        "* Greater Variability in SaO2 Measurements: The SaO2 values show greater variability across racial and ethnic groups, particularly in the lower ranges. There are more significant outliers and a wider spread in the lower SaO2 values, especially for the Black and Hispanic or Latino groups. This suggests that arterial oxygen saturation measurements capture a wider and potentially more accurate range of oxygen saturation levels compared to pulse oximetry.\n"
      ]
    },
    {
      "cell_type": "markdown",
      "id": "8d8d83f0",
      "metadata": {
        "id": "8d8d83f0"
      },
      "source": [
        "## Analysis of Hypoxemia using SpO2 and SaO2 individually\n",
        "\n",
        "* Define hypoxemia using a threshold for SpO2 and SaO2.\n",
        "* Compare the incidence of hypoxemia across different demographic groups.\n",
        "* Highlight any disparities that may indicate bias in SpO2 measurements.\n",
        "\n",
        "Goal: To compare SpO2 and SaO2 values side by side and examine the incidence of hypoxemia using both measurements. This step highlights the discrepancies and biases in SpO2 measurements by analyzing hypoxemia based on SaO2 measurements and compare it with SpO2-based analysis. This step emphasizes the importance of SaO2 measurements in revealing hidden hypoxemia that SpO2 alone might miss."
      ]
    },
    {
      "cell_type": "code",
      "execution_count": 43,
      "id": "9052964c",
      "metadata": {
        "colab": {
          "base_uri": "https://localhost:8080/"
        },
        "id": "9052964c",
        "outputId": "792e10dd-a50a-40bb-9b95-68d6a02b394f"
      },
      "outputs": [
        {
          "output_type": "stream",
          "name": "stdout",
          "text": [
            "SpO2:\n",
            "\n",
            "       race_ethnicity  hypoxemia_incidence\n",
            "0               Asian             2.119205\n",
            "1               Black             2.869238\n",
            "2  Hispanic OR Latino             2.193211\n",
            "3               White             2.805305\n",
            "\n",
            "\n",
            "SaO2:\n",
            "\n",
            "       race_ethnicity  hypoxemia_incidence\n",
            "0               Asian             3.708609\n",
            "1               Black             5.620884\n",
            "2  Hispanic OR Latino             3.916449\n",
            "3               White             4.478490\n"
          ]
        },
        {
          "output_type": "stream",
          "name": "stderr",
          "text": [
            "<ipython-input-43-8962d26cfd90>:2: SettingWithCopyWarning: \n",
            "A value is trying to be set on a copy of a slice from a DataFrame.\n",
            "Try using .loc[row_indexer,col_indexer] = value instead\n",
            "\n",
            "See the caveats in the documentation: https://pandas.pydata.org/pandas-docs/stable/user_guide/indexing.html#returning-a-view-versus-a-copy\n",
            "  df_final_clean ['hypoxemia_SpO2'] = df_final_clean ['SpO2'] < 88\n",
            "<ipython-input-43-8962d26cfd90>:3: SettingWithCopyWarning: \n",
            "A value is trying to be set on a copy of a slice from a DataFrame.\n",
            "Try using .loc[row_indexer,col_indexer] = value instead\n",
            "\n",
            "See the caveats in the documentation: https://pandas.pydata.org/pandas-docs/stable/user_guide/indexing.html#returning-a-view-versus-a-copy\n",
            "  df_final_clean ['hypoxemia_SaO2'] = df_final_clean ['SaO2'] < 88\n"
          ]
        }
      ],
      "source": [
        "# Define Hypoxemia based on SpO2 threshold (e.g. SpO2 < 88%) and SpO2 threshold (e.g. SpO2 < 88%)\n",
        "df_final_clean ['hypoxemia_SpO2'] = df_final_clean ['SpO2'] < 88\n",
        "df_final_clean ['hypoxemia_SaO2'] = df_final_clean ['SaO2'] < 88\n",
        "\n",
        "# Incidence of hypoxemia by race_ethnicity\n",
        "hypoxemia_by_race_SpO2 = df_final_clean.groupby('race_ethnicity')['hypoxemia_SpO2'].mean().reset_index()\n",
        "hypoxemia_by_race_SaO2 = df_final_clean.groupby('race_ethnicity')['hypoxemia_SaO2'].mean().reset_index()\n",
        "    # The mean value represents the proportion of patients with hypoxemia in each racial/ethnic group.\n",
        "\n",
        "\n",
        "hypoxemia_by_race_SpO2.columns = ['race_ethnicity', 'hypoxemia_incidence']\n",
        "hypoxemia_by_race_SaO2.columns = ['race_ethnicity', 'hypoxemia_incidence']\n",
        "hypoxemia_by_race_SpO2['hypoxemia_incidence'] *= 100\n",
        "hypoxemia_by_race_SaO2['hypoxemia_incidence'] *= 100\n",
        "\n",
        "\n",
        "\n",
        "print(\"SpO2:\\n\")\n",
        "print (hypoxemia_by_race_SpO2)\n",
        "print('\\n')\n",
        "print(\"SaO2:\\n\")\n",
        "print (hypoxemia_by_race_SaO2)\n"
      ]
    },
    {
      "cell_type": "markdown",
      "id": "366327f9",
      "metadata": {
        "id": "366327f9"
      },
      "source": [
        "### Hypoxemia Incidence"
      ]
    },
    {
      "cell_type": "code",
      "execution_count": 44,
      "id": "6f9bfd62",
      "metadata": {
        "colab": {
          "base_uri": "https://localhost:8080/",
          "height": 559
        },
        "id": "6f9bfd62",
        "outputId": "94e9363f-9bde-4335-a72d-9fb51ee8961d"
      },
      "outputs": [
        {
          "output_type": "display_data",
          "data": {
            "text/plain": [
              "<Figure size 1200x800 with 2 Axes>"
            ],
            "image/png": "[encoded data removed]"
          },
          "metadata": {}
        }
      ],
      "source": [
        "# Visualization\n",
        "plt.figure(figsize=(12,8))\n",
        "\n",
        "\n",
        "# Define the common y-axis limit\n",
        "y_max = max(hypoxemia_by_race_SpO2['hypoxemia_incidence'].max(), hypoxemia_by_race_SaO2['hypoxemia_incidence'].max())\n",
        "# y_min = min(hypoxemia_by_race_SpO2['hypoxemia_incidence'].min(), hypoxemia_by_race_SaO2['hypoxemia_incidence'].min())\n",
        "\n",
        "# a 1-row, 2-column figure: go to the first subplot\n",
        "plt.subplot(1,2,1)\n",
        "sns.barplot(x='race_ethnicity', y='hypoxemia_incidence', data = hypoxemia_by_race_SpO2)\n",
        "plt.title ('Hypoxemia Incidence - SpO2')\n",
        "plt.xlabel('Race/Ethnicity')\n",
        "plt.ylabel ('Hypoxemia Incidence (%)')\n",
        "plt.xticks(rotation = 45)\n",
        "plt.ylim(0,y_max)\n",
        "\n",
        "\n",
        "# a 1-row, 2-column figure: go to the second subplot\n",
        "plt.subplot(1,2,2)\n",
        "sns.barplot(x='race_ethnicity', y='hypoxemia_incidence', data = hypoxemia_by_race_SaO2)\n",
        "plt.title ('Hypoxemia Incidence - SaO2')\n",
        "plt.xlabel('Race/Ethnicity')\n",
        "plt.ylabel ('Hypoxemia Incidence (%)')\n",
        "plt.xticks(rotation = 45)\n",
        "plt.ylim(0,y_max)\n",
        "\n",
        "# Adjust the space between the 2 subplots\n",
        "plt.subplots_adjust (wspace = 0.2)\n",
        "\n",
        "plt.show()"
      ]
    },
    {
      "cell_type": "markdown",
      "id": "ed30a59d",
      "metadata": {
        "id": "ed30a59d"
      },
      "source": [
        "Key Observation:\n",
        "* The disparity between the incidence of hypoxemia based on SpO2 and SaO2 measurements  indicates that relying only on SpO2 can lead to underestimation of hypoxemia, especially in certain racial-ethnic groups.\n",
        "* The analysis reveals that SaO2 measurements uncover hidden hypoxemia cases not detected by SpO2 alone.\n"
      ]
    },
    {
      "cell_type": "markdown",
      "id": "d9a36c50",
      "metadata": {
        "id": "d9a36c50"
      },
      "source": [
        "### Patients with both SpO2 and SaO2 measurements by race/ethnicity\n",
        "This section identifies the percentage of patients with both SpO2 and SaO2 measurements across different racial/ethnic groups. It highlights the bias introduced by the incomplete data, showing that not all patients have both measurements, which can impact the accuracy and fairness of clinical assessments across demographics."
      ]
    },
    {
      "cell_type": "code",
      "execution_count": 45,
      "id": "db77c0ab-72ea-455b-9e72-4ca8f0257512",
      "metadata": {
        "colab": {
          "base_uri": "https://localhost:8080/"
        },
        "id": "db77c0ab-72ea-455b-9e72-4ca8f0257512",
        "outputId": "591b531a-c238-46f1-9667-83d32285e6e0"
      },
      "outputs": [
        {
          "output_type": "stream",
          "name": "stdout",
          "text": [
            "Percentage of rows with SpO2 = 0: 0.00%\n",
            "Percentage of rows with SaO2 = 0: 0.00%\n"
          ]
        }
      ],
      "source": [
        "# Calculate the percentage of rows with a value of 0 for SpO2 and SaO2\n",
        "spO2_zero_percentage = (df_final_clean['SpO2'] == 0).mean() * 100\n",
        "saO2_zero_percentage = (df_final_clean['SaO2'] == 0).mean() * 100\n",
        "\n",
        "print(f\"Percentage of rows with SpO2 = 0: {spO2_zero_percentage:.2f}%\")\n",
        "print(f\"Percentage of rows with SaO2 = 0: {saO2_zero_percentage:.2f}%\")"
      ]
    },
    {
      "cell_type": "code",
      "execution_count": 46,
      "id": "3058a806",
      "metadata": {
        "colab": {
          "base_uri": "https://localhost:8080/",
          "height": 581
        },
        "id": "3058a806",
        "outputId": "04a9506b-ce16-449e-dee0-52efca4d6f9f"
      },
      "outputs": [
        {
          "output_type": "stream",
          "name": "stdout",
          "text": [
            "       race_ethnicity  count  percentage\n",
            "0               Asian    755    1.844658\n",
            "1               Black   4252   10.388722\n",
            "2  Hispanic OR Latino   1915    4.678834\n",
            "3               White  34007   83.087786\n"
          ]
        },
        {
          "output_type": "display_data",
          "data": {
            "text/plain": [
              "<Figure size 1200x800 with 1 Axes>"
            ],
            "image/png": "[encoded data removed]"
          },
          "metadata": {}
        }
      ],
      "source": [
        "# Group by race_ethnicity and count the number of patients with both measurements\n",
        "patients_with_both_pairs = df_final_clean.groupby('race_ethnicity').size().reset_index(name='count')\n",
        "\n",
        "# Calculate the percentage of patients with both measurements for each racial/ethnic group\n",
        "total_patients = len(df_final_clean)\n",
        "patients_with_both_pairs['percentage'] = (patients_with_both_pairs['count'] / total_patients) * 100\n",
        "\n",
        "# Display the results\n",
        "print(patients_with_both_pairs)\n",
        "\n",
        "\n",
        "plt.figure(figsize=(12, 8))\n",
        "sns.barplot(x='race_ethnicity', y='percentage', data=patients_with_both_pairs)\n",
        "plt.title('Percentage of Patients with Both SpO2 and SaO2 Measurements by Race/Ethnicity')\n",
        "plt.xlabel('Race/Ethnicity')\n",
        "plt.ylabel('Percentage of Patients')\n",
        "plt.show()\n"
      ]
    },
    {
      "cell_type": "markdown",
      "id": "4e1838ea-5c5b-4443-8d5c-369f0c43afa5",
      "metadata": {
        "id": "4e1838ea-5c5b-4443-8d5c-369f0c43afa5"
      },
      "source": [
        "Observation: Since there are no missing values in the SpO2 and SaO2 columns, the percentage distribution is primarily reflecting the demographic composition of the dataset. This analysis highlights the proportion of each racial/ethnic group that has complete SpO2 and SaO2 measurements, indicating that the dataset is predominantly composed of white patients.\n",
        "\n",
        "Interpretation:\n",
        "* Data Representation and Bias: The disproportionate representation of white patients in the dataset might affect the detection of hypoxemia in non-white patients. Since pulse oximeters are known to be less accurate for individuals with darker skin tones, this imbalance could lead to underestimation of hypoxemia in underrepresented groups.\n",
        "\n",
        "* Clinical Implications: If hypoxemia is not accurately detected due to demographic bias in the dataset, non-white patients might receive suboptimal care. Building models predicting hypoxemia with this dataset without a consideration of the distribution will create models biased towards the white population and will not detect many cases in black patients and other minority races. This analysis highlights the need for diverse datasets to ensure equitable healthcare and accurate hypoxemia detection across all racial/ethnic groups."
      ]
    },
    {
      "cell_type": "markdown",
      "id": "4053ee6a",
      "metadata": {
        "id": "4053ee6a"
      },
      "source": [
        "## Hidden Hypoxemia\n",
        "This brings us to the concept of hidden hypoxemia. Hidden hypoxemia occurs when patients exhibit low blood oxygen levels that are not detected by pulse oximetry. The accuracy issues and dataset imbalances can exacerbate this problem, particularly in non-white populations. In the next section, we will explore the prevalence of hidden hypoxemia across different racial and ethnic groups, highlighting the critical need for accurate and equitable diagnostic tools in clinical settings.\n",
        "\n",
        "\n",
        "* Identify hidden hypoxemia using both SpO2 and SaO2 measurements.\n",
        "* Compare the incidence of hidden hypoxemia across different demographic groups.\n",
        "* Highlight how the bias in SpO2 measurements can lead to hidden hypoxemia, particularly in certain demographic groups.\n",
        "\n",
        "Goal: To identify hidden hypoxemia (patients with normal SpO2 but low SaO2) and analyze its prevalence across different demographics. This step uncovers the hidden bias in SpO2 measurements and shows how certain groups are disproportionately affected.\n"
      ]
    },
    {
      "cell_type": "markdown",
      "id": "522eac11",
      "metadata": {
        "id": "522eac11"
      },
      "source": [
        "### Hidden Hypoxemia - SpO2 & SaO2"
      ]
    },
    {
      "cell_type": "code",
      "execution_count": 47,
      "id": "dcadab09",
      "metadata": {
        "colab": {
          "base_uri": "https://localhost:8080/"
        },
        "id": "dcadab09",
        "outputId": "7e61ea76-3b84-418b-ce6d-1672b73ddcc3"
      },
      "outputs": [
        {
          "output_type": "stream",
          "name": "stdout",
          "text": [
            "       race_ethnicity  hidden_hypoxemia_incidence\n",
            "0               Asian                    2.516556\n",
            "1               Black                    4.350894\n",
            "2  Hispanic OR Latino                    3.028721\n",
            "3               White                    3.358132\n"
          ]
        },
        {
          "output_type": "stream",
          "name": "stderr",
          "text": [
            "<ipython-input-47-161a5ff7466f>:2: SettingWithCopyWarning: \n",
            "A value is trying to be set on a copy of a slice from a DataFrame.\n",
            "Try using .loc[row_indexer,col_indexer] = value instead\n",
            "\n",
            "See the caveats in the documentation: https://pandas.pydata.org/pandas-docs/stable/user_guide/indexing.html#returning-a-view-versus-a-copy\n",
            "  df_final_clean['hidden_hypoxemia'] = df_final_clean.apply(lambda row: row['SpO2'] >= 88 and row['SaO2'] < 88, axis=1)\n"
          ]
        }
      ],
      "source": [
        "# Identify hidden hypoxemia (SpO2 >= 88% and SaO2 < 88%)\n",
        "df_final_clean['hidden_hypoxemia'] = df_final_clean.apply(lambda row: row['SpO2'] >= 88 and row['SaO2'] < 88, axis=1)\n",
        "\n",
        "# Incidence of hidden hypoxemia by race_ethnicity\n",
        "hidden_hypoxemia_by_race = df_final_clean.groupby('race_ethnicity')['hidden_hypoxemia'].mean().reset_index()\n",
        "hidden_hypoxemia_by_race.columns = ['race_ethnicity', 'hidden_hypoxemia_incidence']\n",
        "hidden_hypoxemia_by_race['hidden_hypoxemia_incidence'] *= 100\n",
        "\n",
        "print(hidden_hypoxemia_by_race)"
      ]
    },
    {
      "cell_type": "code",
      "execution_count": 48,
      "id": "2133315d",
      "metadata": {
        "colab": {
          "base_uri": "https://localhost:8080/",
          "height": 559
        },
        "id": "2133315d",
        "outputId": "86d5a466-b8a1-420b-f422-d4ac0d977f90"
      },
      "outputs": [
        {
          "output_type": "display_data",
          "data": {
            "text/plain": [
              "<Figure size 1200x800 with 1 Axes>"
            ],
            "image/png": "[encoded data removed]"
          },
          "metadata": {}
        }
      ],
      "source": [
        " # Visualization\n",
        "plt.figure(figsize=(12, 8))\n",
        "sns.barplot(x='race_ethnicity', y='hidden_hypoxemia_incidence', data=hidden_hypoxemia_by_race)\n",
        "plt.title('Hidden Hypoxemia Incidence by Race/Ethnicity')\n",
        "plt.xlabel('Race/Ethnicity')\n",
        "plt.ylabel('Hidden Hypoxemia Incidence (%)')\n",
        "plt.xticks(rotation = 45)\n",
        "\n",
        "plt.show()"
      ]
    },
    {
      "cell_type": "markdown",
      "id": "83e07335",
      "metadata": {
        "id": "83e07335"
      },
      "source": [
        "Observation: The higher incidence of hidden hypoxemia in Black patients further supports the notion of bias in SpO2 measurements. Pulse oximeters may be less accurate for individuals with darker skin, resulting in normal SpO2 readings despite low SaO2 levels. This can lead to missed diagnoses and delayed treatment for hypoxemia."
      ]
    },
    {
      "cell_type": "markdown",
      "id": "d436996f",
      "metadata": {
        "jp-MarkdownHeadingCollapsed": true,
        "id": "d436996f"
      },
      "source": [
        "### Conclusion:\n",
        "\n",
        "* Objective: To identify hidden hypoxemia by considering both SpO2 and SaO2 measurements and to compare its incidence across different racial/ethnic groups.\n",
        "* Findings: The analysis of hidden hypoxemia shows even more pronounced disparities, with Black patients having the highest incidence.\n",
        "* Implication: The high incidence of hidden hypoxemia in Black patients indicates that relying solely on SpO2 can miss cases of low blood oxygen levels, particularly in this group. This highlights the importance of considering SaO2 measurements to ensure accurate diagnosis and treatment.\n",
        "\n",
        "The analysis highlights the importance of considering both SpO2 and SaO2 measurements in clinical settings, especially for patients from racial/ethnic groups that may be more susceptible to inaccuracies in SpO2 readings."
      ]
    },
    {
      "cell_type": "markdown",
      "id": "be15b4f0-d655-4b61-bd1c-0a9f18f7f4b6",
      "metadata": {
        "id": "be15b4f0-d655-4b61-bd1c-0a9f18f7f4b6"
      },
      "source": [
        "# Part 2: Modeling"
      ]
    },
    {
      "cell_type": "markdown",
      "id": "3058fc5c-5d71-4c94-98f0-aad39b9dba93",
      "metadata": {
        "id": "3058fc5c-5d71-4c94-98f0-aad39b9dba93"
      },
      "source": [
        "## SpO2 modifications - exaggerating the bias\n",
        "This first step is important in the tutorial as it simulates the impact of a known bias in medical devices, specifically pulse oximeters, which often overestimate blood oxygen levels in Black patients. By artificially increasing SpO2 values for Black patients by 10%, we create a dataset that exaggerates this bias. This allows us to analyze how such inaccuracies affect downstream clinical predictions, such as mortality, and highlights the need for fair and accurate data in healthcare machine learning models.\n"
      ]
    },
    {
      "cell_type": "code",
      "execution_count": 76,
      "id": "7fe2eaaa-3b95-4785-b924-764582bcbdf5",
      "metadata": {
        "colab": {
          "base_uri": "https://localhost:8080/"
        },
        "id": "7fe2eaaa-3b95-4785-b924-764582bcbdf5",
        "outputId": "9541065f-a773-4c74-fdbc-98a34b81c14c"
      },
      "outputs": [
        {
          "output_type": "stream",
          "name": "stdout",
          "text": [
            "Baseline SpO2 Distribution:\n",
            "count    40929.000000\n",
            "mean        97.148525\n",
            "std          3.830732\n",
            "min         70.000000\n",
            "25%         96.000000\n",
            "50%         98.000000\n",
            "75%        100.000000\n",
            "max        100.000000\n",
            "Name: SpO2, dtype: float64\n"
          ]
        }
      ],
      "source": [
        "# Display the baseline distribution of SpO2\n",
        "print(\"Baseline SpO2 Distribution:\")\n",
        "print(df_final_clean['SpO2'].describe())"
      ]
    },
    {
      "cell_type": "code",
      "execution_count": 77,
      "id": "d9ad6638-8432-44b3-b558-37326425a9e9",
      "metadata": {
        "colab": {
          "base_uri": "https://localhost:8080/"
        },
        "id": "d9ad6638-8432-44b3-b558-37326425a9e9",
        "outputId": "32636b00-0c1c-44da-f8a2-db2bc95cd8fb"
      },
      "outputs": [
        {
          "output_type": "stream",
          "name": "stderr",
          "text": [
            "<ipython-input-77-8bee299355b1>:4: SettingWithCopyWarning: \n",
            "A value is trying to be set on a copy of a slice from a DataFrame.\n",
            "Try using .loc[row_indexer,col_indexer] = value instead\n",
            "\n",
            "See the caveats in the documentation: https://pandas.pydata.org/pandas-docs/stable/user_guide/indexing.html#returning-a-view-versus-a-copy\n",
            "  df_final_clean['SpO2_exaggerated'] = df_final_clean.apply(\n"
          ]
        }
      ],
      "source": [
        "# Add bias to Black patients' SpO2\n",
        "delta_to_add = 10\n",
        "\n",
        "df_final_clean['SpO2_exaggerated'] = df_final_clean.apply(\n",
        "    lambda row: min(row['SpO2'] + delta_to_add, 100) if row['race_ethnicity'] == 'Black' else row['SpO2'],\n",
        "    axis=1\n",
        ")"
      ]
    },
    {
      "cell_type": "code",
      "execution_count": 78,
      "id": "7710ab66-2e4c-4f82-bb26-f2b3ee5a754d",
      "metadata": {
        "colab": {
          "base_uri": "https://localhost:8080/"
        },
        "id": "7710ab66-2e4c-4f82-bb26-f2b3ee5a754d",
        "outputId": "1158ccb9-3bb5-4976-8e1c-24623a4f52a4"
      },
      "outputs": [
        {
          "output_type": "stream",
          "name": "stdout",
          "text": [
            "Before modification:\n",
            "count    4252.000000\n",
            "mean       97.709313\n",
            "std         3.876860\n",
            "min        70.000000\n",
            "25%        97.000000\n",
            "50%        99.000000\n",
            "75%       100.000000\n",
            "max       100.000000\n",
            "Name: SpO2, dtype: float64\n",
            "\n",
            "\n",
            "After modification:\n",
            "count    4252.000000\n",
            "mean       99.737300\n",
            "std         1.668728\n",
            "min        80.000000\n",
            "25%       100.000000\n",
            "50%       100.000000\n",
            "75%       100.000000\n",
            "max       100.000000\n",
            "Name: SpO2_exaggerated, dtype: float64\n"
          ]
        }
      ],
      "source": [
        "# Compare both distributions for Black patients before and after modification\n",
        "print(\"Before modification:\")\n",
        "print(df_final_clean.loc[df_final_clean['race_ethnicity'] == 'Black', 'SpO2'].describe())\n",
        "\n",
        "print (\"\\n\")\n",
        "print(\"After modification:\")\n",
        "print(df_final_clean.loc[df_final_clean['race_ethnicity'] == 'Black', 'SpO2_exaggerated'].describe())\n"
      ]
    },
    {
      "cell_type": "markdown",
      "id": "29a1b3bd-2284-4baf-a448-0b8f572daafe",
      "metadata": {
        "id": "29a1b3bd-2284-4baf-a448-0b8f572daafe"
      },
      "source": [
        "There is a 1% difference in the median which shows the impact of the introduced bias.\n",
        "N.B: The median is derived from the .describe() function, which provides various statistical summaries of the data, including the median (50% value)."
      ]
    },
    {
      "cell_type": "code",
      "execution_count": 79,
      "id": "5e28c6b5-832f-491c-bd58-27cbef68f5b3",
      "metadata": {
        "colab": {
          "base_uri": "https://localhost:8080/"
        },
        "id": "5e28c6b5-832f-491c-bd58-27cbef68f5b3",
        "outputId": "1f24d3a9-2fe9-4f15-b495-d9f7ab357937"
      },
      "outputs": [
        {
          "output_type": "execute_result",
          "data": {
            "text/plain": [
              "Index(['source_db', 'comorbidity_score_value', 'unique_subject_id',\n",
              "       'unique_hospital_admission_id', 'unique_icustay_id', 'subject_id',\n",
              "       'hospital_admission_id', 'icustay_id', 'hospitalid', 'admission_age',\n",
              "       'sex_female', 'race_ethnicity', 'BMI_admission', 'datetime_icu_admit',\n",
              "       'datetime_icu_discharge', 'los_ICU', 'los_hospital',\n",
              "       'sofa_past_overall_24hr', 'sofa_future_overall_24hr',\n",
              "       'vitals_heart_rate', 'vitals_mbp_i', 'vitals_mbp_ni', 'vitals_sbp_ni',\n",
              "       'vitals_sbp_i', 'vitals_resp_rate', 'vitals_tempc', 'vitals_dbp_ni',\n",
              "       'hfp_albumin', 'hfp_bilirubin_total', 'hfp_bilirubin_direct', 'bmp_bun',\n",
              "       'bmp_lactate', 'bmp_creatinine', 'bmp_glucose', 'bmp_potassium',\n",
              "       'bmp_sodium', 'cbc_hemoglobin', 'in_hospital_mortality', 'SpO2', 'SaO2',\n",
              "       'comorbidity_score_value', 'sex', 'age_group', 'hypoxemia_SpO2',\n",
              "       'hypoxemia_SaO2', 'hidden_hypoxemia', 'SpO2_exaggerated'],\n",
              "      dtype='object')"
            ]
          },
          "metadata": {},
          "execution_count": 79
        }
      ],
      "source": [
        "df_final_clean.columns"
      ]
    },
    {
      "cell_type": "markdown",
      "id": "f440a25d-0282-4422-ac9b-82584639c999",
      "metadata": {
        "id": "f440a25d-0282-4422-ac9b-82584639c999"
      },
      "source": [
        "## Train Test split"
      ]
    },
    {
      "cell_type": "code",
      "execution_count": 80,
      "id": "669d8e78-ef62-413e-bd33-5dd6c1043f48",
      "metadata": {
        "id": "669d8e78-ef62-413e-bd33-5dd6c1043f48"
      },
      "outputs": [],
      "source": [
        "from sklearn.model_selection import train_test_split\n",
        "\n",
        "data_train, data_test = train_test_split (df_final_clean, test_size = 0.2, random_state = 42)"
      ]
    },
    {
      "cell_type": "code",
      "execution_count": 81,
      "id": "7c05eec7-1787-414e-89d7-591426d9130a",
      "metadata": {
        "colab": {
          "base_uri": "https://localhost:8080/"
        },
        "id": "7c05eec7-1787-414e-89d7-591426d9130a",
        "outputId": "0ff27e95-4ecb-4463-fe23-678df669012a"
      },
      "outputs": [
        {
          "output_type": "stream",
          "name": "stdout",
          "text": [
            "Shape of the training data (32743, 47)\n",
            "Shape of the testing data (8186, 47)\n"
          ]
        }
      ],
      "source": [
        "print(\"Shape of the training data\", data_train.shape)\n",
        "print(\"Shape of the testing data\", data_test.shape)"
      ]
    },
    {
      "cell_type": "markdown",
      "id": "b60fc9ca-39c9-4517-8032-f1befc390e9d",
      "metadata": {
        "id": "b60fc9ca-39c9-4517-8032-f1befc390e9d"
      },
      "source": [
        "### Check balancing of the mortality outcome\n",
        "The goal of checking the mean of hospital_death in the overall dataset, training set, and test set is to ensure that the distribution of the target variable (in-hospital mortality) is balanced across these subsets. This helps to verify that the data splitting process did not introduce any bias, ensuring the model will be trained and evaluated on representative samples."
      ]
    },
    {
      "cell_type": "code",
      "execution_count": 82,
      "id": "f2373388-e01c-4797-8fbc-2fe97031a9b1",
      "metadata": {
        "colab": {
          "base_uri": "https://localhost:8080/"
        },
        "id": "f2373388-e01c-4797-8fbc-2fe97031a9b1",
        "outputId": "481a8002-c710-4d9a-ea93-d1b4668e4702"
      },
      "outputs": [
        {
          "output_type": "stream",
          "name": "stdout",
          "text": [
            "0.18194922915292336\n",
            "0.18025226766026325\n",
            "0.18873686782311264\n"
          ]
        }
      ],
      "source": [
        "print(df_final_clean.in_hospital_mortality.mean())\n",
        "print(data_train.in_hospital_mortality.mean())\n",
        "print(data_test.in_hospital_mortality.mean())"
      ]
    },
    {
      "cell_type": "markdown",
      "id": "8fbaae74-a52c-40eb-85ae-288735b0baed",
      "metadata": {
        "id": "8fbaae74-a52c-40eb-85ae-288735b0baed"
      },
      "source": [
        "They should not be too different as we need to ensure that the proportions of the target variable are similar across the overall dataset, training set, and test set helps in building a model that is more likely to generalize well and provides accurate performance metrics."
      ]
    },
    {
      "cell_type": "markdown",
      "id": "d7383e5f-4050-4e81-8f5b-1b926eff78e9",
      "metadata": {
        "id": "d7383e5f-4050-4e81-8f5b-1b926eff78e9"
      },
      "source": [
        "## Encoding\n",
        "\n",
        "Since the machine learning model in the background models and finds patterns in our data. It only supports numeric values. For this reason, categorical variables must be coded to numeric values.\n",
        "\n",
        "Categorical variables can be of 3 types:\n",
        "* Binary variables: Binary variables can be represented with two values, 1 and 0. Examples are whether or not the variable belongs to a group.\n",
        "* Ordinal variables: Ordinal variables are a type of variables that have a specific order and can be represented with numeric variables through a label encoder. An example is High, Medium, and Low which can be represented as 3, 2, 1.\n",
        "* Nominal variables: Nominal variables are categorical variables that do not have a defined order, for these variables it is not recommended to use a label encoder, it is better to use one hot encoder in these cases."
      ]
    },
    {
      "cell_type": "code",
      "execution_count": 83,
      "id": "42494eec-afbe-4d0c-9ce5-d48cd685171c",
      "metadata": {
        "colab": {
          "base_uri": "https://localhost:8080/"
        },
        "id": "42494eec-afbe-4d0c-9ce5-d48cd685171c",
        "outputId": "ce9e8308-f15a-4f71-c809-5a09263c3e20"
      },
      "outputs": [
        {
          "output_type": "execute_result",
          "data": {
            "text/plain": [
              "source_db                                             [eicu, mimic_iii, mimic_iv]\n",
              "comorbidity_score_value         [3.0, 9.0, 2.0, 4.0, 1.0, 8.0, 0.0, 5.0, 7.0, ...\n",
              "unique_subject_id               [0, 1, 2, 3, 4, 5, 6, 7, 8, 9, 10, 11, 12, 13,...\n",
              "unique_hospital_admission_id    [0, 1, 2, 3, 4, 5, 6, 7, 8, 9, 10, 11, 12, 13,...\n",
              "unique_icustay_id               [0, 1, 2, 3, 4, 5, 6, 7, 8, 9, 10, 11, 12, 13,...\n",
              "subject_id                      [002-10050, 002-1007, 002-10187, 002-10306, 00...\n",
              "hospital_admission_id           [183274, 178462, 150828, 198249, 188445, 14610...\n",
              "icustay_id                      [211144, 204935, 169525, 230427, 217835, 16341...\n",
              "hospitalid                      [71, 73, 63, 68, 59, 79, 92, 102, 84, 90, 93, ...\n",
              "admission_age                   [67.0, 83.0, 59.0, 73.0, 57.0, 63.0, 60.0, 43....\n",
              "sex_female                                                                 [1, 0]\n",
              "race_ethnicity                          [White, Asian, Black, Hispanic OR Latino]\n",
              "BMI_admission                   [33.67187499999999, 28.124127796036703, 28.027...\n",
              "datetime_icu_admit              [2014-01-01 00:00:00, 2133-12-28 20:36:09, 218...\n",
              "datetime_icu_discharge          [2014-01-04 20:19:00, 2014-01-01 12:03:00, 201...\n",
              "los_ICU                         [3.8333333333333335, 0.5, 2.0, 6.2916666666666...\n",
              "los_hospital                    [6.780555555555555, 2.6034722222222224, 3.0194...\n",
              "sofa_past_overall_24hr          [4.0, 3.0, 6.0, 8.0, 5.0, 7.0, 2.0, 14.0, 1.0,...\n",
              "sofa_future_overall_24hr        [5.0, 6.0, 1.0, 4.0, 7.0, 0.0, 8.0, 14.0, 9.0,...\n",
              "vitals_heart_rate               [83.0, 135.0, 74.0, 94.0, 68.0, 78.0, 85.0, 86...\n",
              "vitals_mbp_i                    [80.0, 77.0, 82.0, 68.0, 74.0, 76.0, 70.0, 79....\n",
              "vitals_mbp_ni                   [77.0, 73.0, 78.0, 85.0, 82.0, 111.0, 91.0, 74...\n",
              "vitals_sbp_ni                   [111.0, 99.0, 85.0, 140.0, 125.0, 133.0, 114.0...\n",
              "vitals_sbp_i                    [147.0, 114.0, 116.0, 101.0, 122.0, 102.0, 100...\n",
              "vitals_resp_rate                [23.0, 16.0, 15.0, 11.0, 8.0, 12.0, 20.0, 13.0...\n",
              "vitals_tempc                    [37.4, 36.6, 36.0, 36.4, 37.6, 36.9, 38.1, 37....\n",
              "vitals_dbp_ni                   [60.0, 65.0, 53.0, 52.0, 55.0, 69.0, 62.0, 57....\n",
              "hfp_albumin                     [3.1, 2.6, 2.5, 3.4, 3.9, 3.2, 3.0, 3.3, 1.7, ...\n",
              "hfp_bilirubin_total             [0.6, 0.3, 1.1, 0.7, 0.9, 0.5, 1.5, 1.8, 0.4, ...\n",
              "hfp_bilirubin_direct            [0.3, 0.2, 0.7, 0.1, 4.0, 0.4, 6.7, 2.6, 0.8, ...\n",
              "bmp_bun                         [21.0, 87.0, 16.0, 11.0, 10.0, 23.0, 47.0, 39....\n",
              "bmp_lactate                     [1.86, 1.9, 1.4, 0.6, 2.2, 2.9, 13.0, 1.3, 1.6...\n",
              "bmp_creatinine                  [1.06, 4.4, 0.45, 1.11, 0.8, 1.31, 1.44, 5.13,...\n",
              "bmp_glucose                     [133.0, 194.0, 135.0, 119.0, 136.0, 437.0, 111...\n",
              "bmp_potassium                   [3.1, 5.1, 3.3, 3.6, 4.1, 4.2, 3.8, 4.3, 5.5, ...\n",
              "bmp_sodium                      [139.0, 141.0, 145.0, 138.0, 132.0, 140.0, 144...\n",
              "cbc_hemoglobin                  [13.2, 9.4, 12.2, 11.4, 11.0, 10.5, 10.8, 12.8...\n",
              "in_hospital_mortality                                                  [0.0, 1.0]\n",
              "SpO2                            [97.0, 95.0, 96.0, 100.0, 98.0, 94.0, 84.0, 99...\n",
              "SaO2                            [94.0, 98.0, 99.0, 87.0, 95.0, 96.0, 93.0, 100...\n",
              "comorbidity_score_value         [3.0, 9.0, 2.0, 4.0, 1.0, 8.0, 0.0, 5.0, 7.0, ...\n",
              "sex                                                                        [F, M]\n",
              "age_group                       ['>=65', '<65']\n",
              "Categories (2, object): ['<65'...\n",
              "hypoxemia_SpO2                                                      [False, True]\n",
              "hypoxemia_SaO2                                                      [False, True]\n",
              "hidden_hypoxemia                                                    [False, True]\n",
              "SpO2_exaggerated                [97.0, 95.0, 96.0, 100.0, 98.0, 94.0, 84.0, 99...\n",
              "dtype: object"
            ]
          },
          "metadata": {},
          "execution_count": 83
        }
      ],
      "source": [
        "unique_values = df_final_clean.apply(lambda x: x.unique())\n",
        "unique_values"
      ]
    },
    {
      "cell_type": "markdown",
      "id": "3c7d8887-e43e-4ab5-a6f7-3312ed37930c",
      "metadata": {
        "id": "3c7d8887-e43e-4ab5-a6f7-3312ed37930c"
      },
      "source": [
        "## Normalization\n",
        "- Definition: Data normalization is an important step in machine learning because it helps to ensure that features are on similar scales, which can improve the performance of many machine learning algorithms.\n",
        "\n",
        "- Why?\n",
        "    * When features are not on similar scales, some algorithms may be more heavily influenced by certain features than others, which can lead to suboptimal performance. Additionally, some algorithms (such as those based on distance calculations) can be sensitive to differences in scale between features, which can lead to incorrect results.\n",
        "    * By normalizing the data, we can ensure that each feature contributes equally to the model, regardless of its scale. This can lead to better accuracy and more robust models.\n",
        "\n",
        "\n",
        "\n",
        "Note: Use the function to normalize the data. Remember to exclude information that does not contribute to the final model, such as identifiers."
      ]
    },
    {
      "cell_type": "code",
      "execution_count": 84,
      "id": "eef34f34-a342-48b8-9696-d319ec4efe51",
      "metadata": {
        "id": "eef34f34-a342-48b8-9696-d319ec4efe51"
      },
      "outputs": [],
      "source": [
        "from sklearn.preprocessing import MinMaxScaler\n",
        "\n",
        "def normalize_data (train_data, test_data = None, scaler = None, ignore_cols = []):\n",
        "    # Drop columns that should not be normalized (e.g., identifiers)\n",
        "    train_data_filtered = train_data.drop (ignore_cols, axis = 1)\n",
        "    if test_data is not None:\n",
        "        test_data_filtered = test_data.drop(ignore_cols, axis = 1)\n",
        "\n",
        "    # If no scaler is provided, initialize a MinMaxScaler\n",
        "    if not scaler:\n",
        "            scaler = MinMaxScaler() # MinMaxScaler scales each feature to a range [0, 1]\n",
        "            scaler.fit(train_data_filtered) # Fit the scaler on the training data to compute min and max values\n",
        "\n",
        "    # Transform the training data using the scaler\n",
        "    normalized_train = scaler.transform(train_data_filtered)\n",
        "    # Convert the normalized data back to a DataFrame with the same columns as train_data_filtered\n",
        "    normalized_train_df = pd.DataFrame (normalized_train, columns = train_data_filtered.columns)\n",
        "\n",
        "     # If test data is provided, transform it using the same scaler\n",
        "    if test_data is not None:\n",
        "        # Normalized the test data\n",
        "        normalized_test = scaler.transform(test_data_filtered)\n",
        "        normalized_test_df = pd.DataFrame(normalized_test, columns = test_data_filtered.columns)\n",
        "\n",
        "        # Return the normalized training and test data along with the scaler\n",
        "        return normalized_train_df, normalized_test_df, scaler\n",
        "    else:\n",
        "        # If no test data is provided, return only the normalized training data and the scaler\n",
        "        return normalized_train_df, scaler"
      ]
    },
    {
      "cell_type": "markdown",
      "id": "8f73ba15-ee82-4a77-bb83-a9ec89ee015c",
      "metadata": {
        "id": "8f73ba15-ee82-4a77-bb83-a9ec89ee015c"
      },
      "source": [
        "Note: Why Return the Scaler? Returning the scaler allows you to use the same scaler for any future data transformations, ensuring consistency. This is especially important if you need to apply the same scaling to new data or to reverse the scaling transformation.\n",
        "\n",
        "How to know what columns to include? You should exclude identifiers and categorical variables that are not intended to be scaled"
      ]
    },
    {
      "cell_type": "code",
      "execution_count": 85,
      "id": "4f46a09b-d1f2-4142-9ef8-405d0fc57dff",
      "metadata": {
        "id": "4f46a09b-d1f2-4142-9ef8-405d0fc57dff"
      },
      "outputs": [],
      "source": [
        "# Define the columns to ignore during normalization (identifiers and categorical variables)\n",
        "ignore_cols = [\n",
        "    'unique_subject_id', 'unique_hospital_admission_id', 'unique_icustay_id',\n",
        "    'subject_id', 'hospital_admission_id', 'icustay_id', 'hospitalid',\n",
        "    'source_db', 'sex_female', 'race_ethnicity', 'in_hospital_mortality', 'datetime_icu_discharge', 'datetime_icu_admit','sex',\n",
        "    'age_group', 'hypoxemia_SpO2', 'hypoxemia_SaO2' , 'hidden_hypoxemia'\n",
        "]"
      ]
    },
    {
      "cell_type": "code",
      "execution_count": 86,
      "id": "b3a45a84-bb43-493c-9e56-918d55081c4f",
      "metadata": {
        "id": "b3a45a84-bb43-493c-9e56-918d55081c4f"
      },
      "outputs": [],
      "source": [
        "# Call the normalize_data function our data\n",
        "normalized_train, normalized_test, scaler = normalize_data (data_train, data_test, ignore_cols = ignore_cols)"
      ]
    },
    {
      "cell_type": "code",
      "execution_count": 87,
      "id": "587ec9de-d188-40ce-9194-7ba1e477b8d7",
      "metadata": {
        "colab": {
          "base_uri": "https://localhost:8080/"
        },
        "id": "587ec9de-d188-40ce-9194-7ba1e477b8d7",
        "outputId": "8cb92dd4-9294-409f-c5e8-c6cd96ab5fa2"
      },
      "outputs": [
        {
          "output_type": "execute_result",
          "data": {
            "text/plain": [
              "Index(['comorbidity_score_value', 'admission_age', 'BMI_admission', 'los_ICU',\n",
              "       'los_hospital', 'sofa_past_overall_24hr', 'sofa_future_overall_24hr',\n",
              "       'vitals_heart_rate', 'vitals_mbp_i', 'vitals_mbp_ni', 'vitals_sbp_ni',\n",
              "       'vitals_sbp_i', 'vitals_resp_rate', 'vitals_tempc', 'vitals_dbp_ni',\n",
              "       'hfp_albumin', 'hfp_bilirubin_total', 'hfp_bilirubin_direct', 'bmp_bun',\n",
              "       'bmp_lactate', 'bmp_creatinine', 'bmp_glucose', 'bmp_potassium',\n",
              "       'bmp_sodium', 'cbc_hemoglobin', 'SpO2', 'SaO2',\n",
              "       'comorbidity_score_value', 'SpO2_exaggerated'],\n",
              "      dtype='object')"
            ]
          },
          "metadata": {},
          "execution_count": 87
        }
      ],
      "source": [
        "normalized_train.columns"
      ]
    },
    {
      "cell_type": "code",
      "execution_count": 88,
      "id": "8eafe48e-e381-4d40-bf8b-c00968fbe71c",
      "metadata": {
        "id": "8eafe48e-e381-4d40-bf8b-c00968fbe71c"
      },
      "outputs": [],
      "source": [
        "import matplotlib.pyplot as plt\n",
        "\n",
        "def plot_distributions(data, title):\n",
        "    plt.figure(figsize=(20, 15))\n",
        "    data.hist(bins=30, figsize=(20, 15), layout=(8, 6))\n",
        "    plt.suptitle(title, fontsize=20)\n",
        "    plt.show()\n",
        "\n",
        "# # Plot distributions for normalized train data\n",
        "# plot_distributions(normalized_train, \"Distribution of Variables in Normalized Train Data\")\n",
        "\n",
        "# # Plot distributions for normalized test data\n",
        "# plot_distributions(normalized_test, \"Distribution of Variables in Normalized Test Data\")"
      ]
    },
    {
      "cell_type": "code",
      "execution_count": 89,
      "id": "c4146a1c-99cf-45c7-a04c-b3271a590477",
      "metadata": {
        "id": "c4146a1c-99cf-45c7-a04c-b3271a590477"
      },
      "outputs": [],
      "source": [
        "# Selecting Ignored Columns\n",
        "ignored_columns_train = data_train[ignore_cols]\n",
        "ignored_columns_test = data_test[ignore_cols]"
      ]
    },
    {
      "cell_type": "code",
      "execution_count": 90,
      "id": "e35d27ed-64c7-48cd-8856-b29e57e24ee4",
      "metadata": {
        "id": "e35d27ed-64c7-48cd-8856-b29e57e24ee4"
      },
      "outputs": [],
      "source": [
        "# Merge the ignored columns with the normalized columns\n",
        "final_normalized_train = pd.concat([normalized_train, ignored_columns_train.reset_index(drop=True)], axis=1)\n",
        "final_normalized_test = pd.concat([normalized_test, ignored_columns_test.reset_index(drop=True)], axis=1)"
      ]
    },
    {
      "cell_type": "code",
      "execution_count": 91,
      "id": "cd2406cd-064b-4a22-beef-5c55a580ac3d",
      "metadata": {
        "colab": {
          "base_uri": "https://localhost:8080/"
        },
        "id": "cd2406cd-064b-4a22-beef-5c55a580ac3d",
        "outputId": "17346161-46d1-41ad-e404-8ddce3ddcdb7"
      },
      "outputs": [
        {
          "output_type": "execute_result",
          "data": {
            "text/plain": [
              "Index(['comorbidity_score_value', 'admission_age', 'BMI_admission', 'los_ICU',\n",
              "       'los_hospital', 'sofa_past_overall_24hr', 'sofa_future_overall_24hr',\n",
              "       'vitals_heart_rate', 'vitals_mbp_i', 'vitals_mbp_ni', 'vitals_sbp_ni',\n",
              "       'vitals_sbp_i', 'vitals_resp_rate', 'vitals_tempc', 'vitals_dbp_ni',\n",
              "       'hfp_albumin', 'hfp_bilirubin_total', 'hfp_bilirubin_direct', 'bmp_bun',\n",
              "       'bmp_lactate', 'bmp_creatinine', 'bmp_glucose', 'bmp_potassium',\n",
              "       'bmp_sodium', 'cbc_hemoglobin', 'SpO2', 'SaO2',\n",
              "       'comorbidity_score_value', 'SpO2_exaggerated', 'unique_subject_id',\n",
              "       'unique_hospital_admission_id', 'unique_icustay_id', 'subject_id',\n",
              "       'hospital_admission_id', 'icustay_id', 'hospitalid', 'source_db',\n",
              "       'sex_female', 'race_ethnicity', 'in_hospital_mortality',\n",
              "       'datetime_icu_discharge', 'datetime_icu_admit', 'sex', 'age_group',\n",
              "       'hypoxemia_SpO2', 'hypoxemia_SaO2', 'hidden_hypoxemia'],\n",
              "      dtype='object')"
            ]
          },
          "metadata": {},
          "execution_count": 91
        }
      ],
      "source": [
        "final_normalized_test.columns\n",
        "final_normalized_train.columns"
      ]
    },
    {
      "cell_type": "markdown",
      "id": "4a16e7d8-423d-4f22-aa10-d6b8ba6db529",
      "metadata": {
        "id": "4a16e7d8-423d-4f22-aa10-d6b8ba6db529"
      },
      "source": [
        "## Defining our X_train, y_train, X_test, y_test\n"
      ]
    },
    {
      "cell_type": "code",
      "execution_count": 92,
      "id": "cad8cd31-136a-451c-ae2a-0b13fe2a280e",
      "metadata": {
        "id": "cad8cd31-136a-451c-ae2a-0b13fe2a280e"
      },
      "outputs": [],
      "source": [
        "X_train = final_normalized_train[['admission_age', 'sex_female', 'sofa_past_overall_24hr', 'hidden_hypoxemia', 'SpO2', 'SaO2','SpO2_exaggerated']]"
      ]
    },
    {
      "cell_type": "code",
      "execution_count": 93,
      "id": "9d5991ac-fbf2-416a-a93c-37f8ef8851d3",
      "metadata": {
        "id": "9d5991ac-fbf2-416a-a93c-37f8ef8851d3"
      },
      "outputs": [],
      "source": [
        "X_test = final_normalized_test[['admission_age', 'sex_female', 'sofa_past_overall_24hr', 'hidden_hypoxemia', 'SpO2', 'SaO2','SpO2_exaggerated']]"
      ]
    },
    {
      "cell_type": "code",
      "execution_count": 94,
      "id": "dbe8c2db-27a4-4143-a208-8af56b0ff20b",
      "metadata": {
        "id": "dbe8c2db-27a4-4143-a208-8af56b0ff20b"
      },
      "outputs": [],
      "source": [
        "y_train = final_normalized_train['in_hospital_mortality']\n",
        "y_test = final_normalized_test['in_hospital_mortality']"
      ]
    },
    {
      "cell_type": "markdown",
      "id": "0f92fe25-5836-4140-8d2e-a63895e2380b",
      "metadata": {
        "id": "0f92fe25-5836-4140-8d2e-a63895e2380b"
      },
      "source": [
        "## Step 1: Understanding the influence of hidden hypoxemia on patient outcomes\n",
        "* Following the paper's approach, we are going to perform multivariate logistic regression to assess binary endpoints (e.g., in-hospital mortality) while adjusting for other covariates (e.g., age, sex, SOFA score), and to use analysis of variance to test for the impact of hidden hypoxemia.\n",
        "\n",
        "* Goal: Assess the impact of hidden hypoxemia by analyzing its effect on patient outcomes like in-hospital mortality."
      ]
    },
    {
      "cell_type": "code",
      "execution_count": 95,
      "id": "8323e33e-2802-41bf-b495-710467233d07",
      "metadata": {
        "colab": {
          "base_uri": "https://localhost:8080/"
        },
        "id": "8323e33e-2802-41bf-b495-710467233d07",
        "outputId": "4df785be-3903-4f0a-b853-936e0fc49ec7"
      },
      "outputs": [
        {
          "output_type": "stream",
          "name": "stdout",
          "text": [
            "Classification Report:\n",
            "              precision    recall  f1-score   support\n",
            "\n",
            "         0.0       0.82      1.00      0.90      6641\n",
            "         1.0       0.64      0.04      0.07      1545\n",
            "\n",
            "    accuracy                           0.81      8186\n",
            "   macro avg       0.73      0.52      0.48      8186\n",
            "weighted avg       0.78      0.81      0.74      8186\n",
            "\n",
            "Accuracy: 0.81\n",
            "AUC: 0.66\n"
          ]
        }
      ],
      "source": [
        "from sklearn.linear_model import LogisticRegression\n",
        "from sklearn.metrics import accuracy_score, classification_report, roc_auc_score\n",
        "\n",
        "# Define the features to include, excluding 'SpO2_exaggerated'\n",
        "features_to_include = [col for col in X_train.columns if col != 'SpO2_exaggerated']\n",
        "\n",
        "\n",
        "# Fit the logistic regression model\n",
        "model = LogisticRegression (max_iter = 1000)\n",
        "model.fit(X_train[features_to_include], y_train)\n",
        "\n",
        "# Predictions\n",
        "y_pred = model.predict(X_test[features_to_include])\n",
        "y_pred_proba = model.predict_proba(X_test[features_to_include]) [:,1]\n",
        "\n",
        "\n",
        "# Evaluate the model\n",
        "print(\"Classification Report:\")\n",
        "print (classification_report(y_test, y_pred))\n",
        "print(f\"Accuracy: {accuracy_score(y_test, y_pred):.2f}\")\n",
        "\n",
        "# Area under the Curve (AUC)\n",
        "auc = roc_auc_score(y_test, y_pred_proba)\n",
        "print(f\"AUC: {auc:.2f}\")"
      ]
    },
    {
      "cell_type": "code",
      "execution_count": 96,
      "id": "a5db3438-2de3-46d8-ada0-6dd282c03888",
      "metadata": {
        "colab": {
          "base_uri": "https://localhost:8080/",
          "height": 394
        },
        "id": "a5db3438-2de3-46d8-ada0-6dd282c03888",
        "outputId": "525fb5bd-5b51-462e-b202-d4ba7463f019"
      },
      "outputs": [
        {
          "output_type": "display_data",
          "data": {
            "text/plain": [
              "<Figure size 1000x600 with 1 Axes>"
            ],
            "image/png": "[encoded data removed]"
          },
          "metadata": {}
        }
      ],
      "source": [
        "# Extract coefficients and their importance\n",
        "coefficients = model.coef_[0]\n",
        "importance = pd.DataFrame({'Feature': X_train[features_to_include].columns, 'Importance': coefficients})\n",
        "importance = importance.sort_values(by='Importance', ascending=False)\n",
        "\n",
        "# Plotting\n",
        "plt.figure(figsize=(10, 6))\n",
        "sns.barplot(x='Importance', y='Feature', data=importance)\n",
        "plt.title('Feature Importance in Logistic Regression')\n",
        "plt.show()"
      ]
    },
    {
      "cell_type": "markdown",
      "id": "99da046d-1f06-4f0f-b14c-782edace2883",
      "metadata": {
        "id": "99da046d-1f06-4f0f-b14c-782edace2883"
      },
      "source": [
        "TO DO later to further show the influence of hidden hypoxemia on patients outcomes add multivariate ordinal regression for numerical end points (eg, CVSOFA and RSOFA scores) and multivariate linear models for continuous end points (eg, creatinine lactate levels)."
      ]
    },
    {
      "cell_type": "markdown",
      "id": "7324b699-a6b3-4b76-9422-07d0fdf1e121",
      "metadata": {
        "id": "7324b699-a6b3-4b76-9422-07d0fdf1e121"
      },
      "source": [
        "The feature importance plot for the logistic regression model indicates that \"sofa_past_overall_24hr\" is the most influential feature for predicting in-hospital mortality, followed by \"admission_age\" and \"hidden_hypoxemia\". This suggests that these factors have a significant impact on the model's predictions. Notably, \"SpO2\" has a negative importance value, indicating it may negatively contribute to the prediction of in-hospital mortality in the presence of other covariates. \"SaO2\" has less impact than \"hidden_hypoxemia\", reinforcing the importance of including variables that accurately reflect the patient's oxygenation status and considering potential biases in the data."
      ]
    },
    {
      "cell_type": "markdown",
      "id": "9d90f506-dbd7-4c2b-9fef-20945b45ccbe",
      "metadata": {
        "id": "9d90f506-dbd7-4c2b-9fef-20945b45ccbe"
      },
      "source": [
        "## Step 2: Predicting In Hospital Mortality using different features in the dataset\n",
        "Goal: Compare the performance of different models that include various combinations of features (SpO2, Sp02_exaggerated, SaO2, hidden hypoxemia) in predicting in-hospital mortality across different patient races. This step demonstrates how including or excluding certain features impacts model accuracy, fairness, and overall predictive performance, emphasizing the need for careful feature selection in clinical predictions."
      ]
    },
    {
      "cell_type": "code",
      "execution_count": 97,
      "id": "a0854d94-7e71-4217-91a1-78e0793c673e",
      "metadata": {
        "id": "a0854d94-7e71-4217-91a1-78e0793c673e"
      },
      "outputs": [],
      "source": [
        "from sklearn.metrics import roc_auc_score\n",
        "\n",
        "# Helper function to train and evaluate models\n",
        "def train_model (X_train, X_test, y_train, features):\n",
        "    # Create an instance of Logistic Regression model with a maximum of 1000 iterations for convergence\n",
        "    model = LogisticRegression(max_iter=1000)\n",
        "\n",
        "    # Fit the model on the training data using the specified features\n",
        "    model.fit(X_train[features], y_train)\n",
        "\n",
        "    # Predict the target values for the test data\n",
        "    y_pred = model.predict(X_test[features])\n",
        "\n",
        "    # Predict the probabilities of the positive class for the test data\n",
        "    y_pred_proba = model.predict_proba(X_test[features])[:, 1]\n",
        "\n",
        "    # Return the trained model, predictions, predicted probabilities\n",
        "    return model, y_pred, y_pred_proba\n"
      ]
    },
    {
      "cell_type": "code",
      "execution_count": 98,
      "id": "5f7913be-7c36-4585-908c-8f7299a44f66",
      "metadata": {
        "id": "5f7913be-7c36-4585-908c-8f7299a44f66"
      },
      "outputs": [],
      "source": [
        "# Define feature sets for each model\n",
        "features_sao2 = ['admission_age', 'sex_female', 'sofa_past_overall_24hr', 'SaO2']\n",
        "features_spo2 = ['admission_age', 'sex_female', 'sofa_past_overall_24hr', 'SpO2']\n",
        "features_all = ['admission_age', 'sex_female', 'sofa_past_overall_24hr', 'hidden_hypoxemia', 'SpO2', 'SaO2']\n",
        "features_exaggerated_spo2 = ['admission_age', 'sex_female', 'sofa_past_overall_24hr', 'SpO2_exaggerated']\n",
        "\n",
        "\n",
        "# Train each model\n",
        "model_sao2, y_pred_sao2, y_pred_proba_sao2 = train_model(X_train, X_test, y_train, features_sao2)\n",
        "model_spo2, y_pred_spo2, y_pred_proba_spo2 = train_model(X_train, X_test, y_train, features_spo2)\n",
        "model_all, y_pred_all, y_pred_proba_all = train_model(X_train, X_test, y_train, features_all)\n",
        "model_exaggerated_spo2, y_pred_exaggerated_spo2, y_pred_proba_exaggerated_spo2 = train_model(X_train, X_test, y_train,features_exaggerated_spo2)"
      ]
    },
    {
      "cell_type": "code",
      "execution_count": 99,
      "id": "76a5f110-3a9d-4d60-8878-b11e016ecaae",
      "metadata": {
        "id": "76a5f110-3a9d-4d60-8878-b11e016ecaae"
      },
      "outputs": [],
      "source": [
        "from sklearn.metrics import roc_auc_score, accuracy_score, classification_report\n",
        "\n",
        "# Evaluate across races\n",
        "def evaluate_across_races(X_test, y_test, y_pred, y_pred_proba, data_test, model, features):\n",
        "    \"\"\"\n",
        "    Evaluate model performance across different race/ethnicity groups.\n",
        "\n",
        "    This function evaluates the performance of a trained machine learning model across\n",
        "    different race/ethnicity groups in the test dataset. It generates classification reports,\n",
        "    calculates accuracy and AUC scores, and identifies feature importance for each group.\n",
        "\n",
        "    Parameters:\n",
        "    X_test (array-like): Test features.\n",
        "    y_test (array-like): True labels for the test set.\n",
        "    y_pred (array-like): Predicted labels for the test set.\n",
        "    y_pred_proba (array-like): Predicted probabilities for the positive class.\n",
        "    data_test (DataFrame): Test dataset containing the race/ethnicity information.\n",
        "    model (sklearn model): Trained machine learning model.\n",
        "    features (list): List of feature names.\n",
        "\n",
        "    Returns:\n",
        "    group_reports (dict): Dictionary containing classification reports, accuracy, and AUC scores for each race/ethnicity group.\n",
        "    feature_importance_dict (dict): Dictionary containing feature importance for each race/ethnicity group.\n",
        "    \"\"\"\n",
        "\n",
        "    # Create a DataFrame for evaluation using the test features\n",
        "    evaluation_df = pd.DataFrame(X_test, columns=features)\n",
        "\n",
        "    # Add the actual test labels to the DataFrame\n",
        "    evaluation_df['y_test'] = y_test.values\n",
        "\n",
        "    # Add the predicted labels to the DataFrame\n",
        "    evaluation_df['y_pred'] = y_pred\n",
        "\n",
        "    # Add the predicted probabilities to the DataFrame\n",
        "    evaluation_df['y_pred_proba'] = y_pred_proba\n",
        "\n",
        "    # Add the race/ethnicity information to the DataFrame\n",
        "    evaluation_df['race_ethnicity'] = data_test['race_ethnicity'].values\n",
        "\n",
        "    # Initialize dictionaries to store reports and feature importances for each race group\n",
        "    group_reports = {}\n",
        "    feature_importance_dict = {}\n",
        "\n",
        "    # Loop through each unique race/ethnicity group in the evaluation DataFrame\n",
        "    for group in evaluation_df['race_ethnicity'].unique():\n",
        "        # Filter the data for the current race/ethnicity group\n",
        "        group_data = evaluation_df[evaluation_df['race_ethnicity'] == group]\n",
        "\n",
        "        # Extract the actual labels for the current group\n",
        "        y_test_group = group_data['y_test']\n",
        "\n",
        "        # Extract the predicted labels for the current group\n",
        "        y_pred_group = group_data['y_pred']\n",
        "\n",
        "        # Extract the predicted probabilities for the current group\n",
        "        y_pred_proba_group = group_data['y_pred_proba']\n",
        "\n",
        "        # Generate a classification report for the current group\n",
        "        report = classification_report(y_test_group, y_pred_group, output_dict=True)\n",
        "\n",
        "        # Calculate the accuracy for the current group\n",
        "        accuracy = accuracy_score(y_test_group, y_pred_group)\n",
        "\n",
        "        # Calculate the AUC score for the current group\n",
        "        auc = roc_auc_score(y_test_group, y_pred_proba_group)\n",
        "\n",
        "        # Add accuracy and AUC score to the report\n",
        "        report['accuracy'] = accuracy\n",
        "        report['auc'] = auc\n",
        "\n",
        "        # Calculate feature importance for the current group\n",
        "        feature_importance = pd.DataFrame({\n",
        "            'Feature': features,\n",
        "            'Importance': model.coef_[0][:len(features)]\n",
        "        }).sort_values(by='Importance', ascending=False)\n",
        "\n",
        "        # Store the report and feature importance for the current group\n",
        "        group_reports[group] = report\n",
        "        feature_importance_dict[group] = feature_importance\n",
        "\n",
        "    # Return the dictionaries containing the reports and feature importances for all groups\n",
        "    return group_reports, feature_importance_dict\n"
      ]
    },
    {
      "cell_type": "code",
      "execution_count": 100,
      "id": "a7f30889-7bc6-4d15-b53c-93c9bc8cbe5b",
      "metadata": {
        "id": "a7f30889-7bc6-4d15-b53c-93c9bc8cbe5b"
      },
      "outputs": [],
      "source": [
        "# Evaluate across races for each model\n",
        "group_reports_sao2, importance_sao2_race = evaluate_across_races(X_test, y_test, y_pred_sao2, y_pred_proba_sao2, data_test, model_sao2, features_sao2)\n",
        "group_reports_spo2, importance_spo2_race = evaluate_across_races(X_test, y_test, y_pred_spo2, y_pred_proba_spo2, data_test, model_spo2, features_spo2)\n",
        "group_reports_exaggerated_spo2, importance_exaggerated_spo2_race = evaluate_across_races(X_test, y_test, y_pred_exaggerated_spo2, y_pred_proba_exaggerated_spo2, data_test, model_exaggerated_spo2, features_exaggerated_spo2)\n",
        "group_reports_all, importance_all_race = evaluate_across_races(X_test, y_test, y_pred_all, y_pred_proba_all, data_test, model_all, features_all)\n"
      ]
    },
    {
      "cell_type": "code",
      "execution_count": 101,
      "id": "57457669-18af-4e63-a027-62bdb888ceee",
      "metadata": {
        "id": "57457669-18af-4e63-a027-62bdb888ceee"
      },
      "outputs": [],
      "source": [
        "# Function to extract and format results for display\n",
        "def format_group_reports(group_reports, model_name):\n",
        "    \"\"\"\n",
        "    This function takes the classification reports for different race groups and formats them into a list of dictionaries\n",
        "    for easier display and analysis.\n",
        "\n",
        "    Parameters:\n",
        "    - group_reports: A dictionary where the keys are race groups and the values are classification reports.\n",
        "    - model_name: The name of the model being evaluated, used to label the results.\n",
        "\n",
        "    Returns:\n",
        "    - data: A list of dictionaries, where each dictionary contains the performance metrics for a specific race group.\n",
        "    \"\"\"\n",
        "\n",
        "    # Initialize an empty list to store the formatted results\n",
        "    data = []\n",
        "\n",
        "    # Iterate over each race group and its corresponding report in the group_reports dictionary\n",
        "    for race, report in group_reports.items():\n",
        "\n",
        "        # Append a dictionary to the data list with the performance metrics for the current race group\n",
        "        data.append({\n",
        "            \"Race\": race,  # The race group\n",
        "            \"Model\": model_name,  # The name of the model\n",
        "            \"Weighted Precision\": report['weighted avg']['precision'],  # Weighted precision for the race group\n",
        "            \"Weighted Recall\": report['weighted avg']['recall'],  # Weighted recall for the race group\n",
        "            \"Weighted F1-Score\": report['weighted avg']['f1-score'],  # Weighted F1-score for the race group\n",
        "            \"Accuracy\": report['accuracy'],  # Accuracy for the race group\n",
        "            \"AUC\": report['auc']  # Area Under the ROC Curve (AUC) for the race group\n",
        "        })\n",
        "\n",
        "    # Return the formatted data list\n",
        "    return data\n"
      ]
    },
    {
      "cell_type": "code",
      "execution_count": 102,
      "id": "8605c2e0-6c9e-4dfb-a6a7-db31fba21a75",
      "metadata": {
        "colab": {
          "base_uri": "https://localhost:8080/",
          "height": 707
        },
        "id": "8605c2e0-6c9e-4dfb-a6a7-db31fba21a75",
        "outputId": "b820ba1b-dd78-4931-948c-0e4a7613ebeb"
      },
      "outputs": [
        {
          "output_type": "display_data",
          "data": {
            "text/plain": [
              "<pandas.io.formats.style.Styler at 0x7b1d88183730>"
            ],
            "text/html": [
              "<style type=\"text/css\">\n",
              "#T_fb15a_row0_col2, #T_fb15a_row5_col2 {\n",
              "  background-color: #197db7;\n",
              "  color: #f1f1f1;\n",
              "}\n",
              "#T_fb15a_row0_col3, #T_fb15a_row0_col5 {\n",
              "  background-color: #034c78;\n",
              "  color: #f1f1f1;\n",
              "}\n",
              "#T_fb15a_row0_col4 {\n",
              "  background-color: #046198;\n",
              "  color: #f1f1f1;\n",
              "}\n",
              "#T_fb15a_row0_col6 {\n",
              "  background-color: #e1dfed;\n",
              "  color: #000000;\n",
              "}\n",
              "#T_fb15a_row1_col2, #T_fb15a_row4_col3, #T_fb15a_row4_col5, #T_fb15a_row6_col4, #T_fb15a_row10_col4, #T_fb15a_row14_col4, #T_fb15a_row14_col6 {\n",
              "  background-color: #023858;\n",
              "  color: #f1f1f1;\n",
              "}\n",
              "#T_fb15a_row1_col3, #T_fb15a_row1_col5 {\n",
              "  background-color: #045a8d;\n",
              "  color: #f1f1f1;\n",
              "}\n",
              "#T_fb15a_row1_col4 {\n",
              "  background-color: #167bb6;\n",
              "  color: #f1f1f1;\n",
              "}\n",
              "#T_fb15a_row1_col6 {\n",
              "  background-color: #0567a2;\n",
              "  color: #f1f1f1;\n",
              "}\n",
              "#T_fb15a_row2_col2 {\n",
              "  background-color: #1e80b8;\n",
              "  color: #f1f1f1;\n",
              "}\n",
              "#T_fb15a_row2_col3, #T_fb15a_row2_col5 {\n",
              "  background-color: #4094c3;\n",
              "  color: #f1f1f1;\n",
              "}\n",
              "#T_fb15a_row2_col4 {\n",
              "  background-color: #529bc7;\n",
              "  color: #f1f1f1;\n",
              "}\n",
              "#T_fb15a_row2_col6, #T_fb15a_row12_col6 {\n",
              "  background-color: #88b1d4;\n",
              "  color: #000000;\n",
              "}\n",
              "#T_fb15a_row3_col2, #T_fb15a_row3_col3, #T_fb15a_row3_col4, #T_fb15a_row3_col5, #T_fb15a_row3_col6 {\n",
              "  background-color: #fff7fb;\n",
              "  color: #000000;\n",
              "}\n",
              "#T_fb15a_row4_col2 {\n",
              "  background-color: #056ba9;\n",
              "  color: #f1f1f1;\n",
              "}\n",
              "#T_fb15a_row4_col4 {\n",
              "  background-color: #023d60;\n",
              "  color: #f1f1f1;\n",
              "}\n",
              "#T_fb15a_row4_col6 {\n",
              "  background-color: #97b7d7;\n",
              "  color: #000000;\n",
              "}\n",
              "#T_fb15a_row5_col3, #T_fb15a_row5_col5 {\n",
              "  background-color: #03517e;\n",
              "  color: #f1f1f1;\n",
              "}\n",
              "#T_fb15a_row5_col4 {\n",
              "  background-color: #045585;\n",
              "  color: #f1f1f1;\n",
              "}\n",
              "#T_fb15a_row5_col6 {\n",
              "  background-color: #045382;\n",
              "  color: #f1f1f1;\n",
              "}\n",
              "#T_fb15a_row6_col2, #T_fb15a_row10_col2, #T_fb15a_row14_col2 {\n",
              "  background-color: #04588a;\n",
              "  color: #f1f1f1;\n",
              "}\n",
              "#T_fb15a_row6_col3, #T_fb15a_row6_col5, #T_fb15a_row10_col3, #T_fb15a_row10_col5, #T_fb15a_row14_col3, #T_fb15a_row14_col5 {\n",
              "  background-color: #045483;\n",
              "  color: #f1f1f1;\n",
              "}\n",
              "#T_fb15a_row6_col6 {\n",
              "  background-color: #03476f;\n",
              "  color: #f1f1f1;\n",
              "}\n",
              "#T_fb15a_row7_col2, #T_fb15a_row11_col2, #T_fb15a_row15_col2 {\n",
              "  background-color: #79abd0;\n",
              "  color: #f1f1f1;\n",
              "}\n",
              "#T_fb15a_row7_col3, #T_fb15a_row7_col5, #T_fb15a_row11_col3, #T_fb15a_row11_col5, #T_fb15a_row15_col3, #T_fb15a_row15_col5 {\n",
              "  background-color: #d9d8ea;\n",
              "  color: #000000;\n",
              "}\n",
              "#T_fb15a_row7_col4, #T_fb15a_row11_col4, #T_fb15a_row15_col4 {\n",
              "  background-color: #b7c5df;\n",
              "  color: #000000;\n",
              "}\n",
              "#T_fb15a_row7_col6 {\n",
              "  background-color: #91b5d6;\n",
              "  color: #000000;\n",
              "}\n",
              "#T_fb15a_row8_col2 {\n",
              "  background-color: #056caa;\n",
              "  color: #f1f1f1;\n",
              "}\n",
              "#T_fb15a_row8_col3, #T_fb15a_row8_col5 {\n",
              "  background-color: #023a5b;\n",
              "  color: #f1f1f1;\n",
              "}\n",
              "#T_fb15a_row8_col4 {\n",
              "  background-color: #034267;\n",
              "  color: #f1f1f1;\n",
              "}\n",
              "#T_fb15a_row8_col6 {\n",
              "  background-color: #99b8d8;\n",
              "  color: #000000;\n",
              "}\n",
              "#T_fb15a_row9_col2 {\n",
              "  background-color: #e6e2ef;\n",
              "  color: #000000;\n",
              "}\n",
              "#T_fb15a_row9_col3, #T_fb15a_row9_col5, #T_fb15a_row13_col3, #T_fb15a_row13_col5 {\n",
              "  background-color: #0567a1;\n",
              "  color: #f1f1f1;\n",
              "}\n",
              "#T_fb15a_row9_col4 {\n",
              "  background-color: #308cbe;\n",
              "  color: #f1f1f1;\n",
              "}\n",
              "#T_fb15a_row9_col6 {\n",
              "  background-color: #0566a0;\n",
              "  color: #f1f1f1;\n",
              "}\n",
              "#T_fb15a_row10_col6 {\n",
              "  background-color: #034d79;\n",
              "  color: #f1f1f1;\n",
              "}\n",
              "#T_fb15a_row11_col6 {\n",
              "  background-color: #9cb9d9;\n",
              "  color: #000000;\n",
              "}\n",
              "#T_fb15a_row12_col2 {\n",
              "  background-color: #1077b4;\n",
              "  color: #f1f1f1;\n",
              "}\n",
              "#T_fb15a_row12_col3, #T_fb15a_row12_col5 {\n",
              "  background-color: #034165;\n",
              "  color: #f1f1f1;\n",
              "}\n",
              "#T_fb15a_row12_col4 {\n",
              "  background-color: #03466e;\n",
              "  color: #f1f1f1;\n",
              "}\n",
              "#T_fb15a_row13_col2 {\n",
              "  background-color: #5a9ec9;\n",
              "  color: #f1f1f1;\n",
              "}\n",
              "#T_fb15a_row13_col4 {\n",
              "  background-color: #045e94;\n",
              "  color: #f1f1f1;\n",
              "}\n",
              "#T_fb15a_row13_col6 {\n",
              "  background-color: #045b8e;\n",
              "  color: #f1f1f1;\n",
              "}\n",
              "#T_fb15a_row15_col6 {\n",
              "  background-color: #c0c9e2;\n",
              "  color: #000000;\n",
              "}\n",
              "</style>\n",
              "<table id=\"T_fb15a\" class=\"dataframe\">\n",
              "  <caption>Model Performance Across Races</caption>\n",
              "  <thead>\n",
              "    <tr>\n",
              "      <th class=\"blank level0\" >&nbsp;</th>\n",
              "      <th id=\"T_fb15a_level0_col0\" class=\"col_heading level0 col0\" >Race</th>\n",
              "      <th id=\"T_fb15a_level0_col1\" class=\"col_heading level0 col1\" >Model</th>\n",
              "      <th id=\"T_fb15a_level0_col2\" class=\"col_heading level0 col2\" >Weighted Precision</th>\n",
              "      <th id=\"T_fb15a_level0_col3\" class=\"col_heading level0 col3\" >Weighted Recall</th>\n",
              "      <th id=\"T_fb15a_level0_col4\" class=\"col_heading level0 col4\" >Weighted F1-Score</th>\n",
              "      <th id=\"T_fb15a_level0_col5\" class=\"col_heading level0 col5\" >Accuracy</th>\n",
              "      <th id=\"T_fb15a_level0_col6\" class=\"col_heading level0 col6\" >AUC</th>\n",
              "    </tr>\n",
              "  </thead>\n",
              "  <tbody>\n",
              "    <tr>\n",
              "      <th id=\"T_fb15a_level0_row0\" class=\"row_heading level0 row0\" >0</th>\n",
              "      <td id=\"T_fb15a_row0_col0\" class=\"data row0 col0\" >White</td>\n",
              "      <td id=\"T_fb15a_row0_col1\" class=\"data row0 col1\" >SaO2</td>\n",
              "      <td id=\"T_fb15a_row0_col2\" class=\"data row0 col2\" >0.779300</td>\n",
              "      <td id=\"T_fb15a_row0_col3\" class=\"data row0 col3\" >0.813827</td>\n",
              "      <td id=\"T_fb15a_row0_col4\" class=\"data row0 col4\" >0.735745</td>\n",
              "      <td id=\"T_fb15a_row0_col5\" class=\"data row0 col5\" >0.813827</td>\n",
              "      <td id=\"T_fb15a_row0_col6\" class=\"data row0 col6\" >0.637998</td>\n",
              "    </tr>\n",
              "    <tr>\n",
              "      <th id=\"T_fb15a_level0_row1\" class=\"row_heading level0 row1\" >1</th>\n",
              "      <td id=\"T_fb15a_row1_col0\" class=\"data row1 col0\" >Black</td>\n",
              "      <td id=\"T_fb15a_row1_col1\" class=\"data row1 col1\" >SaO2</td>\n",
              "      <td id=\"T_fb15a_row1_col2\" class=\"data row1 col2\" >0.847509</td>\n",
              "      <td id=\"T_fb15a_row1_col3\" class=\"data row1 col3\" >0.812195</td>\n",
              "      <td id=\"T_fb15a_row1_col4\" class=\"data row1 col4\" >0.729241</td>\n",
              "      <td id=\"T_fb15a_row1_col5\" class=\"data row1 col5\" >0.812195</td>\n",
              "      <td id=\"T_fb15a_row1_col6\" class=\"data row1 col6\" >0.674121</td>\n",
              "    </tr>\n",
              "    <tr>\n",
              "      <th id=\"T_fb15a_level0_row2\" class=\"row_heading level0 row2\" >2</th>\n",
              "      <td id=\"T_fb15a_row2_col0\" class=\"data row2 col0\" >Hispanic OR Latino</td>\n",
              "      <td id=\"T_fb15a_row2_col1\" class=\"data row2 col1\" >SaO2</td>\n",
              "      <td id=\"T_fb15a_row2_col2\" class=\"data row2 col2\" >0.776618</td>\n",
              "      <td id=\"T_fb15a_row2_col3\" class=\"data row2 col3\" >0.802993</td>\n",
              "      <td id=\"T_fb15a_row2_col4\" class=\"data row2 col4\" >0.722159</td>\n",
              "      <td id=\"T_fb15a_row2_col5\" class=\"data row2 col5\" >0.802993</td>\n",
              "      <td id=\"T_fb15a_row2_col6\" class=\"data row2 col6\" >0.654167</td>\n",
              "    </tr>\n",
              "    <tr>\n",
              "      <th id=\"T_fb15a_level0_row3\" class=\"row_heading level0 row3\" >3</th>\n",
              "      <td id=\"T_fb15a_row3_col0\" class=\"data row3 col0\" >Asian</td>\n",
              "      <td id=\"T_fb15a_row3_col1\" class=\"data row3 col1\" >SaO2</td>\n",
              "      <td id=\"T_fb15a_row3_col2\" class=\"data row3 col2\" >0.622659</td>\n",
              "      <td id=\"T_fb15a_row3_col3\" class=\"data row3 col3\" >0.782609</td>\n",
              "      <td id=\"T_fb15a_row3_col4\" class=\"data row3 col4\" >0.693531</td>\n",
              "      <td id=\"T_fb15a_row3_col5\" class=\"data row3 col5\" >0.782609</td>\n",
              "      <td id=\"T_fb15a_row3_col6\" class=\"data row3 col6\" >0.627966</td>\n",
              "    </tr>\n",
              "    <tr>\n",
              "      <th id=\"T_fb15a_level0_row4\" class=\"row_heading level0 row4\" >4</th>\n",
              "      <td id=\"T_fb15a_row4_col0\" class=\"data row4 col0\" >White</td>\n",
              "      <td id=\"T_fb15a_row4_col1\" class=\"data row4 col1\" >SpO2</td>\n",
              "      <td id=\"T_fb15a_row4_col2\" class=\"data row4 col2\" >0.796619</td>\n",
              "      <td id=\"T_fb15a_row4_col3\" class=\"data row4 col3\" >0.816464</td>\n",
              "      <td id=\"T_fb15a_row4_col4\" class=\"data row4 col4\" >0.742994</td>\n",
              "      <td id=\"T_fb15a_row4_col5\" class=\"data row4 col5\" >0.816464</td>\n",
              "      <td id=\"T_fb15a_row4_col6\" class=\"data row4 col6\" >0.651786</td>\n",
              "    </tr>\n",
              "    <tr>\n",
              "      <th id=\"T_fb15a_level0_row5\" class=\"row_heading level0 row5\" >5</th>\n",
              "      <td id=\"T_fb15a_row5_col0\" class=\"data row5 col0\" >Black</td>\n",
              "      <td id=\"T_fb15a_row5_col1\" class=\"data row5 col1\" >SpO2</td>\n",
              "      <td id=\"T_fb15a_row5_col2\" class=\"data row5 col2\" >0.779305</td>\n",
              "      <td id=\"T_fb15a_row5_col3\" class=\"data row5 col3\" >0.813415</td>\n",
              "      <td id=\"T_fb15a_row5_col4\" class=\"data row5 col4\" >0.738565</td>\n",
              "      <td id=\"T_fb15a_row5_col5\" class=\"data row5 col5\" >0.813415</td>\n",
              "      <td id=\"T_fb15a_row5_col6\" class=\"data row5 col6\" >0.680044</td>\n",
              "    </tr>\n",
              "    <tr>\n",
              "      <th id=\"T_fb15a_level0_row6\" class=\"row_heading level0 row6\" >6</th>\n",
              "      <td id=\"T_fb15a_row6_col0\" class=\"data row6 col0\" >Hispanic OR Latino</td>\n",
              "      <td id=\"T_fb15a_row6_col1\" class=\"data row6 col1\" >SpO2</td>\n",
              "      <td id=\"T_fb15a_row6_col2\" class=\"data row6 col2\" >0.821152</td>\n",
              "      <td id=\"T_fb15a_row6_col3\" class=\"data row6 col3\" >0.812968</td>\n",
              "      <td id=\"T_fb15a_row6_col4\" class=\"data row6 col4\" >0.744048</td>\n",
              "      <td id=\"T_fb15a_row6_col5\" class=\"data row6 col5\" >0.812968</td>\n",
              "      <td id=\"T_fb15a_row6_col6\" class=\"data row6 col6\" >0.682516</td>\n",
              "    </tr>\n",
              "    <tr>\n",
              "      <th id=\"T_fb15a_level0_row7\" class=\"row_heading level0 row7\" >7</th>\n",
              "      <td id=\"T_fb15a_row7_col0\" class=\"data row7 col0\" >Asian</td>\n",
              "      <td id=\"T_fb15a_row7_col1\" class=\"data row7 col1\" >SpO2</td>\n",
              "      <td id=\"T_fb15a_row7_col2\" class=\"data row7 col2\" >0.732310</td>\n",
              "      <td id=\"T_fb15a_row7_col3\" class=\"data row7 col3\" >0.789855</td>\n",
              "      <td id=\"T_fb15a_row7_col4\" class=\"data row7 col4\" >0.709920</td>\n",
              "      <td id=\"T_fb15a_row7_col5\" class=\"data row7 col5\" >0.789855</td>\n",
              "      <td id=\"T_fb15a_row7_col6\" class=\"data row7 col6\" >0.652642</td>\n",
              "    </tr>\n",
              "    <tr>\n",
              "      <th id=\"T_fb15a_level0_row8\" class=\"row_heading level0 row8\" >8</th>\n",
              "      <td id=\"T_fb15a_row8_col0\" class=\"data row8 col0\" >White</td>\n",
              "      <td id=\"T_fb15a_row8_col1\" class=\"data row8 col1\" >Exaggerated SpO2</td>\n",
              "      <td id=\"T_fb15a_row8_col2\" class=\"data row8 col2\" >0.795828</td>\n",
              "      <td id=\"T_fb15a_row8_col3\" class=\"data row8 col3\" >0.816171</td>\n",
              "      <td id=\"T_fb15a_row8_col4\" class=\"data row8 col4\" >0.742092</td>\n",
              "      <td id=\"T_fb15a_row8_col5\" class=\"data row8 col5\" >0.816171</td>\n",
              "      <td id=\"T_fb15a_row8_col6\" class=\"data row8 col6\" >0.651549</td>\n",
              "    </tr>\n",
              "    <tr>\n",
              "      <th id=\"T_fb15a_level0_row9\" class=\"row_heading level0 row9\" >9</th>\n",
              "      <td id=\"T_fb15a_row9_col0\" class=\"data row9 col0\" >Black</td>\n",
              "      <td id=\"T_fb15a_row9_col1\" class=\"data row9 col1\" >Exaggerated SpO2</td>\n",
              "      <td id=\"T_fb15a_row9_col2\" class=\"data row9 col2\" >0.657494</td>\n",
              "      <td id=\"T_fb15a_row9_col3\" class=\"data row9 col3\" >0.809756</td>\n",
              "      <td id=\"T_fb15a_row9_col4\" class=\"data row9 col4\" >0.725725</td>\n",
              "      <td id=\"T_fb15a_row9_col5\" class=\"data row9 col5\" >0.809756</td>\n",
              "      <td id=\"T_fb15a_row9_col6\" class=\"data row9 col6\" >0.674756</td>\n",
              "    </tr>\n",
              "    <tr>\n",
              "      <th id=\"T_fb15a_level0_row10\" class=\"row_heading level0 row10\" >10</th>\n",
              "      <td id=\"T_fb15a_row10_col0\" class=\"data row10 col0\" >Hispanic OR Latino</td>\n",
              "      <td id=\"T_fb15a_row10_col1\" class=\"data row10 col1\" >Exaggerated SpO2</td>\n",
              "      <td id=\"T_fb15a_row10_col2\" class=\"data row10 col2\" >0.821152</td>\n",
              "      <td id=\"T_fb15a_row10_col3\" class=\"data row10 col3\" >0.812968</td>\n",
              "      <td id=\"T_fb15a_row10_col4\" class=\"data row10 col4\" >0.744048</td>\n",
              "      <td id=\"T_fb15a_row10_col5\" class=\"data row10 col5\" >0.812968</td>\n",
              "      <td id=\"T_fb15a_row10_col6\" class=\"data row10 col6\" >0.681231</td>\n",
              "    </tr>\n",
              "    <tr>\n",
              "      <th id=\"T_fb15a_level0_row11\" class=\"row_heading level0 row11\" >11</th>\n",
              "      <td id=\"T_fb15a_row11_col0\" class=\"data row11 col0\" >Asian</td>\n",
              "      <td id=\"T_fb15a_row11_col1\" class=\"data row11 col1\" >Exaggerated SpO2</td>\n",
              "      <td id=\"T_fb15a_row11_col2\" class=\"data row11 col2\" >0.732310</td>\n",
              "      <td id=\"T_fb15a_row11_col3\" class=\"data row11 col3\" >0.789855</td>\n",
              "      <td id=\"T_fb15a_row11_col4\" class=\"data row11 col4\" >0.709920</td>\n",
              "      <td id=\"T_fb15a_row11_col5\" class=\"data row11 col5\" >0.789855</td>\n",
              "      <td id=\"T_fb15a_row11_col6\" class=\"data row11 col6\" >0.651060</td>\n",
              "    </tr>\n",
              "    <tr>\n",
              "      <th id=\"T_fb15a_level0_row12\" class=\"row_heading level0 row12\" >12</th>\n",
              "      <td id=\"T_fb15a_row12_col0\" class=\"data row12 col0\" >White</td>\n",
              "      <td id=\"T_fb15a_row12_col1\" class=\"data row12 col1\" >All Features</td>\n",
              "      <td id=\"T_fb15a_row12_col2\" class=\"data row12 col2\" >0.785100</td>\n",
              "      <td id=\"T_fb15a_row12_col3\" class=\"data row12 col3\" >0.815292</td>\n",
              "      <td id=\"T_fb15a_row12_col4\" class=\"data row12 col4\" >0.741353</td>\n",
              "      <td id=\"T_fb15a_row12_col5\" class=\"data row12 col5\" >0.815292</td>\n",
              "      <td id=\"T_fb15a_row12_col6\" class=\"data row12 col6\" >0.654160</td>\n",
              "    </tr>\n",
              "    <tr>\n",
              "      <th id=\"T_fb15a_level0_row13\" class=\"row_heading level0 row13\" >13</th>\n",
              "      <td id=\"T_fb15a_row13_col0\" class=\"data row13 col0\" >Black</td>\n",
              "      <td id=\"T_fb15a_row13_col1\" class=\"data row13 col1\" >All Features</td>\n",
              "      <td id=\"T_fb15a_row13_col2\" class=\"data row13 col2\" >0.746529</td>\n",
              "      <td id=\"T_fb15a_row13_col3\" class=\"data row13 col3\" >0.809756</td>\n",
              "      <td id=\"T_fb15a_row13_col4\" class=\"data row13 col4\" >0.736533</td>\n",
              "      <td id=\"T_fb15a_row13_col5\" class=\"data row13 col5\" >0.809756</td>\n",
              "      <td id=\"T_fb15a_row13_col6\" class=\"data row13 col6\" >0.678288</td>\n",
              "    </tr>\n",
              "    <tr>\n",
              "      <th id=\"T_fb15a_level0_row14\" class=\"row_heading level0 row14\" >14</th>\n",
              "      <td id=\"T_fb15a_row14_col0\" class=\"data row14 col0\" >Hispanic OR Latino</td>\n",
              "      <td id=\"T_fb15a_row14_col1\" class=\"data row14 col1\" >All Features</td>\n",
              "      <td id=\"T_fb15a_row14_col2\" class=\"data row14 col2\" >0.821152</td>\n",
              "      <td id=\"T_fb15a_row14_col3\" class=\"data row14 col3\" >0.812968</td>\n",
              "      <td id=\"T_fb15a_row14_col4\" class=\"data row14 col4\" >0.744048</td>\n",
              "      <td id=\"T_fb15a_row14_col5\" class=\"data row14 col5\" >0.812968</td>\n",
              "      <td id=\"T_fb15a_row14_col6\" class=\"data row14 col6\" >0.685884</td>\n",
              "    </tr>\n",
              "    <tr>\n",
              "      <th id=\"T_fb15a_level0_row15\" class=\"row_heading level0 row15\" >15</th>\n",
              "      <td id=\"T_fb15a_row15_col0\" class=\"data row15 col0\" >Asian</td>\n",
              "      <td id=\"T_fb15a_row15_col1\" class=\"data row15 col1\" >All Features</td>\n",
              "      <td id=\"T_fb15a_row15_col2\" class=\"data row15 col2\" >0.732310</td>\n",
              "      <td id=\"T_fb15a_row15_col3\" class=\"data row15 col3\" >0.789855</td>\n",
              "      <td id=\"T_fb15a_row15_col4\" class=\"data row15 col4\" >0.709920</td>\n",
              "      <td id=\"T_fb15a_row15_col5\" class=\"data row15 col5\" >0.789855</td>\n",
              "      <td id=\"T_fb15a_row15_col6\" class=\"data row15 col6\" >0.645365</td>\n",
              "    </tr>\n",
              "  </tbody>\n",
              "</table>\n"
            ]
          },
          "metadata": {}
        }
      ],
      "source": [
        "# Collect results for all models\n",
        "results_sao2 = format_group_reports(group_reports_sao2, \"SaO2\")\n",
        "results_spo2 = format_group_reports(group_reports_spo2, \"SpO2\")\n",
        "results_exaggerated_spo2 = format_group_reports(group_reports_exaggerated_spo2, \"Exaggerated SpO2\")\n",
        "results_all = format_group_reports(group_reports_all, \"All Features\")\n",
        "\n",
        "all_results = results_sao2 + results_spo2+ results_exaggerated_spo2 + results_all\n",
        "\n",
        "# Convert the combined list of results into a DataFrame for better visualization and analysis\n",
        "results_df = pd.DataFrame(all_results)\n",
        "\n",
        "# Display the results with styling\n",
        "# Set the caption for the DataFrame and apply a background gradient for better readability\n",
        "results_df_styled = results_df.style.set_caption(\"Model Performance Across Races\").background_gradient()\n",
        "\n",
        "# Display the styled DataFrame\n",
        "display(results_df_styled)"
      ]
    },
    {
      "cell_type": "markdown",
      "id": "b2a23e37-5569-4849-8094-ba6957e3348f",
      "metadata": {
        "id": "b2a23e37-5569-4849-8094-ba6957e3348f"
      },
      "source": [
        "Reminder:\n",
        "- Recall: This is critical in your context because it measures the ability of the model to identify all actual positive cases (e.g., patients who died). High recall ensures that the model doesn't miss many critical cases, which is essential in a healthcare setting.\n",
        "\n",
        "- Precision: While not as critical as recall, precision indicates the proportion of positive identifications that are actually correct. It helps in understanding the false positive rate.\n",
        "\n",
        "- F1-Score: This metric provides a balance between precision and recall. It's useful when you want a single metric that considers both false positives and false negatives.\n",
        "\n",
        "- Accuracy: While it gives an overall performance measure, it can be misleading in imbalanced datasets (e.g., more patients survive than die).\n",
        "\n",
        "- AUC (Area Under the Curve): This metric helps understand the model's ability to distinguish between positive and negative cases across various threshold settings. It’s useful for evaluating overall model performance.\n",
        "\n"
      ]
    },
    {
      "cell_type": "markdown",
      "id": "ed29997c-fb22-495f-a3ce-2465939515e1",
      "metadata": {
        "id": "ed29997c-fb22-495f-a3ce-2465939515e1"
      },
      "source": [
        "Observations on Model Performance Across Races:\n",
        "\n",
        "- SaO2 Model:\n",
        "    - Black patients have higher precision and recall compared to other races, suggesting better identification of true positives and fewer false negatives.\n",
        "    - Asian patients show lower performance metrics, indicating potential disparities in prediction accuracy.\n",
        "\n",
        "- SpO2 Model:\n",
        "    - Performance metrics are fairly consistent across races, but Black patients still show slightly higher precision and recall.\n",
        "    - Asian patients again have slightly lower performance metrics compared to other races.\n",
        "\n",
        "- All Features Model:\n",
        "    - Including all features, including hidden hypoxemia, improves performance metrics across all races, especially in accuracy and AUC.\n",
        "    - Hispanic or Latino and Black patients benefit the most from the inclusion of all features, showing the highest weighted F1-scores and AUC.\n",
        "\n",
        "- Impact of Hidden Hypoxemia:\n",
        "    - The inclusion of hidden hypoxemia appears to enhance the model's ability to predict in-hospital mortality across all racial groups, but particularly for Black and Hispanic or Latino patients.\n",
        "    - This suggests that accounting for hidden biases like hypoxemia is crucial for creating more accurate and equitable predictive models in healthcare.\n",
        "\n",
        "- Exaggerated SpO2:\n",
        "    - For White patients, the exaggerated SpO2 model performs similarly to the model with SpO2.\n",
        "    - Black patients show a marked decrease in weighted precision, indicating the adverse impact of exaggerated SpO2 on prediction accuracy.\n",
        "    - Hispanic or Latino and Asian patients' metrics are relatively stable, suggesting the impact of exaggerated SpO2 may be more pronounced for Black patients.\n",
        "\n",
        "\n",
        "* General Observations:\n",
        "    - Models using SaO2 only tend to have higher precision and recall for Black patients compared to others, potentially reflecting disparities in care or measurement accuracy.\n",
        "    - SpO2 alone performs well but slightly less effectively than models using all features, highlighting the importance of a comprehensive approach that includes multiple indicators and adjustments for biases.\n",
        "    - The inclusion of hidden hypoxemia and both SpO2 and SaO2 provides the most robust model for predicting in-hospital mortality, particularly benefiting Black patients who may be adversely affected by biases in SpO2 measurements.\n",
        "\n"
      ]
    },
    {
      "cell_type": "markdown",
      "id": "aa5b231c",
      "metadata": {
        "id": "aa5b231c"
      },
      "source": [
        "# Conclusion:\n",
        "The tutorial demonstrates the critical importance of understanding the origins and potential biases of the variables used in clinical measurements. By revealing the limitations of relying solely on SpO2, it highlights how combining SpO2 with SaO2 provides a more accurate and equitable assessment of patients' oxygen levels."
      ]
    }
  ],
  "metadata": {
    "kernelspec": {
      "display_name": "Python (bumblekite_tutorial)",
      "language": "python",
      "name": "bumblekite_tutorial"
    },
    "language_info": {
      "codemirror_mode": {
        "name": "ipython",
        "version": 3
      },
      "file_extension": ".py",
      "mimetype": "text/x-python",
      "name": "python",
      "nbconvert_exporter": "python",
      "pygments_lexer": "ipython3",
      "version": "3.8.19"
    },
    "colab": {
      "provenance": [],
      "collapsed_sections": [
        "2a8ce331",
        "88b12e56"
      ]
    }
  },
  "nbformat": 4,
  "nbformat_minor": 5
}